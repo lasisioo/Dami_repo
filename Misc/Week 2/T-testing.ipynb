{
 "cells": [
  {
   "cell_type": "markdown",
   "metadata": {},
   "source": [
    "T-testing"
   ]
  },
  {
   "cell_type": "code",
   "execution_count": 5,
   "metadata": {
    "collapsed": false
   },
   "outputs": [
    {
     "name": "stdout",
     "output_type": "stream",
     "text": [
      "156.666666667\n",
      "The t-stat is -5.115 and the p-value is 0.004\n"
     ]
    }
   ],
   "source": [
    "from scipy import stats\n",
    "import numpy as np\n",
    "import scipy as sp\n",
    "\n",
    "# to do a one-sample ttest -->\n",
    "# take a small sample\n",
    "data = [175, 183, 146, 134, 149, 153]\n",
    "print np.mean(data)\n",
    "\n",
    "oneSample = stats.ttest_1samp(data, 195.5)\n",
    "# 195.5 comes from the internet as the average weight of American men\n",
    "print \"The t-stat is %.3f and the p-value is %.3f\" %oneSample"
   ]
  },
  {
   "cell_type": "code",
   "execution_count": 10,
   "metadata": {
    "collapsed": false
   },
   "outputs": [
    {
     "name": "stdout",
     "output_type": "stream",
     "text": [
      "156.666666667 132.666666667\n",
      "The t-stat is 2.641 and the p-value is 0.025\n"
     ]
    }
   ],
   "source": [
    "# to do the two sample ttest -->\n",
    "male = [175, 183, 146, 134, 149, 153]\n",
    "female = [126, 143, 118, 126, 151, 132]\n",
    "print np.mean(male), np.mean(female)\n",
    "\n",
    "twoSample = stats.ttest_ind(male, female)\n",
    "print \"The t-stat is %.3f and the p-value is %.3f\" %twoSample"
   ]
  },
  {
   "cell_type": "code",
   "execution_count": 13,
   "metadata": {
    "collapsed": false
   },
   "outputs": [
    {
     "name": "stdout",
     "output_type": "stream",
     "text": [
      "132.666666667 128.0\n",
      "The t-stat is -1.976 and the p-value is 0.105\n"
     ]
    }
   ],
   "source": [
    "# to do a paired ttest --> \n",
    "female = [126, 143, 118, 126, 151, 132]\n",
    "femaleAfterZumba = [124, 132, 121, 126, 141, 124]\n",
    "\n",
    "print np.mean(female), np.mean(femaleAfterZumba)\n",
    "\n",
    "pairedTest = stats.ttest_rel(femaleAfterZumba, female)\n",
    "print \"The t-stat is %.3f and the p-value is %.3f\" %pairedTest"
   ]
  },
  {
   "cell_type": "code",
   "execution_count": null,
   "metadata": {
    "collapsed": true
   },
   "outputs": [],
   "source": [
    "# t-values are affected by a combination of (1)the difference in the means and (2)the variance.\n",
    "# A higher varian increases the p-value.\n"
   ]
  }
 ],
 "metadata": {
  "kernelspec": {
   "display_name": "Python 2",
   "language": "python",
   "name": "python2"
  },
  "language_info": {
   "codemirror_mode": {
    "name": "ipython",
    "version": 2
   },
   "file_extension": ".py",
   "mimetype": "text/x-python",
   "name": "python",
   "nbconvert_exporter": "python",
   "pygments_lexer": "ipython2",
   "version": "2.7.11"
  }
 },
 "nbformat": 4,
 "nbformat_minor": 0
}
