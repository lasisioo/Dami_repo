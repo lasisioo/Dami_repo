{
 "cells": [
  {
   "cell_type": "code",
   "execution_count": 12,
   "metadata": {
    "collapsed": false
   },
   "outputs": [],
   "source": [
    "from scipy import stats\n",
    "from scipy.stats import norm\n",
    "\n",
    "standardNorm = norm\n",
    "nonStandardNorm = norm(1.0,1)\n",
    "standardNorm2 = norm\n",
    "\n",
    "standardValues  = standardNorm.rvs(size=5)\n",
    "nonStandardValues = nonStandardNorm.rvs(size=5)\n",
    "standardValues2 = standardNorm2.rvs(size=5)"
   ]
  },
  {
   "cell_type": "code",
   "execution_count": 13,
   "metadata": {
    "collapsed": false
   },
   "outputs": [
    {
     "name": "stdout",
     "output_type": "stream",
     "text": [
      "Ttest_indResult(statistic=-0.19058977282520342, pvalue=0.85359470330598064)\n"
     ]
    }
   ],
   "source": [
    "pValue = stats.ttest_ind(standardValues, standardValues2)\n",
    "print pValue"
   ]
  },
  {
   "cell_type": "code",
   "execution_count": null,
   "metadata": {
    "collapsed": true
   },
   "outputs": [],
   "source": []
  }
 ],
 "metadata": {
  "kernelspec": {
   "display_name": "Python 2",
   "language": "python",
   "name": "python2"
  },
  "language_info": {
   "codemirror_mode": {
    "name": "ipython",
    "version": 2
   },
   "file_extension": ".py",
   "mimetype": "text/x-python",
   "name": "python",
   "nbconvert_exporter": "python",
   "pygments_lexer": "ipython2",
   "version": "2.7.11"
  }
 },
 "nbformat": 4,
 "nbformat_minor": 0
}
