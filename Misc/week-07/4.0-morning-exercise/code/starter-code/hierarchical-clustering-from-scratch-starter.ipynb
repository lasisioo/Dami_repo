{
 "cells": [
  {
   "cell_type": "markdown",
   "metadata": {},
   "source": [
    "# hierarchical clustering from scratch!\n",
    "Writing your own hierarchical clustering algorithm will reinforce your understanding of how it works, improve your Python skills, and it's not as hard as you think.\n",
    "## Refresher on how (agglomerative) hierarchical clustering works\n",
    "Start off by treating each point as its own cluster.  The two closest points get joined into a cluster.  Repeat, but now a \"point\" can be a point or a cluster.\n",
    "## Initialize the clusters\n",
    "We will start out with two big clusters, as in the k-means-from-scratch exercise."
   ]
  },
  {
   "cell_type": "code",
   "execution_count": 1,
   "metadata": {
    "collapsed": true
   },
   "outputs": [],
   "source": [
    "import random\n",
    "import numpy as np\n",
    "from matplotlib import pyplot as plt\n",
    "import pandas as pd\n",
    "from scipy.spatial import distance\n",
    "%matplotlib inline"
   ]
  },
  {
   "cell_type": "code",
   "execution_count": 2,
   "metadata": {
    "collapsed": false
   },
   "outputs": [
    {
     "data": {
      "image/png": "[encoded data removed]",
      "text/plain": [
       "<matplotlib.figure.Figure at 0x11568ee50>"
      ]
     },
     "metadata": {},
     "output_type": "display_data"
    }
   ],
   "source": [
    "# Create points\n",
    "\n",
    "random.seed(0)\n",
    "sizeOfClusters = 5\n",
    "\n",
    "cluster1 = pd.DataFrame(columns=[\"x\",\"y\",\"cluster\",\"color\",\"centroid\"])\n",
    "for i in range(sizeOfClusters):\n",
    "    # This will make a cluster of points centered around (0,0), with sd = 1\n",
    "    x = random.gauss(0,1) # gauss(mean, sd) (guassian distribution <=> normal distribution)\n",
    "    y = random.gauss(0,1)\n",
    "    cluster1.loc[i] = [x,y,1,'bo',np.array([x,y])]\n",
    "\n",
    "random.seed(1)    \n",
    "cluster2 = pd.DataFrame(columns=[\"x\",\"y\",\"cluster\",\"color\",\"centroid\"])\n",
    "for i in range(sizeOfClusters):\n",
    "    # This will make a cluster of points centered around (5,5), with sd = 1\n",
    "    x = random.gauss(5,1)\n",
    "    y = random.gauss(5,1)\n",
    "    cluster2.loc[i] = [x,y,2,'r+',np.array([x,y])]\n",
    "\n",
    "plt.plot(cluster1.x,cluster1.y,'bo')\n",
    "plt.plot(cluster2.x,cluster2.y,'r+')\n",
    "plt.show()"
   ]
  },
  {
   "cell_type": "code",
   "execution_count": 3,
   "metadata": {
    "collapsed": false
   },
   "outputs": [
    {
     "data": {
      "image/png": "[encoded data removed]",
      "text/plain": [
       "<matplotlib.figure.Figure at 0x115670c50>"
      ]
     },
     "metadata": {},
     "output_type": "display_data"
    }
   ],
   "source": [
    "# Now we combine the datasets, and you have to hierarchically cluster them.\n",
    "clusterF = pd.concat([cluster1,cluster2]).reset_index(drop=True)\n",
    "clusterF.cluster = range(len(clusterF)) # Each starts out as its own cluster.\n",
    "# We give them all distinct colors so we can distinguish between the clusters.\n",
    "colors = ['bo', 'go', 'ro', 'co', 'mo', 'b+', 'g+', 'r+', 'c+', 'm+']\n",
    "clusterF[\"color\"] = colors\n",
    "for i in range(len(clusterF)):\n",
    "    plt.plot(clusterF.loc[i,\"x\"],clusterF.loc[i,\"y\"],clusterF.loc[i,\"color\"])\n",
    "plt.show()"
   ]
  },
  {
   "cell_type": "code",
   "execution_count": 4,
   "metadata": {
    "collapsed": false
   },
   "outputs": [
    {
     "data": {
      "text/html": [
       "<div>\n",
       "<table border=\"1\" class=\"dataframe\">\n",
       "  <thead>\n",
       "    <tr style=\"text-align: right;\">\n",
       "      <th></th>\n",
       "      <th>x</th>\n",
       "      <th>y</th>\n",
       "      <th>cluster</th>\n",
       "      <th>color</th>\n",
       "      <th>centroid</th>\n",
       "    </tr>\n",
       "  </thead>\n",
       "  <tbody>\n",
       "    <tr>\n",
       "      <th>0</th>\n",
       "      <td>0.941715</td>\n",
       "      <td>-1.396578</td>\n",
       "      <td>0</td>\n",
       "      <td>bo</td>\n",
       "      <td>[0.941715404681, -1.3965781047]</td>\n",
       "    </tr>\n",
       "    <tr>\n",
       "      <th>1</th>\n",
       "      <td>-0.679714</td>\n",
       "      <td>0.370504</td>\n",
       "      <td>1</td>\n",
       "      <td>go</td>\n",
       "      <td>[-0.679714448078, 0.370503567461]</td>\n",
       "    </tr>\n",
       "    <tr>\n",
       "      <th>2</th>\n",
       "      <td>-1.016349</td>\n",
       "      <td>-0.072120</td>\n",
       "      <td>2</td>\n",
       "      <td>ro</td>\n",
       "      <td>[-1.01634889419, -0.0721200227851]</td>\n",
       "    </tr>\n",
       "    <tr>\n",
       "      <th>3</th>\n",
       "      <td>0.179196</td>\n",
       "      <td>-0.831099</td>\n",
       "      <td>3</td>\n",
       "      <td>co</td>\n",
       "      <td>[0.179196487275, -0.831099215271]</td>\n",
       "    </tr>\n",
       "    <tr>\n",
       "      <th>4</th>\n",
       "      <td>-1.309037</td>\n",
       "      <td>0.193888</td>\n",
       "      <td>4</td>\n",
       "      <td>mo</td>\n",
       "      <td>[-1.30903736446, 0.193887741249]</td>\n",
       "    </tr>\n",
       "    <tr>\n",
       "      <th>5</th>\n",
       "      <td>6.288185</td>\n",
       "      <td>6.449446</td>\n",
       "      <td>5</td>\n",
       "      <td>b+</td>\n",
       "      <td>[6.28818475316, 6.4494456087]</td>\n",
       "    </tr>\n",
       "    <tr>\n",
       "      <th>6</th>\n",
       "      <td>5.066336</td>\n",
       "      <td>4.235456</td>\n",
       "      <td>6</td>\n",
       "      <td>g+</td>\n",
       "      <td>[5.06633580894, 4.23545634903]</td>\n",
       "    </tr>\n",
       "    <tr>\n",
       "      <th>7</th>\n",
       "      <td>3.907827</td>\n",
       "      <td>5.031335</td>\n",
       "      <td>7</td>\n",
       "      <td>r+</td>\n",
       "      <td>[3.9078267849, 5.03133451683]</td>\n",
       "    </tr>\n",
       "    <tr>\n",
       "      <th>8</th>\n",
       "      <td>3.977897</td>\n",
       "      <td>3.563171</td>\n",
       "      <td>8</td>\n",
       "      <td>c+</td>\n",
       "      <td>[3.97789682999, 3.5631705549]</td>\n",
       "    </tr>\n",
       "    <tr>\n",
       "      <th>9</th>\n",
       "      <td>5.199312</td>\n",
       "      <td>5.133375</td>\n",
       "      <td>9</td>\n",
       "      <td>m+</td>\n",
       "      <td>[5.19931197648, 5.13337460466]</td>\n",
       "    </tr>\n",
       "  </tbody>\n",
       "</table>\n",
       "</div>"
      ],
      "text/plain": [
       "          x         y  cluster color                            centroid\n",
       "0  0.941715 -1.396578        0    bo     [0.941715404681, -1.3965781047]\n",
       "1 -0.679714  0.370504        1    go   [-0.679714448078, 0.370503567461]\n",
       "2 -1.016349 -0.072120        2    ro  [-1.01634889419, -0.0721200227851]\n",
       "3  0.179196 -0.831099        3    co   [0.179196487275, -0.831099215271]\n",
       "4 -1.309037  0.193888        4    mo    [-1.30903736446, 0.193887741249]\n",
       "5  6.288185  6.449446        5    b+       [6.28818475316, 6.4494456087]\n",
       "6  5.066336  4.235456        6    g+      [5.06633580894, 4.23545634903]\n",
       "7  3.907827  5.031335        7    r+       [3.9078267849, 5.03133451683]\n",
       "8  3.977897  3.563171        8    c+       [3.97789682999, 3.5631705549]\n",
       "9  5.199312  5.133375        9    m+      [5.19931197648, 5.13337460466]"
      ]
     },
     "execution_count": 4,
     "metadata": {},
     "output_type": "execute_result"
    }
   ],
   "source": [
    "clusterF"
   ]
  },
  {
   "cell_type": "markdown",
   "metadata": {},
   "source": [
    "## Let's write some pseudo-code\n",
    "#### For an extra challenge to yourself, don't read the pseudo-code; just go off of your understanding of agglomerative hierarchical clustering.\n",
    "1. Begin with each point being its own cluster.\n",
    "2. Calculate the distances between all clusters (remember, a cluster can be one or more points, but initially, will be only one).\n",
    "3. Merge the two closest clusters. (Update the cluster column and the centroids for the newly merged clusters; also, update the color column, for the sake of the plot.)\n",
    "4. Repeat steps 2 and 3 until you have one big cluster.\n",
    "\n",
    "Note: we will use centroid linkage clustering.  That is to say, the distance between cluster `a` and cluster `b` will be defined as the distance between the centroids of the points in `a` and the points in `b` (the centroid of a set of points is just the average of the points).\n",
    "\n",
    "## Now, let's write some real code!"
   ]
  },
  {
   "cell_type": "code",
   "execution_count": 5,
   "metadata": {
    "collapsed": true
   },
   "outputs": [],
   "source": [
    "def notOneCluster(clusterF):\n",
    "    clusterRow0 = clusterF.loc[0,\"cluster\"]\n",
    "    for i in range(len(clusterF)):\n",
    "        if (clusterF.loc[i,\"cluster\"] != clusterRow0):\n",
    "            return True\n",
    "    return False"
   ]
  },
  {
   "cell_type": "code",
   "execution_count": 6,
   "metadata": {
    "collapsed": false,
    "scrolled": false
   },
   "outputs": [
    {
     "name": "stdout",
     "output_type": "stream",
     "text": [
      "          x         y  cluster color                            centroid\n",
      "0  0.941715 -1.396578        0    bo     [0.941715404681, -1.3965781047]\n",
      "1 -0.679714  0.370504        1    go   [-0.679714448078, 0.370503567461]\n",
      "2 -1.016349 -0.072120        2    ro  [-1.01634889419, -0.0721200227851]\n",
      "3  0.179196 -0.831099        3    co   [0.179196487275, -0.831099215271]\n",
      "4 -1.309037  0.193888        4    mo    [-1.30903736446, 0.193887741249]\n",
      "5  6.288185  6.449446        5    b+       [6.28818475316, 6.4494456087]\n",
      "6  5.066336  4.235456        6    g+      [5.06633580894, 4.23545634903]\n",
      "7  3.907827  5.031335        7    r+       [3.9078267849, 5.03133451683]\n",
      "8  3.977897  3.563171        8    c+       [3.97789682999, 3.5631705549]\n",
      "9  5.199312  5.133375        9    m+      [5.19931197648, 5.13337460466]\n"
     ]
    },
    {
     "data": {
      "image/png": "[encoded data removed]",
      "text/plain": [
       "<matplotlib.figure.Figure at 0x11568e950>"
      ]
     },
     "metadata": {},
     "output_type": "display_data"
    },
    {
     "name": "stdout",
     "output_type": "stream",
     "text": [
      "minimumDistance 2.39825194746 icluster 0 jCluster 1\n",
      "minimumDistance 2.36393845293 icluster 0 jCluster 2\n",
      "minimumDistance 0.949316319144 icluster 0 jCluster 3\n",
      "minimumDistance 0.556092072367 icluster 1 jCluster 2\n",
      "minimumDistance 0.395508117687 icluster 2 jCluster 4\n",
      "I changed my cluster 2 4\n",
      "          x         y  cluster color                            centroid\n",
      "0  0.941715 -1.396578        0    bo     [0.941715404681, -1.3965781047]\n",
      "1 -0.679714  0.370504        1    go   [-0.679714448078, 0.370503567461]\n",
      "2 -1.016349 -0.072120        2    ro  [-1.01634889419, -0.0721200227851]\n",
      "3  0.179196 -0.831099        3    co   [0.179196487275, -0.831099215271]\n",
      "4 -1.309037  0.193888        2    ro    [-1.30903736446, 0.193887741249]\n",
      "5  6.288185  6.449446        5    b+       [6.28818475316, 6.4494456087]\n",
      "6  5.066336  4.235456        6    g+      [5.06633580894, 4.23545634903]\n",
      "7  3.907827  5.031335        7    r+       [3.9078267849, 5.03133451683]\n",
      "8  3.977897  3.563171        8    c+       [3.97789682999, 3.5631705549]\n",
      "9  5.199312  5.133375        9    m+      [5.19931197648, 5.13337460466]\n"
     ]
    },
    {
     "data": {
      "image/png": "[encoded data removed]",
      "text/plain": [
       "<matplotlib.figure.Figure at 0x118909f50>"
      ]
     },
     "metadata": {},
     "output_type": "display_data"
    },
    {
     "name": "stdout",
     "output_type": "stream",
     "text": [
      "minimumDistance 2.39825194746 icluster 0 jCluster 1\n",
      "minimumDistance 2.36393845293 icluster 0 jCluster 2\n",
      "minimumDistance 0.949316319144 icluster 0 jCluster 3\n",
      "minimumDistance 0.556092072367 icluster 1 jCluster 2\n",
      "I changed my cluster 1 2\n",
      "I changed my cluster 1 2\n",
      "          x         y  cluster color                            centroid\n",
      "0  0.941715 -1.396578        0    bo     [0.941715404681, -1.3965781047]\n",
      "1 -0.679714  0.370504        1    go   [-0.679714448078, 0.370503567461]\n",
      "2 -1.016349 -0.072120        1    go  [-1.01634889419, -0.0721200227851]\n",
      "3  0.179196 -0.831099        3    co   [0.179196487275, -0.831099215271]\n",
      "4 -1.309037  0.193888        1    go    [-1.30903736446, 0.193887741249]\n",
      "5  6.288185  6.449446        5    b+       [6.28818475316, 6.4494456087]\n",
      "6  5.066336  4.235456        6    g+      [5.06633580894, 4.23545634903]\n",
      "7  3.907827  5.031335        7    r+       [3.9078267849, 5.03133451683]\n",
      "8  3.977897  3.563171        8    c+       [3.97789682999, 3.5631705549]\n",
      "9  5.199312  5.133375        9    m+      [5.19931197648, 5.13337460466]\n"
     ]
    },
    {
     "data": {
      "image/png": "[encoded data removed]",
      "text/plain": [
       "<matplotlib.figure.Figure at 0x118bd7290>"
      ]
     },
     "metadata": {},
     "output_type": "display_data"
    },
    {
     "name": "stdout",
     "output_type": "stream",
     "text": [
      "minimumDistance 2.39825194746 icluster 0 jCluster 1\n",
      "minimumDistance 2.36393845293 icluster 0 jCluster 1\n",
      "minimumDistance 0.949316319144 icluster 0 jCluster 3\n",
      "minimumDistance 0.907711327972 icluster 6 jCluster 9\n",
      "I changed my cluster 6 9\n",
      "          x         y  cluster color                            centroid\n",
      "0  0.941715 -1.396578        0    bo     [0.941715404681, -1.3965781047]\n",
      "1 -0.679714  0.370504        1    go   [-0.679714448078, 0.370503567461]\n",
      "2 -1.016349 -0.072120        1    go  [-1.01634889419, -0.0721200227851]\n",
      "3  0.179196 -0.831099        3    co   [0.179196487275, -0.831099215271]\n",
      "4 -1.309037  0.193888        1    go    [-1.30903736446, 0.193887741249]\n",
      "5  6.288185  6.449446        5    b+       [6.28818475316, 6.4494456087]\n",
      "6  5.066336  4.235456        6    g+      [5.06633580894, 4.23545634903]\n",
      "7  3.907827  5.031335        7    r+       [3.9078267849, 5.03133451683]\n",
      "8  3.977897  3.563171        8    c+       [3.97789682999, 3.5631705549]\n",
      "9  5.199312  5.133375        6    g+      [5.19931197648, 5.13337460466]\n"
     ]
    },
    {
     "data": {
      "image/png": "[encoded data removed]",
      "text/plain": [
       "<matplotlib.figure.Figure at 0x118ea3510>"
      ]
     },
     "metadata": {},
     "output_type": "display_data"
    },
    {
     "name": "stdout",
     "output_type": "stream",
     "text": [
      "minimumDistance 2.39825194746 icluster 0 jCluster 1\n",
      "minimumDistance 2.36393845293 icluster 0 jCluster 1\n",
      "minimumDistance 0.949316319144 icluster 0 jCluster 3\n",
      "I changed my cluster 0 3\n",
      "          x         y  cluster color                            centroid\n",
      "0  0.941715 -1.396578        0    bo     [0.941715404681, -1.3965781047]\n",
      "1 -0.679714  0.370504        1    go   [-0.679714448078, 0.370503567461]\n",
      "2 -1.016349 -0.072120        1    go  [-1.01634889419, -0.0721200227851]\n",
      "3  0.179196 -0.831099        0    bo   [0.179196487275, -0.831099215271]\n",
      "4 -1.309037  0.193888        1    go    [-1.30903736446, 0.193887741249]\n",
      "5  6.288185  6.449446        5    b+       [6.28818475316, 6.4494456087]\n",
      "6  5.066336  4.235456        6    g+      [5.06633580894, 4.23545634903]\n",
      "7  3.907827  5.031335        7    r+       [3.9078267849, 5.03133451683]\n",
      "8  3.977897  3.563171        8    c+       [3.97789682999, 3.5631705549]\n",
      "9  5.199312  5.133375        6    g+      [5.19931197648, 5.13337460466]\n"
     ]
    },
    {
     "data": {
      "image/png": "[encoded data removed]",
      "text/plain": [
       "<matplotlib.figure.Figure at 0x118ecf390>"
      ]
     },
     "metadata": {},
     "output_type": "display_data"
    },
    {
     "name": "stdout",
     "output_type": "stream",
     "text": [
      "minimumDistance 2.39825194746 icluster 0 jCluster 1\n",
      "minimumDistance 2.36393845293 icluster 0 jCluster 1\n",
      "minimumDistance 1.4770163311 icluster 1 jCluster 0\n",
      "minimumDistance 1.41611375735 icluster 1 jCluster 0\n",
      "minimumDistance 1.40554801297 icluster 6 jCluster 7\n",
      "minimumDistance 1.27932310222 icluster 6 jCluster 8\n",
      "I changed my cluster 6 8\n",
      "          x         y  cluster color                            centroid\n",
      "0  0.941715 -1.396578        0    bo     [0.941715404681, -1.3965781047]\n",
      "1 -0.679714  0.370504        1    go   [-0.679714448078, 0.370503567461]\n",
      "2 -1.016349 -0.072120        1    go  [-1.01634889419, -0.0721200227851]\n",
      "3  0.179196 -0.831099        0    bo   [0.179196487275, -0.831099215271]\n",
      "4 -1.309037  0.193888        1    go    [-1.30903736446, 0.193887741249]\n",
      "5  6.288185  6.449446        5    b+       [6.28818475316, 6.4494456087]\n",
      "6  5.066336  4.235456        6    g+      [5.06633580894, 4.23545634903]\n",
      "7  3.907827  5.031335        7    r+       [3.9078267849, 5.03133451683]\n",
      "8  3.977897  3.563171        6    g+       [3.97789682999, 3.5631705549]\n",
      "9  5.199312  5.133375        6    g+      [5.19931197648, 5.13337460466]\n"
     ]
    },
    {
     "data": {
      "image/png": "[encoded data removed]",
      "text/plain": [
       "<matplotlib.figure.Figure at 0x118bba210>"
      ]
     },
     "metadata": {},
     "output_type": "display_data"
    },
    {
     "name": "stdout",
     "output_type": "stream",
     "text": [
      "minimumDistance 2.39825194746 icluster 0 jCluster 1\n",
      "minimumDistance 2.36393845293 icluster 0 jCluster 1\n",
      "minimumDistance 1.4770163311 icluster 1 jCluster 0\n",
      "minimumDistance 1.41611375735 icluster 1 jCluster 0\n",
      "minimumDistance 1.40554801297 icluster 6 jCluster 7\n",
      "minimumDistance 1.29551000753 icluster 7 jCluster 6\n",
      "I changed my cluster 7 6\n",
      "I changed my cluster 7 6\n",
      "I changed my cluster 7 6\n",
      "          x         y  cluster color                            centroid\n",
      "0  0.941715 -1.396578        0    bo     [0.941715404681, -1.3965781047]\n",
      "1 -0.679714  0.370504        1    go   [-0.679714448078, 0.370503567461]\n",
      "2 -1.016349 -0.072120        1    go  [-1.01634889419, -0.0721200227851]\n",
      "3  0.179196 -0.831099        0    bo   [0.179196487275, -0.831099215271]\n",
      "4 -1.309037  0.193888        1    go    [-1.30903736446, 0.193887741249]\n",
      "5  6.288185  6.449446        5    b+       [6.28818475316, 6.4494456087]\n",
      "6  5.066336  4.235456        7    r+      [5.06633580894, 4.23545634903]\n",
      "7  3.907827  5.031335        7    r+       [3.9078267849, 5.03133451683]\n",
      "8  3.977897  3.563171        7    r+       [3.97789682999, 3.5631705549]\n",
      "9  5.199312  5.133375        7    r+      [5.19931197648, 5.13337460466]\n"
     ]
    },
    {
     "data": {
      "image/png": "[encoded data removed]",
      "text/plain": [
       "<matplotlib.figure.Figure at 0x117a6b290>"
      ]
     },
     "metadata": {},
     "output_type": "display_data"
    },
    {
     "name": "stdout",
     "output_type": "stream",
     "text": [
      "minimumDistance 2.39825194746 icluster 0 jCluster 1\n",
      "minimumDistance 2.36393845293 icluster 0 jCluster 1\n",
      "minimumDistance 1.4770163311 icluster 1 jCluster 0\n",
      "minimumDistance 1.41611375735 icluster 1 jCluster 0\n",
      "I changed my cluster 1 0\n",
      "I changed my cluster 1 0\n",
      "          x         y  cluster color                            centroid\n",
      "0  0.941715 -1.396578        1    go     [0.941715404681, -1.3965781047]\n",
      "1 -0.679714  0.370504        1    go   [-0.679714448078, 0.370503567461]\n",
      "2 -1.016349 -0.072120        1    go  [-1.01634889419, -0.0721200227851]\n",
      "3  0.179196 -0.831099        1    go   [0.179196487275, -0.831099215271]\n",
      "4 -1.309037  0.193888        1    go    [-1.30903736446, 0.193887741249]\n",
      "5  6.288185  6.449446        5    b+       [6.28818475316, 6.4494456087]\n",
      "6  5.066336  4.235456        7    r+      [5.06633580894, 4.23545634903]\n",
      "7  3.907827  5.031335        7    r+       [3.9078267849, 5.03133451683]\n",
      "8  3.977897  3.563171        7    r+       [3.97789682999, 3.5631705549]\n",
      "9  5.199312  5.133375        7    r+      [5.19931197648, 5.13337460466]\n"
     ]
    },
    {
     "data": {
      "image/png": "[encoded data removed]",
      "text/plain": [
       "<matplotlib.figure.Figure at 0x118cd2c10>"
      ]
     },
     "metadata": {},
     "output_type": "display_data"
    },
    {
     "name": "stdout",
     "output_type": "stream",
     "text": [
      "minimumDistance 9.4944627339 icluster 1 jCluster 5\n",
      "minimumDistance 6.98085278223 icluster 1 jCluster 7\n",
      "minimumDistance 5.81528197199 icluster 1 jCluster 7\n",
      "minimumDistance 5.64681018897 icluster 1 jCluster 7\n",
      "minimumDistance 2.52876714713 icluster 5 jCluster 7\n",
      "minimumDistance 1.70812376936 icluster 5 jCluster 7\n",
      "I changed my cluster 5 7\n",
      "I changed my cluster 5 7\n",
      "I changed my cluster 5 7\n",
      "I changed my cluster 5 7\n",
      "          x         y  cluster color                            centroid\n",
      "0  0.941715 -1.396578        1    go     [0.941715404681, -1.3965781047]\n",
      "1 -0.679714  0.370504        1    go   [-0.679714448078, 0.370503567461]\n",
      "2 -1.016349 -0.072120        1    go  [-1.01634889419, -0.0721200227851]\n",
      "3  0.179196 -0.831099        1    go   [0.179196487275, -0.831099215271]\n",
      "4 -1.309037  0.193888        1    go    [-1.30903736446, 0.193887741249]\n",
      "5  6.288185  6.449446        5    b+       [6.28818475316, 6.4494456087]\n",
      "6  5.066336  4.235456        5    b+      [5.06633580894, 4.23545634903]\n",
      "7  3.907827  5.031335        5    b+       [3.9078267849, 5.03133451683]\n",
      "8  3.977897  3.563171        5    b+       [3.97789682999, 3.5631705549]\n",
      "9  5.199312  5.133375        5    b+      [5.19931197648, 5.13337460466]\n"
     ]
    },
    {
     "data": {
      "image/png": "[encoded data removed]",
      "text/plain": [
       "<matplotlib.figure.Figure at 0x117e89e90>"
      ]
     },
     "metadata": {},
     "output_type": "display_data"
    },
    {
     "name": "stdout",
     "output_type": "stream",
     "text": [
      "minimumDistance 9.4944627339 icluster 1 jCluster 5\n",
      "minimumDistance 6.98085278223 icluster 1 jCluster 5\n",
      "minimumDistance 5.81528197199 icluster 1 jCluster 5\n",
      "minimumDistance 5.64681018897 icluster 1 jCluster 5\n",
      "I changed my cluster 1 5\n",
      "I changed my cluster 1 5\n",
      "I changed my cluster 1 5\n",
      "I changed my cluster 1 5\n",
      "I changed my cluster 1 5\n"
     ]
    }
   ],
   "source": [
    "while (notOneCluster(clusterF)):\n",
    "    # Plot within the loop so you can see the progress\n",
    "    print(clusterF)\n",
    "    for i in range(len(clusterF)):\n",
    "        plt.plot(clusterF.loc[i,\"x\"],clusterF.loc[i,\"y\"],clusterF.loc[i,\"color\"])\n",
    "    plt.show()\n",
    "    # Find the minimum distance clusters\n",
    "    minimumDistance = 1000\n",
    "    iCluster = -1\n",
    "    jCluster = -1\n",
    "    iMin = -1\n",
    "    for i in range(len(clusterF)):\n",
    "        for j in range(i+1, len(clusterF)):\n",
    "            if clusterF.loc[i,\"cluster\"] == clusterF.loc[j,\"cluster\"]:\n",
    "                continue\n",
    "            distanceIJ = distance.euclidean(clusterF.loc[i,\"centroid\"], clusterF.loc[j,\"centroid\"])\n",
    "            if distanceIJ < minimumDistance:\n",
    "                minimumDistance = distanceIJ\n",
    "                iCluster = clusterF.loc[i,\"cluster\"]\n",
    "                jCluster = clusterF.loc[j,\"cluster\"]\n",
    "                iMin = i\n",
    "                #print \"minimumDistance\", minimumDistance, \"icluster\", iCluster, \"jCluster\", jCluster\n",
    "    # Merge the minimum distance clusters: jCluster's become iCluster's.\n",
    "    for i in range(len(clusterF)):\n",
    "        if (clusterF.loc[i,\"cluster\"] == jCluster):\n",
    "            clusterF.loc[i,\"cluster\"] = iCluster\n",
    "            clusterF.loc[i,\"color\"] = clusterF.loc[iMin,\"color\"]\n",
    "            #print \"I changed my cluster\", iCluster, jCluster\n",
    "    # Recalculate the centroids for the newly merged clusters\n",
    "    newCentroid = np.array([0.0,0.0])\n",
    "    count = 0\n",
    "    for i in range(len(clusterF)):\n",
    "        if (clusterF.loc[i,\"cluster\"] == jCluster):\n",
    "            newCentroid += np.array([clusterF.loc[i,\"x\"], clusterF.loc[i,\"y\"]])\n",
    "            count +=1\n",
    "    newCentroid /= count\n",
    "    for i in range(len(clusterF)):\n",
    "        if (clusterF.loc[i,\"cluster\"] == jCluster):\n",
    "            clusterF.set_values(i, \"centroid\", newCentroid)\n",
    "    "
   ]
  },
  {
   "cell_type": "code",
   "execution_count": null,
   "metadata": {
    "collapsed": true
   },
   "outputs": [],
   "source": []
  },
  {
   "cell_type": "code",
   "execution_count": null,
   "metadata": {
    "collapsed": true
   },
   "outputs": [],
   "source": []
  }
 ],
 "metadata": {
  "anaconda-cloud": {},
  "kernelspec": {
   "display_name": "Python [Root]",
   "language": "python",
   "name": "Python [Root]"
  },
  "language_info": {
   "codemirror_mode": {
    "name": "ipython",
    "version": 2
   },
   "file_extension": ".py",
   "mimetype": "text/x-python",
   "name": "python",
   "nbconvert_exporter": "python",
   "pygments_lexer": "ipython2",
   "version": "2.7.12"
  }
 },
 "nbformat": 4,
 "nbformat_minor": 0
}
