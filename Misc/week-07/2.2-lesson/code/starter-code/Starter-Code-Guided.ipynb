{
 "cells": [
  {
   "cell_type": "markdown",
   "metadata": {},
   "source": [
    "## Lesson 2.2: Guided Practice"
   ]
  },
  {
   "cell_type": "code",
   "execution_count": 20,
   "metadata": {
    "collapsed": true
   },
   "outputs": [],
   "source": [
    "import pandas as pd\n",
    "import numpy as np\n",
    "import os\n",
    "from matplotlib import pyplot as plt\n",
    "import numpy as np\n",
    "import math\n",
    "import seaborn as sns\n",
    "from sklearn.preprocessing import StandardScaler\n",
    "from sklearn.decomposition import PCA \n",
    "%matplotlib inline"
   ]
  },
  {
   "cell_type": "markdown",
   "metadata": {},
   "source": [
    "First, let's import our data. We'll be using *Iris* again for this exercise. "
   ]
  },
  {
   "cell_type": "code",
   "execution_count": 21,
   "metadata": {
    "collapsed": false
   },
   "outputs": [
    {
     "data": {
      "text/html": [
       "<div>\n",
       "<table border=\"1\" class=\"dataframe\">\n",
       "  <thead>\n",
       "    <tr style=\"text-align: right;\">\n",
       "      <th></th>\n",
       "      <th>SepalLength</th>\n",
       "      <th>SepalWidth</th>\n",
       "      <th>PetalLength</th>\n",
       "      <th>PetalWidth</th>\n",
       "      <th>Name</th>\n",
       "    </tr>\n",
       "  </thead>\n",
       "  <tbody>\n",
       "    <tr>\n",
       "      <th>0</th>\n",
       "      <td>5.1</td>\n",
       "      <td>3.5</td>\n",
       "      <td>1.4</td>\n",
       "      <td>0.2</td>\n",
       "      <td>Iris-setosa</td>\n",
       "    </tr>\n",
       "    <tr>\n",
       "      <th>1</th>\n",
       "      <td>4.9</td>\n",
       "      <td>3.0</td>\n",
       "      <td>1.4</td>\n",
       "      <td>0.2</td>\n",
       "      <td>Iris-setosa</td>\n",
       "    </tr>\n",
       "    <tr>\n",
       "      <th>2</th>\n",
       "      <td>4.7</td>\n",
       "      <td>3.2</td>\n",
       "      <td>1.3</td>\n",
       "      <td>0.2</td>\n",
       "      <td>Iris-setosa</td>\n",
       "    </tr>\n",
       "    <tr>\n",
       "      <th>3</th>\n",
       "      <td>4.6</td>\n",
       "      <td>3.1</td>\n",
       "      <td>1.5</td>\n",
       "      <td>0.2</td>\n",
       "      <td>Iris-setosa</td>\n",
       "    </tr>\n",
       "    <tr>\n",
       "      <th>4</th>\n",
       "      <td>5.0</td>\n",
       "      <td>3.6</td>\n",
       "      <td>1.4</td>\n",
       "      <td>0.2</td>\n",
       "      <td>Iris-setosa</td>\n",
       "    </tr>\n",
       "  </tbody>\n",
       "</table>\n",
       "</div>"
      ],
      "text/plain": [
       "   SepalLength  SepalWidth  PetalLength  PetalWidth         Name\n",
       "0          5.1         3.5          1.4         0.2  Iris-setosa\n",
       "1          4.9         3.0          1.4         0.2  Iris-setosa\n",
       "2          4.7         3.2          1.3         0.2  Iris-setosa\n",
       "3          4.6         3.1          1.5         0.2  Iris-setosa\n",
       "4          5.0         3.6          1.4         0.2  Iris-setosa"
      ]
     },
     "execution_count": 21,
     "metadata": {},
     "output_type": "execute_result"
    }
   ],
   "source": [
    "iris = pd.read_csv(\"../../assets/datasets/iris.csv\")\n",
    "iris.head()"
   ]
  },
  {
   "cell_type": "markdown",
   "metadata": {},
   "source": [
    "## Step 1: Split the set into two sets"
   ]
  },
  {
   "cell_type": "markdown",
   "metadata": {},
   "source": [
    "As in 2.1, let's split the set into two parts. \"X\" will be the data and \"Y\" will be the class labels."
   ]
  },
  {
   "cell_type": "code",
   "execution_count": 22,
   "metadata": {
    "collapsed": true
   },
   "outputs": [],
   "source": [
    "X = iris.loc[:,:\"PetalWidth\"]\n",
    "y = iris.loc[:,\"Name\"]"
   ]
  },
  {
   "cell_type": "markdown",
   "metadata": {},
   "source": [
    "## Step 2: Explore the Data"
   ]
  },
  {
   "cell_type": "markdown",
   "metadata": {},
   "source": [
    "Next - Let's plot! You can use any plotting library of your choice, but be sure to explore all of the data. "
   ]
  },
  {
   "cell_type": "code",
   "execution_count": 23,
   "metadata": {
    "collapsed": false
   },
   "outputs": [
    {
     "data": {
      "text/plain": [
       "<seaborn.axisgrid.PairGrid at 0x11bf87c10>"
      ]
     },
     "execution_count": 23,
     "metadata": {},
     "output_type": "execute_result"
    },
    {
     "data": {
      "image/png": "[encoded data removed]",
      "text/plain": [
       "<matplotlib.figure.Figure at 0x11d28b690>"
      ]
     },
     "metadata": {},
     "output_type": "display_data"
    }
   ],
   "source": [
    "sns.pairplot(X)"
   ]
  },
  {
   "cell_type": "markdown",
   "metadata": {},
   "source": [
    "## Step 3: Covariance Matrix"
   ]
  },
  {
   "cell_type": "markdown",
   "metadata": {},
   "source": [
    "First, standarize the data. While the Iris data attributes are all measured in the same units (cm), this is a worthwhile step for optimization and good practice for more unruly datasets!"
   ]
  },
  {
   "cell_type": "code",
   "execution_count": 55,
   "metadata": {
    "collapsed": false
   },
   "outputs": [
    {
     "data": {
      "text/plain": [
       "array([[ -9.00681170e-01,   1.03205722e+00,  -1.34127240e+00,\n",
       "         -1.31297673e+00],\n",
       "       [ -1.14301691e+00,  -1.24957601e-01,  -1.34127240e+00,\n",
       "         -1.31297673e+00],\n",
       "       [ -1.38535265e+00,   3.37848329e-01,  -1.39813811e+00,\n",
       "         -1.31297673e+00],\n",
       "       [ -1.50652052e+00,   1.06445364e-01,  -1.28440670e+00,\n",
       "         -1.31297673e+00],\n",
       "       [ -1.02184904e+00,   1.26346019e+00,  -1.34127240e+00,\n",
       "         -1.31297673e+00],\n",
       "       [ -5.37177559e-01,   1.95766909e+00,  -1.17067529e+00,\n",
       "         -1.05003079e+00],\n",
       "       [ -1.50652052e+00,   8.00654259e-01,  -1.34127240e+00,\n",
       "         -1.18150376e+00],\n",
       "       [ -1.02184904e+00,   8.00654259e-01,  -1.28440670e+00,\n",
       "         -1.31297673e+00],\n",
       "       [ -1.74885626e+00,  -3.56360566e-01,  -1.34127240e+00,\n",
       "         -1.31297673e+00],\n",
       "       [ -1.14301691e+00,   1.06445364e-01,  -1.28440670e+00,\n",
       "         -1.44444970e+00],\n",
       "       [ -5.37177559e-01,   1.49486315e+00,  -1.28440670e+00,\n",
       "         -1.31297673e+00],\n",
       "       [ -1.26418478e+00,   8.00654259e-01,  -1.22754100e+00,\n",
       "         -1.31297673e+00],\n",
       "       [ -1.26418478e+00,  -1.24957601e-01,  -1.34127240e+00,\n",
       "         -1.44444970e+00],\n",
       "       [ -1.87002413e+00,  -1.24957601e-01,  -1.51186952e+00,\n",
       "         -1.44444970e+00],\n",
       "       [ -5.25060772e-02,   2.18907205e+00,  -1.45500381e+00,\n",
       "         -1.31297673e+00],\n",
       "       [ -1.73673948e-01,   3.11468391e+00,  -1.28440670e+00,\n",
       "         -1.05003079e+00],\n",
       "       [ -5.37177559e-01,   1.95766909e+00,  -1.39813811e+00,\n",
       "         -1.05003079e+00],\n",
       "       [ -9.00681170e-01,   1.03205722e+00,  -1.34127240e+00,\n",
       "         -1.18150376e+00],\n",
       "       [ -1.73673948e-01,   1.72626612e+00,  -1.17067529e+00,\n",
       "         -1.18150376e+00],\n",
       "       [ -9.00681170e-01,   1.72626612e+00,  -1.28440670e+00,\n",
       "         -1.18150376e+00],\n",
       "       [ -5.37177559e-01,   8.00654259e-01,  -1.17067529e+00,\n",
       "         -1.31297673e+00],\n",
       "       [ -9.00681170e-01,   1.49486315e+00,  -1.28440670e+00,\n",
       "         -1.05003079e+00],\n",
       "       [ -1.50652052e+00,   1.26346019e+00,  -1.56873522e+00,\n",
       "         -1.31297673e+00],\n",
       "       [ -9.00681170e-01,   5.69251294e-01,  -1.17067529e+00,\n",
       "         -9.18557817e-01],\n",
       "       [ -1.26418478e+00,   8.00654259e-01,  -1.05694388e+00,\n",
       "         -1.31297673e+00],\n",
       "       [ -1.02184904e+00,  -1.24957601e-01,  -1.22754100e+00,\n",
       "         -1.31297673e+00],\n",
       "       [ -1.02184904e+00,   8.00654259e-01,  -1.22754100e+00,\n",
       "         -1.05003079e+00],\n",
       "       [ -7.79513300e-01,   1.03205722e+00,  -1.28440670e+00,\n",
       "         -1.31297673e+00],\n",
       "       [ -7.79513300e-01,   8.00654259e-01,  -1.34127240e+00,\n",
       "         -1.31297673e+00],\n",
       "       [ -1.38535265e+00,   3.37848329e-01,  -1.22754100e+00,\n",
       "         -1.31297673e+00],\n",
       "       [ -1.26418478e+00,   1.06445364e-01,  -1.22754100e+00,\n",
       "         -1.31297673e+00],\n",
       "       [ -5.37177559e-01,   8.00654259e-01,  -1.28440670e+00,\n",
       "         -1.05003079e+00],\n",
       "       [ -7.79513300e-01,   2.42047502e+00,  -1.28440670e+00,\n",
       "         -1.44444970e+00],\n",
       "       [ -4.16009689e-01,   2.65187798e+00,  -1.34127240e+00,\n",
       "         -1.31297673e+00],\n",
       "       [ -1.14301691e+00,   1.06445364e-01,  -1.28440670e+00,\n",
       "         -1.44444970e+00],\n",
       "       [ -1.02184904e+00,   3.37848329e-01,  -1.45500381e+00,\n",
       "         -1.31297673e+00],\n",
       "       [ -4.16009689e-01,   1.03205722e+00,  -1.39813811e+00,\n",
       "         -1.31297673e+00],\n",
       "       [ -1.14301691e+00,   1.06445364e-01,  -1.28440670e+00,\n",
       "         -1.44444970e+00],\n",
       "       [ -1.74885626e+00,  -1.24957601e-01,  -1.39813811e+00,\n",
       "         -1.31297673e+00],\n",
       "       [ -9.00681170e-01,   8.00654259e-01,  -1.28440670e+00,\n",
       "         -1.31297673e+00],\n",
       "       [ -1.02184904e+00,   1.03205722e+00,  -1.39813811e+00,\n",
       "         -1.18150376e+00],\n",
       "       [ -1.62768839e+00,  -1.74477836e+00,  -1.39813811e+00,\n",
       "         -1.18150376e+00],\n",
       "       [ -1.74885626e+00,   3.37848329e-01,  -1.39813811e+00,\n",
       "         -1.31297673e+00],\n",
       "       [ -1.02184904e+00,   1.03205722e+00,  -1.22754100e+00,\n",
       "         -7.87084847e-01],\n",
       "       [ -9.00681170e-01,   1.72626612e+00,  -1.05694388e+00,\n",
       "         -1.05003079e+00],\n",
       "       [ -1.26418478e+00,  -1.24957601e-01,  -1.34127240e+00,\n",
       "         -1.18150376e+00],\n",
       "       [ -9.00681170e-01,   1.72626612e+00,  -1.22754100e+00,\n",
       "         -1.31297673e+00],\n",
       "       [ -1.50652052e+00,   3.37848329e-01,  -1.34127240e+00,\n",
       "         -1.31297673e+00],\n",
       "       [ -6.58345429e-01,   1.49486315e+00,  -1.28440670e+00,\n",
       "         -1.31297673e+00],\n",
       "       [ -1.02184904e+00,   5.69251294e-01,  -1.34127240e+00,\n",
       "         -1.31297673e+00],\n",
       "       [  1.40150837e+00,   3.37848329e-01,   5.35295827e-01,\n",
       "          2.64698913e-01],\n",
       "       [  6.74501145e-01,   3.37848329e-01,   4.21564419e-01,\n",
       "          3.96171883e-01],\n",
       "       [  1.28034050e+00,   1.06445364e-01,   6.49027235e-01,\n",
       "          3.96171883e-01],\n",
       "       [ -4.16009689e-01,  -1.74477836e+00,   1.37235899e-01,\n",
       "          1.33225943e-01],\n",
       "       [  7.95669016e-01,  -5.87763531e-01,   4.78430123e-01,\n",
       "          3.96171883e-01],\n",
       "       [ -1.73673948e-01,  -5.87763531e-01,   4.21564419e-01,\n",
       "          1.33225943e-01],\n",
       "       [  5.53333275e-01,   5.69251294e-01,   5.35295827e-01,\n",
       "          5.27644853e-01],\n",
       "       [ -1.14301691e+00,  -1.51337539e+00,  -2.60824029e-01,\n",
       "         -2.61192967e-01],\n",
       "       [  9.16836886e-01,  -3.56360566e-01,   4.78430123e-01,\n",
       "          1.33225943e-01],\n",
       "       [ -7.79513300e-01,  -8.19166497e-01,   8.03701950e-02,\n",
       "          2.64698913e-01],\n",
       "       [ -1.02184904e+00,  -2.43898725e+00,  -1.47092621e-01,\n",
       "         -2.61192967e-01],\n",
       "       [  6.86617933e-02,  -1.24957601e-01,   2.50967307e-01,\n",
       "          3.96171883e-01],\n",
       "       [  1.89829664e-01,  -1.97618132e+00,   1.37235899e-01,\n",
       "         -2.61192967e-01],\n",
       "       [  3.10997534e-01,  -3.56360566e-01,   5.35295827e-01,\n",
       "          2.64698913e-01],\n",
       "       [ -2.94841818e-01,  -3.56360566e-01,  -9.02269170e-02,\n",
       "          1.33225943e-01],\n",
       "       [  1.03800476e+00,   1.06445364e-01,   3.64698715e-01,\n",
       "          2.64698913e-01],\n",
       "       [ -2.94841818e-01,  -1.24957601e-01,   4.21564419e-01,\n",
       "          3.96171883e-01],\n",
       "       [ -5.25060772e-02,  -8.19166497e-01,   1.94101603e-01,\n",
       "         -2.61192967e-01],\n",
       "       [  4.32165405e-01,  -1.97618132e+00,   4.21564419e-01,\n",
       "          3.96171883e-01],\n",
       "       [ -2.94841818e-01,  -1.28197243e+00,   8.03701950e-02,\n",
       "         -1.29719997e-01],\n",
       "       [  6.86617933e-02,   3.37848329e-01,   5.92161531e-01,\n",
       "          7.90590793e-01],\n",
       "       [  3.10997534e-01,  -5.87763531e-01,   1.37235899e-01,\n",
       "          1.33225943e-01],\n",
       "       [  5.53333275e-01,  -1.28197243e+00,   6.49027235e-01,\n",
       "          3.96171883e-01],\n",
       "       [  3.10997534e-01,  -5.87763531e-01,   5.35295827e-01,\n",
       "          1.75297293e-03],\n",
       "       [  6.74501145e-01,  -3.56360566e-01,   3.07833011e-01,\n",
       "          1.33225943e-01],\n",
       "       [  9.16836886e-01,  -1.24957601e-01,   3.64698715e-01,\n",
       "          2.64698913e-01],\n",
       "       [  1.15917263e+00,  -5.87763531e-01,   5.92161531e-01,\n",
       "          2.64698913e-01],\n",
       "       [  1.03800476e+00,  -1.24957601e-01,   7.05892939e-01,\n",
       "          6.59117823e-01],\n",
       "       [  1.89829664e-01,  -3.56360566e-01,   4.21564419e-01,\n",
       "          3.96171883e-01],\n",
       "       [ -1.73673948e-01,  -1.05056946e+00,  -1.47092621e-01,\n",
       "         -2.61192967e-01],\n",
       "       [ -4.16009689e-01,  -1.51337539e+00,   2.35044910e-02,\n",
       "         -1.29719997e-01],\n",
       "       [ -4.16009689e-01,  -1.51337539e+00,  -3.33612130e-02,\n",
       "         -2.61192967e-01],\n",
       "       [ -5.25060772e-02,  -8.19166497e-01,   8.03701950e-02,\n",
       "          1.75297293e-03],\n",
       "       [  1.89829664e-01,  -8.19166497e-01,   7.62758643e-01,\n",
       "          5.27644853e-01],\n",
       "       [ -5.37177559e-01,  -1.24957601e-01,   4.21564419e-01,\n",
       "          3.96171883e-01],\n",
       "       [  1.89829664e-01,   8.00654259e-01,   4.21564419e-01,\n",
       "          5.27644853e-01],\n",
       "       [  1.03800476e+00,   1.06445364e-01,   5.35295827e-01,\n",
       "          3.96171883e-01],\n",
       "       [  5.53333275e-01,  -1.74477836e+00,   3.64698715e-01,\n",
       "          1.33225943e-01],\n",
       "       [ -2.94841818e-01,  -1.24957601e-01,   1.94101603e-01,\n",
       "          1.33225943e-01],\n",
       "       [ -4.16009689e-01,  -1.28197243e+00,   1.37235899e-01,\n",
       "          1.33225943e-01],\n",
       "       [ -4.16009689e-01,  -1.05056946e+00,   3.64698715e-01,\n",
       "          1.75297293e-03],\n",
       "       [  3.10997534e-01,  -1.24957601e-01,   4.78430123e-01,\n",
       "          2.64698913e-01],\n",
       "       [ -5.25060772e-02,  -1.05056946e+00,   1.37235899e-01,\n",
       "          1.75297293e-03],\n",
       "       [ -1.02184904e+00,  -1.74477836e+00,  -2.60824029e-01,\n",
       "         -2.61192967e-01],\n",
       "       [ -2.94841818e-01,  -8.19166497e-01,   2.50967307e-01,\n",
       "          1.33225943e-01],\n",
       "       [ -1.73673948e-01,  -1.24957601e-01,   2.50967307e-01,\n",
       "          1.75297293e-03],\n",
       "       [ -1.73673948e-01,  -3.56360566e-01,   2.50967307e-01,\n",
       "          1.33225943e-01],\n",
       "       [  4.32165405e-01,  -3.56360566e-01,   3.07833011e-01,\n",
       "          1.33225943e-01],\n",
       "       [ -9.00681170e-01,  -1.28197243e+00,  -4.31421141e-01,\n",
       "         -1.29719997e-01],\n",
       "       [ -1.73673948e-01,  -5.87763531e-01,   1.94101603e-01,\n",
       "          1.33225943e-01],\n",
       "       [  5.53333275e-01,   5.69251294e-01,   1.27454998e+00,\n",
       "          1.71090158e+00],\n",
       "       [ -5.25060772e-02,  -8.19166497e-01,   7.62758643e-01,\n",
       "          9.22063763e-01],\n",
       "       [  1.52267624e+00,  -1.24957601e-01,   1.21768427e+00,\n",
       "          1.18500970e+00],\n",
       "       [  5.53333275e-01,  -3.56360566e-01,   1.04708716e+00,\n",
       "          7.90590793e-01],\n",
       "       [  7.95669016e-01,  -1.24957601e-01,   1.16081857e+00,\n",
       "          1.31648267e+00],\n",
       "       [  2.12851559e+00,  -1.24957601e-01,   1.61574420e+00,\n",
       "          1.18500970e+00],\n",
       "       [ -1.14301691e+00,  -1.28197243e+00,   4.21564419e-01,\n",
       "          6.59117823e-01],\n",
       "       [  1.76501198e+00,  -3.56360566e-01,   1.44514709e+00,\n",
       "          7.90590793e-01],\n",
       "       [  1.03800476e+00,  -1.28197243e+00,   1.16081857e+00,\n",
       "          7.90590793e-01],\n",
       "       [  1.64384411e+00,   1.26346019e+00,   1.33141568e+00,\n",
       "          1.71090158e+00],\n",
       "       [  7.95669016e-01,   3.37848329e-01,   7.62758643e-01,\n",
       "          1.05353673e+00],\n",
       "       [  6.74501145e-01,  -8.19166497e-01,   8.76490051e-01,\n",
       "          9.22063763e-01],\n",
       "       [  1.15917263e+00,  -1.24957601e-01,   9.90221459e-01,\n",
       "          1.18500970e+00],\n",
       "       [ -1.73673948e-01,  -1.28197243e+00,   7.05892939e-01,\n",
       "          1.05353673e+00],\n",
       "       [ -5.25060772e-02,  -5.87763531e-01,   7.62758643e-01,\n",
       "          1.57942861e+00],\n",
       "       [  6.74501145e-01,   3.37848329e-01,   8.76490051e-01,\n",
       "          1.44795564e+00],\n",
       "       [  7.95669016e-01,  -1.24957601e-01,   9.90221459e-01,\n",
       "          7.90590793e-01],\n",
       "       [  2.24968346e+00,   1.72626612e+00,   1.67260991e+00,\n",
       "          1.31648267e+00],\n",
       "       [  2.24968346e+00,  -1.05056946e+00,   1.78634131e+00,\n",
       "          1.44795564e+00],\n",
       "       [  1.89829664e-01,  -1.97618132e+00,   7.05892939e-01,\n",
       "          3.96171883e-01],\n",
       "       [  1.28034050e+00,   3.37848329e-01,   1.10395287e+00,\n",
       "          1.44795564e+00],\n",
       "       [ -2.94841818e-01,  -5.87763531e-01,   6.49027235e-01,\n",
       "          1.05353673e+00],\n",
       "       [  2.24968346e+00,  -5.87763531e-01,   1.67260991e+00,\n",
       "          1.05353673e+00],\n",
       "       [  5.53333275e-01,  -8.19166497e-01,   6.49027235e-01,\n",
       "          7.90590793e-01],\n",
       "       [  1.03800476e+00,   5.69251294e-01,   1.10395287e+00,\n",
       "          1.18500970e+00],\n",
       "       [  1.64384411e+00,   3.37848329e-01,   1.27454998e+00,\n",
       "          7.90590793e-01],\n",
       "       [  4.32165405e-01,  -5.87763531e-01,   5.92161531e-01,\n",
       "          7.90590793e-01],\n",
       "       [  3.10997534e-01,  -1.24957601e-01,   6.49027235e-01,\n",
       "          7.90590793e-01],\n",
       "       [  6.74501145e-01,  -5.87763531e-01,   1.04708716e+00,\n",
       "          1.18500970e+00],\n",
       "       [  1.64384411e+00,  -1.24957601e-01,   1.16081857e+00,\n",
       "          5.27644853e-01],\n",
       "       [  1.88617985e+00,  -5.87763531e-01,   1.33141568e+00,\n",
       "          9.22063763e-01],\n",
       "       [  2.49201920e+00,   1.72626612e+00,   1.50201279e+00,\n",
       "          1.05353673e+00],\n",
       "       [  6.74501145e-01,  -5.87763531e-01,   1.04708716e+00,\n",
       "          1.31648267e+00],\n",
       "       [  5.53333275e-01,  -5.87763531e-01,   7.62758643e-01,\n",
       "          3.96171883e-01],\n",
       "       [  3.10997534e-01,  -1.05056946e+00,   1.04708716e+00,\n",
       "          2.64698913e-01],\n",
       "       [  2.24968346e+00,  -1.24957601e-01,   1.33141568e+00,\n",
       "          1.44795564e+00],\n",
       "       [  5.53333275e-01,   8.00654259e-01,   1.04708716e+00,\n",
       "          1.57942861e+00],\n",
       "       [  6.74501145e-01,   1.06445364e-01,   9.90221459e-01,\n",
       "          7.90590793e-01],\n",
       "       [  1.89829664e-01,  -1.24957601e-01,   5.92161531e-01,\n",
       "          7.90590793e-01],\n",
       "       [  1.28034050e+00,   1.06445364e-01,   9.33355755e-01,\n",
       "          1.18500970e+00],\n",
       "       [  1.03800476e+00,   1.06445364e-01,   1.04708716e+00,\n",
       "          1.57942861e+00],\n",
       "       [  1.28034050e+00,   1.06445364e-01,   7.62758643e-01,\n",
       "          1.44795564e+00],\n",
       "       [ -5.25060772e-02,  -8.19166497e-01,   7.62758643e-01,\n",
       "          9.22063763e-01],\n",
       "       [  1.15917263e+00,   3.37848329e-01,   1.21768427e+00,\n",
       "          1.44795564e+00],\n",
       "       [  1.03800476e+00,   5.69251294e-01,   1.10395287e+00,\n",
       "          1.71090158e+00],\n",
       "       [  1.03800476e+00,  -1.24957601e-01,   8.19624347e-01,\n",
       "          1.44795564e+00],\n",
       "       [  5.53333275e-01,  -1.28197243e+00,   7.05892939e-01,\n",
       "          9.22063763e-01],\n",
       "       [  7.95669016e-01,  -1.24957601e-01,   8.19624347e-01,\n",
       "          1.05353673e+00],\n",
       "       [  4.32165405e-01,   8.00654259e-01,   9.33355755e-01,\n",
       "          1.44795564e+00],\n",
       "       [  6.86617933e-02,  -1.24957601e-01,   7.62758643e-01,\n",
       "          7.90590793e-01]])"
      ]
     },
     "execution_count": 55,
     "metadata": {},
     "output_type": "execute_result"
    }
   ],
   "source": [
    "X_standard = StandardScaler().fit_transform(X)\n",
    "X_standard"
   ]
  },
  {
   "cell_type": "code",
   "execution_count": 56,
   "metadata": {
    "collapsed": false
   },
   "outputs": [
    {
     "data": {
      "text/plain": [
       "array([[ -9.00681170e-01,  -1.14301691e+00,  -1.38535265e+00,\n",
       "         -1.50652052e+00,  -1.02184904e+00,  -5.37177559e-01,\n",
       "         -1.50652052e+00,  -1.02184904e+00,  -1.74885626e+00,\n",
       "         -1.14301691e+00,  -5.37177559e-01,  -1.26418478e+00,\n",
       "         -1.26418478e+00,  -1.87002413e+00,  -5.25060772e-02,\n",
       "         -1.73673948e-01,  -5.37177559e-01,  -9.00681170e-01,\n",
       "         -1.73673948e-01,  -9.00681170e-01,  -5.37177559e-01,\n",
       "         -9.00681170e-01,  -1.50652052e+00,  -9.00681170e-01,\n",
       "         -1.26418478e+00,  -1.02184904e+00,  -1.02184904e+00,\n",
       "         -7.79513300e-01,  -7.79513300e-01,  -1.38535265e+00,\n",
       "         -1.26418478e+00,  -5.37177559e-01,  -7.79513300e-01,\n",
       "         -4.16009689e-01,  -1.14301691e+00,  -1.02184904e+00,\n",
       "         -4.16009689e-01,  -1.14301691e+00,  -1.74885626e+00,\n",
       "         -9.00681170e-01,  -1.02184904e+00,  -1.62768839e+00,\n",
       "         -1.74885626e+00,  -1.02184904e+00,  -9.00681170e-01,\n",
       "         -1.26418478e+00,  -9.00681170e-01,  -1.50652052e+00,\n",
       "         -6.58345429e-01,  -1.02184904e+00,   1.40150837e+00,\n",
       "          6.74501145e-01,   1.28034050e+00,  -4.16009689e-01,\n",
       "          7.95669016e-01,  -1.73673948e-01,   5.53333275e-01,\n",
       "         -1.14301691e+00,   9.16836886e-01,  -7.79513300e-01,\n",
       "         -1.02184904e+00,   6.86617933e-02,   1.89829664e-01,\n",
       "          3.10997534e-01,  -2.94841818e-01,   1.03800476e+00,\n",
       "         -2.94841818e-01,  -5.25060772e-02,   4.32165405e-01,\n",
       "         -2.94841818e-01,   6.86617933e-02,   3.10997534e-01,\n",
       "          5.53333275e-01,   3.10997534e-01,   6.74501145e-01,\n",
       "          9.16836886e-01,   1.15917263e+00,   1.03800476e+00,\n",
       "          1.89829664e-01,  -1.73673948e-01,  -4.16009689e-01,\n",
       "         -4.16009689e-01,  -5.25060772e-02,   1.89829664e-01,\n",
       "         -5.37177559e-01,   1.89829664e-01,   1.03800476e+00,\n",
       "          5.53333275e-01,  -2.94841818e-01,  -4.16009689e-01,\n",
       "         -4.16009689e-01,   3.10997534e-01,  -5.25060772e-02,\n",
       "         -1.02184904e+00,  -2.94841818e-01,  -1.73673948e-01,\n",
       "         -1.73673948e-01,   4.32165405e-01,  -9.00681170e-01,\n",
       "         -1.73673948e-01,   5.53333275e-01,  -5.25060772e-02,\n",
       "          1.52267624e+00,   5.53333275e-01,   7.95669016e-01,\n",
       "          2.12851559e+00,  -1.14301691e+00,   1.76501198e+00,\n",
       "          1.03800476e+00,   1.64384411e+00,   7.95669016e-01,\n",
       "          6.74501145e-01,   1.15917263e+00,  -1.73673948e-01,\n",
       "         -5.25060772e-02,   6.74501145e-01,   7.95669016e-01,\n",
       "          2.24968346e+00,   2.24968346e+00,   1.89829664e-01,\n",
       "          1.28034050e+00,  -2.94841818e-01,   2.24968346e+00,\n",
       "          5.53333275e-01,   1.03800476e+00,   1.64384411e+00,\n",
       "          4.32165405e-01,   3.10997534e-01,   6.74501145e-01,\n",
       "          1.64384411e+00,   1.88617985e+00,   2.49201920e+00,\n",
       "          6.74501145e-01,   5.53333275e-01,   3.10997534e-01,\n",
       "          2.24968346e+00,   5.53333275e-01,   6.74501145e-01,\n",
       "          1.89829664e-01,   1.28034050e+00,   1.03800476e+00,\n",
       "          1.28034050e+00,  -5.25060772e-02,   1.15917263e+00,\n",
       "          1.03800476e+00,   1.03800476e+00,   5.53333275e-01,\n",
       "          7.95669016e-01,   4.32165405e-01,   6.86617933e-02],\n",
       "       [  1.03205722e+00,  -1.24957601e-01,   3.37848329e-01,\n",
       "          1.06445364e-01,   1.26346019e+00,   1.95766909e+00,\n",
       "          8.00654259e-01,   8.00654259e-01,  -3.56360566e-01,\n",
       "          1.06445364e-01,   1.49486315e+00,   8.00654259e-01,\n",
       "         -1.24957601e-01,  -1.24957601e-01,   2.18907205e+00,\n",
       "          3.11468391e+00,   1.95766909e+00,   1.03205722e+00,\n",
       "          1.72626612e+00,   1.72626612e+00,   8.00654259e-01,\n",
       "          1.49486315e+00,   1.26346019e+00,   5.69251294e-01,\n",
       "          8.00654259e-01,  -1.24957601e-01,   8.00654259e-01,\n",
       "          1.03205722e+00,   8.00654259e-01,   3.37848329e-01,\n",
       "          1.06445364e-01,   8.00654259e-01,   2.42047502e+00,\n",
       "          2.65187798e+00,   1.06445364e-01,   3.37848329e-01,\n",
       "          1.03205722e+00,   1.06445364e-01,  -1.24957601e-01,\n",
       "          8.00654259e-01,   1.03205722e+00,  -1.74477836e+00,\n",
       "          3.37848329e-01,   1.03205722e+00,   1.72626612e+00,\n",
       "         -1.24957601e-01,   1.72626612e+00,   3.37848329e-01,\n",
       "          1.49486315e+00,   5.69251294e-01,   3.37848329e-01,\n",
       "          3.37848329e-01,   1.06445364e-01,  -1.74477836e+00,\n",
       "         -5.87763531e-01,  -5.87763531e-01,   5.69251294e-01,\n",
       "         -1.51337539e+00,  -3.56360566e-01,  -8.19166497e-01,\n",
       "         -2.43898725e+00,  -1.24957601e-01,  -1.97618132e+00,\n",
       "         -3.56360566e-01,  -3.56360566e-01,   1.06445364e-01,\n",
       "         -1.24957601e-01,  -8.19166497e-01,  -1.97618132e+00,\n",
       "         -1.28197243e+00,   3.37848329e-01,  -5.87763531e-01,\n",
       "         -1.28197243e+00,  -5.87763531e-01,  -3.56360566e-01,\n",
       "         -1.24957601e-01,  -5.87763531e-01,  -1.24957601e-01,\n",
       "         -3.56360566e-01,  -1.05056946e+00,  -1.51337539e+00,\n",
       "         -1.51337539e+00,  -8.19166497e-01,  -8.19166497e-01,\n",
       "         -1.24957601e-01,   8.00654259e-01,   1.06445364e-01,\n",
       "         -1.74477836e+00,  -1.24957601e-01,  -1.28197243e+00,\n",
       "         -1.05056946e+00,  -1.24957601e-01,  -1.05056946e+00,\n",
       "         -1.74477836e+00,  -8.19166497e-01,  -1.24957601e-01,\n",
       "         -3.56360566e-01,  -3.56360566e-01,  -1.28197243e+00,\n",
       "         -5.87763531e-01,   5.69251294e-01,  -8.19166497e-01,\n",
       "         -1.24957601e-01,  -3.56360566e-01,  -1.24957601e-01,\n",
       "         -1.24957601e-01,  -1.28197243e+00,  -3.56360566e-01,\n",
       "         -1.28197243e+00,   1.26346019e+00,   3.37848329e-01,\n",
       "         -8.19166497e-01,  -1.24957601e-01,  -1.28197243e+00,\n",
       "         -5.87763531e-01,   3.37848329e-01,  -1.24957601e-01,\n",
       "          1.72626612e+00,  -1.05056946e+00,  -1.97618132e+00,\n",
       "          3.37848329e-01,  -5.87763531e-01,  -5.87763531e-01,\n",
       "         -8.19166497e-01,   5.69251294e-01,   3.37848329e-01,\n",
       "         -5.87763531e-01,  -1.24957601e-01,  -5.87763531e-01,\n",
       "         -1.24957601e-01,  -5.87763531e-01,   1.72626612e+00,\n",
       "         -5.87763531e-01,  -5.87763531e-01,  -1.05056946e+00,\n",
       "         -1.24957601e-01,   8.00654259e-01,   1.06445364e-01,\n",
       "         -1.24957601e-01,   1.06445364e-01,   1.06445364e-01,\n",
       "          1.06445364e-01,  -8.19166497e-01,   3.37848329e-01,\n",
       "          5.69251294e-01,  -1.24957601e-01,  -1.28197243e+00,\n",
       "         -1.24957601e-01,   8.00654259e-01,  -1.24957601e-01],\n",
       "       [ -1.34127240e+00,  -1.34127240e+00,  -1.39813811e+00,\n",
       "         -1.28440670e+00,  -1.34127240e+00,  -1.17067529e+00,\n",
       "         -1.34127240e+00,  -1.28440670e+00,  -1.34127240e+00,\n",
       "         -1.28440670e+00,  -1.28440670e+00,  -1.22754100e+00,\n",
       "         -1.34127240e+00,  -1.51186952e+00,  -1.45500381e+00,\n",
       "         -1.28440670e+00,  -1.39813811e+00,  -1.34127240e+00,\n",
       "         -1.17067529e+00,  -1.28440670e+00,  -1.17067529e+00,\n",
       "         -1.28440670e+00,  -1.56873522e+00,  -1.17067529e+00,\n",
       "         -1.05694388e+00,  -1.22754100e+00,  -1.22754100e+00,\n",
       "         -1.28440670e+00,  -1.34127240e+00,  -1.22754100e+00,\n",
       "         -1.22754100e+00,  -1.28440670e+00,  -1.28440670e+00,\n",
       "         -1.34127240e+00,  -1.28440670e+00,  -1.45500381e+00,\n",
       "         -1.39813811e+00,  -1.28440670e+00,  -1.39813811e+00,\n",
       "         -1.28440670e+00,  -1.39813811e+00,  -1.39813811e+00,\n",
       "         -1.39813811e+00,  -1.22754100e+00,  -1.05694388e+00,\n",
       "         -1.34127240e+00,  -1.22754100e+00,  -1.34127240e+00,\n",
       "         -1.28440670e+00,  -1.34127240e+00,   5.35295827e-01,\n",
       "          4.21564419e-01,   6.49027235e-01,   1.37235899e-01,\n",
       "          4.78430123e-01,   4.21564419e-01,   5.35295827e-01,\n",
       "         -2.60824029e-01,   4.78430123e-01,   8.03701950e-02,\n",
       "         -1.47092621e-01,   2.50967307e-01,   1.37235899e-01,\n",
       "          5.35295827e-01,  -9.02269170e-02,   3.64698715e-01,\n",
       "          4.21564419e-01,   1.94101603e-01,   4.21564419e-01,\n",
       "          8.03701950e-02,   5.92161531e-01,   1.37235899e-01,\n",
       "          6.49027235e-01,   5.35295827e-01,   3.07833011e-01,\n",
       "          3.64698715e-01,   5.92161531e-01,   7.05892939e-01,\n",
       "          4.21564419e-01,  -1.47092621e-01,   2.35044910e-02,\n",
       "         -3.33612130e-02,   8.03701950e-02,   7.62758643e-01,\n",
       "          4.21564419e-01,   4.21564419e-01,   5.35295827e-01,\n",
       "          3.64698715e-01,   1.94101603e-01,   1.37235899e-01,\n",
       "          3.64698715e-01,   4.78430123e-01,   1.37235899e-01,\n",
       "         -2.60824029e-01,   2.50967307e-01,   2.50967307e-01,\n",
       "          2.50967307e-01,   3.07833011e-01,  -4.31421141e-01,\n",
       "          1.94101603e-01,   1.27454998e+00,   7.62758643e-01,\n",
       "          1.21768427e+00,   1.04708716e+00,   1.16081857e+00,\n",
       "          1.61574420e+00,   4.21564419e-01,   1.44514709e+00,\n",
       "          1.16081857e+00,   1.33141568e+00,   7.62758643e-01,\n",
       "          8.76490051e-01,   9.90221459e-01,   7.05892939e-01,\n",
       "          7.62758643e-01,   8.76490051e-01,   9.90221459e-01,\n",
       "          1.67260991e+00,   1.78634131e+00,   7.05892939e-01,\n",
       "          1.10395287e+00,   6.49027235e-01,   1.67260991e+00,\n",
       "          6.49027235e-01,   1.10395287e+00,   1.27454998e+00,\n",
       "          5.92161531e-01,   6.49027235e-01,   1.04708716e+00,\n",
       "          1.16081857e+00,   1.33141568e+00,   1.50201279e+00,\n",
       "          1.04708716e+00,   7.62758643e-01,   1.04708716e+00,\n",
       "          1.33141568e+00,   1.04708716e+00,   9.90221459e-01,\n",
       "          5.92161531e-01,   9.33355755e-01,   1.04708716e+00,\n",
       "          7.62758643e-01,   7.62758643e-01,   1.21768427e+00,\n",
       "          1.10395287e+00,   8.19624347e-01,   7.05892939e-01,\n",
       "          8.19624347e-01,   9.33355755e-01,   7.62758643e-01],\n",
       "       [ -1.31297673e+00,  -1.31297673e+00,  -1.31297673e+00,\n",
       "         -1.31297673e+00,  -1.31297673e+00,  -1.05003079e+00,\n",
       "         -1.18150376e+00,  -1.31297673e+00,  -1.31297673e+00,\n",
       "         -1.44444970e+00,  -1.31297673e+00,  -1.31297673e+00,\n",
       "         -1.44444970e+00,  -1.44444970e+00,  -1.31297673e+00,\n",
       "         -1.05003079e+00,  -1.05003079e+00,  -1.18150376e+00,\n",
       "         -1.18150376e+00,  -1.18150376e+00,  -1.31297673e+00,\n",
       "         -1.05003079e+00,  -1.31297673e+00,  -9.18557817e-01,\n",
       "         -1.31297673e+00,  -1.31297673e+00,  -1.05003079e+00,\n",
       "         -1.31297673e+00,  -1.31297673e+00,  -1.31297673e+00,\n",
       "         -1.31297673e+00,  -1.05003079e+00,  -1.44444970e+00,\n",
       "         -1.31297673e+00,  -1.44444970e+00,  -1.31297673e+00,\n",
       "         -1.31297673e+00,  -1.44444970e+00,  -1.31297673e+00,\n",
       "         -1.31297673e+00,  -1.18150376e+00,  -1.18150376e+00,\n",
       "         -1.31297673e+00,  -7.87084847e-01,  -1.05003079e+00,\n",
       "         -1.18150376e+00,  -1.31297673e+00,  -1.31297673e+00,\n",
       "         -1.31297673e+00,  -1.31297673e+00,   2.64698913e-01,\n",
       "          3.96171883e-01,   3.96171883e-01,   1.33225943e-01,\n",
       "          3.96171883e-01,   1.33225943e-01,   5.27644853e-01,\n",
       "         -2.61192967e-01,   1.33225943e-01,   2.64698913e-01,\n",
       "         -2.61192967e-01,   3.96171883e-01,  -2.61192967e-01,\n",
       "          2.64698913e-01,   1.33225943e-01,   2.64698913e-01,\n",
       "          3.96171883e-01,  -2.61192967e-01,   3.96171883e-01,\n",
       "         -1.29719997e-01,   7.90590793e-01,   1.33225943e-01,\n",
       "          3.96171883e-01,   1.75297293e-03,   1.33225943e-01,\n",
       "          2.64698913e-01,   2.64698913e-01,   6.59117823e-01,\n",
       "          3.96171883e-01,  -2.61192967e-01,  -1.29719997e-01,\n",
       "         -2.61192967e-01,   1.75297293e-03,   5.27644853e-01,\n",
       "          3.96171883e-01,   5.27644853e-01,   3.96171883e-01,\n",
       "          1.33225943e-01,   1.33225943e-01,   1.33225943e-01,\n",
       "          1.75297293e-03,   2.64698913e-01,   1.75297293e-03,\n",
       "         -2.61192967e-01,   1.33225943e-01,   1.75297293e-03,\n",
       "          1.33225943e-01,   1.33225943e-01,  -1.29719997e-01,\n",
       "          1.33225943e-01,   1.71090158e+00,   9.22063763e-01,\n",
       "          1.18500970e+00,   7.90590793e-01,   1.31648267e+00,\n",
       "          1.18500970e+00,   6.59117823e-01,   7.90590793e-01,\n",
       "          7.90590793e-01,   1.71090158e+00,   1.05353673e+00,\n",
       "          9.22063763e-01,   1.18500970e+00,   1.05353673e+00,\n",
       "          1.57942861e+00,   1.44795564e+00,   7.90590793e-01,\n",
       "          1.31648267e+00,   1.44795564e+00,   3.96171883e-01,\n",
       "          1.44795564e+00,   1.05353673e+00,   1.05353673e+00,\n",
       "          7.90590793e-01,   1.18500970e+00,   7.90590793e-01,\n",
       "          7.90590793e-01,   7.90590793e-01,   1.18500970e+00,\n",
       "          5.27644853e-01,   9.22063763e-01,   1.05353673e+00,\n",
       "          1.31648267e+00,   3.96171883e-01,   2.64698913e-01,\n",
       "          1.44795564e+00,   1.57942861e+00,   7.90590793e-01,\n",
       "          7.90590793e-01,   1.18500970e+00,   1.57942861e+00,\n",
       "          1.44795564e+00,   9.22063763e-01,   1.44795564e+00,\n",
       "          1.71090158e+00,   1.44795564e+00,   9.22063763e-01,\n",
       "          1.05353673e+00,   1.44795564e+00,   7.90590793e-01]])"
      ]
     },
     "execution_count": 56,
     "metadata": {},
     "output_type": "execute_result"
    }
   ],
   "source": [
    "X_standard.T"
   ]
  },
  {
   "cell_type": "markdown",
   "metadata": {},
   "source": [
    "Now, let's set up our data for decomposition by creating a covariance matrix"
   ]
  },
  {
   "cell_type": "code",
   "execution_count": 35,
   "metadata": {
    "collapsed": false
   },
   "outputs": [
    {
     "data": {
      "text/plain": [
       "array([[ 1.00671141, -0.11010327,  0.87760486,  0.82344326],\n",
       "       [-0.11010327,  1.00671141, -0.42333835, -0.358937  ],\n",
       "       [ 0.87760486, -0.42333835,  1.00671141,  0.96921855],\n",
       "       [ 0.82344326, -0.358937  ,  0.96921855,  1.00671141]])"
      ]
     },
     "execution_count": 35,
     "metadata": {},
     "output_type": "execute_result"
    }
   ],
   "source": [
    "cov_mat = np.cov(X_standard.T)\n",
    "cov_mat"
   ]
  },
  {
   "cell_type": "markdown",
   "metadata": {},
   "source": [
    "Decompose the the covariance matrix to find the eigenvalues"
   ]
  },
  {
   "cell_type": "code",
   "execution_count": 29,
   "metadata": {
    "collapsed": false
   },
   "outputs": [],
   "source": [
    "eigenValues, eigenVectors = np.linalg.eig(cov_mat)"
   ]
  },
  {
   "cell_type": "markdown",
   "metadata": {},
   "source": [
    "## Step 4. Eigenvalues and Eigenvectors"
   ]
  },
  {
   "cell_type": "code",
   "execution_count": 30,
   "metadata": {
    "collapsed": false
   },
   "outputs": [
    {
     "data": {
      "text/plain": [
       "(array([ 2.93035378,  0.92740362,  0.14834223,  0.02074601]),\n",
       " array([[ 0.52237162, -0.37231836, -0.72101681,  0.26199559],\n",
       "        [-0.26335492, -0.92555649,  0.24203288, -0.12413481],\n",
       "        [ 0.58125401, -0.02109478,  0.14089226, -0.80115427],\n",
       "        [ 0.56561105, -0.06541577,  0.6338014 ,  0.52354627]]))"
      ]
     },
     "execution_count": 30,
     "metadata": {},
     "output_type": "execute_result"
    }
   ],
   "source": [
    "eigenValues, eigenVectors"
   ]
  },
  {
   "cell_type": "code",
   "execution_count": null,
   "metadata": {
    "collapsed": true
   },
   "outputs": [],
   "source": []
  },
  {
   "cell_type": "markdown",
   "metadata": {},
   "source": [
    "**Question**: What is the relationship between these eigenvectors/values and the covariance matrix? "
   ]
  },
  {
   "cell_type": "markdown",
   "metadata": {},
   "source": [
    "Calculate the Eigen Pairs using the method we just learned"
   ]
  },
  {
   "cell_type": "code",
   "execution_count": 57,
   "metadata": {
    "collapsed": false
   },
   "outputs": [
    {
     "data": {
      "text/plain": [
       "[(2.9303537755893192,\n",
       "  array([ 0.52237162, -0.26335492,  0.58125401,  0.56561105])),\n",
       " (0.92740362151734124,\n",
       "  array([-0.37231836, -0.92555649, -0.02109478, -0.06541577])),\n",
       " (0.14834222648163986,\n",
       "  array([-0.72101681,  0.24203288,  0.14089226,  0.6338014 ])),\n",
       " (0.020746013995595971,\n",
       "  array([ 0.26199559, -0.12413481, -0.80115427,  0.52354627]))]"
      ]
     },
     "execution_count": 57,
     "metadata": {},
     "output_type": "execute_result"
    }
   ],
   "source": [
    "eigenPairs = [(np.abs(eigenValues[i]), eigenVectors[:,i]) for i in range(len(eigenValues))]\n",
    "eigenPairs"
   ]
  },
  {
   "cell_type": "markdown",
   "metadata": {},
   "source": [
    "Now, sort the eigenpairs from highest to lowest"
   ]
  },
  {
   "cell_type": "code",
   "execution_count": 38,
   "metadata": {
    "collapsed": false
   },
   "outputs": [
    {
     "name": "stdout",
     "output_type": "stream",
     "text": [
      "2.93035377559\n",
      "0.927403621517\n",
      "0.148342226482\n",
      "0.0207460139956\n"
     ]
    }
   ],
   "source": [
    "eigenPairs.sort()\n",
    "eigenPairs.reverse()\n",
    "for i in eigenPairs:\n",
    "    print i[0]"
   ]
  },
  {
   "cell_type": "markdown",
   "metadata": {},
   "source": [
    "## Explained Variance"
   ]
  },
  {
   "cell_type": "code",
   "execution_count": 39,
   "metadata": {
    "collapsed": false
   },
   "outputs": [
    {
     "data": {
      "text/plain": [
       "4.0268456375838957"
      ]
     },
     "execution_count": 39,
     "metadata": {},
     "output_type": "execute_result"
    }
   ],
   "source": [
    "eigenSum = sum(eigenValues)\n",
    "eigenSum"
   ]
  },
  {
   "cell_type": "markdown",
   "metadata": {},
   "source": [
    "Now, calculate the explained variance and the Cumulative explained variance"
   ]
  },
  {
   "cell_type": "code",
   "execution_count": 40,
   "metadata": {
    "collapsed": false
   },
   "outputs": [],
   "source": [
    "ExpVar = [(i / eigenSum)*100 for i in sorted(eigenValues, reverse=True)]\n",
    "cumulativeExpVar = np.cumsum(ExpVar)"
   ]
  },
  {
   "cell_type": "code",
   "execution_count": 50,
   "metadata": {
    "collapsed": false
   },
   "outputs": [
    {
     "data": {
      "image/png": "[encoded data removed]",
      "text/plain": [
       "<matplotlib.figure.Figure at 0x1219fc550>"
      ]
     },
     "metadata": {},
     "output_type": "display_data"
    }
   ],
   "source": [
    "with plt.style.context(\"seaborn-whitegrid\"):\n",
    "    plt.figure(figsize=(8,6))\n",
    "    \n",
    "    plt.bar(range(4), ExpVar, alpha=0.8, align=\"center\",\n",
    "           label=\"Explained Variance\")\n",
    "    plt.step(range(4), cumulativeExpVar, where=\"mid\",\n",
    "           label=\"Cumulative Explained Variance\")\n",
    "    plt.ylabel(\"Explained Variance Ratio\")\n",
    "    plt.xlabel(\"Principal Components\")\n",
    "    plt.legend(loc=\"best\")\n",
    "    plt.tight_layout"
   ]
  },
  {
   "cell_type": "markdown",
   "metadata": {
    "collapsed": true
   },
   "source": [
    "## Projection Matrix"
   ]
  },
  {
   "cell_type": "markdown",
   "metadata": {},
   "source": [
    "Create the projection Matrix - Note: when calling \"reshape,\" the x length \"4\" corresponds to the length of the data attributes"
   ]
  },
  {
   "cell_type": "code",
   "execution_count": 41,
   "metadata": {
    "collapsed": false
   },
   "outputs": [
    {
     "data": {
      "text/plain": [
       "array([[-0.37231836, -0.37231836],\n",
       "       [-0.92555649, -0.92555649],\n",
       "       [-0.02109478, -0.02109478],\n",
       "       [-0.06541577, -0.06541577]])"
      ]
     },
     "execution_count": 41,
     "metadata": {},
     "output_type": "execute_result"
    }
   ],
   "source": [
    "Pmatrix = np.hstack((eigenPairs[0][1].reshape(4,1),\n",
    "                    eigenPairs[1][1].reshape(4,1)))\n",
    "Pmatrix"
   ]
  },
  {
   "cell_type": "markdown",
   "metadata": {},
   "source": [
    "Calculate the dot product for the projection"
   ]
  },
  {
   "cell_type": "code",
   "execution_count": 42,
   "metadata": {
    "collapsed": true
   },
   "outputs": [],
   "source": [
    "y = X_standard.dot(Pmatrix)"
   ]
  },
  {
   "cell_type": "code",
   "execution_count": 43,
   "metadata": {
    "collapsed": false
   },
   "outputs": [
    {
     "name": "stdout",
     "output_type": "stream",
     "text": [
      "[[ -5.05703903e-01  -5.05703903e-01]\n",
      " [  6.55404729e-01   6.55404729e-01]\n",
      " [  3.18477311e-01   3.18477311e-01]\n",
      " [  5.75367713e-01   5.75367713e-01]\n",
      " [ -6.74767397e-01  -6.74767397e-01]\n",
      " [ -1.51854856e+00  -1.51854856e+00]\n",
      " [ -7.45626750e-02  -7.45626750e-02]\n",
      " [ -2.47613932e-01  -2.47613932e-01]\n",
      " [  1.09514636e+00   1.09514636e+00]\n",
      " [  4.48629048e-01   4.48629048e-01]\n",
      " [ -1.07059558e+00  -1.07059558e+00]\n",
      " [ -1.58587455e-01  -1.58587455e-01]\n",
      " [  7.09118158e-01   7.09118158e-01]\n",
      " [  9.38281982e-01   9.38281982e-01]\n",
      " [ -1.88997851e+00  -1.88997851e+00]\n",
      " [ -2.72237108e+00  -2.72237108e+00]\n",
      " [ -1.51375028e+00  -1.51375028e+00]\n",
      " [ -5.14304308e-01  -5.14304308e-01]\n",
      " [ -1.43111071e+00  -1.43111071e+00]\n",
      " [ -1.15803343e+00  -1.15803343e+00]\n",
      " [ -4.30465163e-01  -4.30465163e-01]\n",
      " [ -9.52457317e-01  -9.52457317e-01]\n",
      " [ -4.89517027e-01  -4.89517027e-01]\n",
      " [ -1.06750793e-01  -1.06750793e-01]\n",
      " [ -1.62186163e-01  -1.62186163e-01]\n",
      " [  6.07892567e-01   6.07892567e-01]\n",
      " [ -2.66014312e-01  -2.66014312e-01]\n",
      " [ -5.52016495e-01  -5.52016495e-01]\n",
      " [ -3.36640409e-01  -3.36640409e-01]\n",
      " [  3.14878603e-01   3.14878603e-01]\n",
      " [  4.83942097e-01   4.83942097e-01]\n",
      " [ -4.45266836e-01  -4.45266836e-01]\n",
      " [ -1.82847519e+00  -1.82847519e+00]\n",
      " [ -2.18539162e+00  -2.18539162e+00]\n",
      " [  4.48629048e-01   4.48629048e-01]\n",
      " [  1.84337811e-01   1.84337811e-01]\n",
      " [ -6.84956426e-01  -6.84956426e-01]\n",
      " [  4.48629048e-01   4.48629048e-01]\n",
      " [  8.82169415e-01   8.82169415e-01]\n",
      " [ -2.92726955e-01  -2.92726955e-01]\n",
      " [ -4.67991716e-01  -4.67991716e-01]\n",
      " [  2.32769161e+00   2.32769161e+00]\n",
      " [  4.53816380e-01   4.53816380e-01]\n",
      " [ -4.97391640e-01  -4.97391640e-01]\n",
      " [ -1.17143211e+00  -1.17143211e+00]\n",
      " [  6.91917347e-01   6.91917347e-01]\n",
      " [ -1.15063259e+00  -1.15063259e+00]\n",
      " [  3.62390765e-01   3.62390765e-01]\n",
      " [ -1.02548255e+00  -1.02548255e+00]\n",
      " [ -3.22378453e-02  -3.22378453e-02]\n",
      " [ -8.63112446e-01  -8.63112446e-01]\n",
      " [ -5.98635573e-01  -5.98635573e-01]\n",
      " [ -6.14822450e-01  -6.14822450e-01]\n",
      " [  1.75816895e+00   1.75816895e+00]\n",
      " [  2.11757903e-01   2.11757903e-01]\n",
      " [  5.91062469e-01   5.91062469e-01]\n",
      " [ -7.78698611e-01  -7.78698611e-01]\n",
      " [  1.84886877e+00   1.84886877e+00]\n",
      " [ -3.03308268e-02  -3.03308268e-02]\n",
      " [  1.02940111e+00   1.02940111e+00]\n",
      " [  2.65806268e+00   2.65806268e+00]\n",
      " [  5.88812850e-02   5.88812850e-02]\n",
      " [  1.77258156e+00   1.77258156e+00]\n",
      " [  1.85434315e-01   1.85434315e-01]\n",
      " [  4.32795099e-01   4.32795099e-01]\n",
      " [ -5.09998151e-01  -5.09998151e-01]\n",
      " [  1.90621647e-01   1.90621647e-01]\n",
      " [  7.90725456e-01   7.90725456e-01]\n",
      " [  1.63335564e+00   1.63335564e+00]\n",
      " [  1.30310327e+00   1.30310327e+00]\n",
      " [ -4.02470382e-01  -4.02470382e-01]\n",
      " [  4.16608222e-01   4.16608222e-01]\n",
      " [  9.40914793e-01   9.40914793e-01]\n",
      " [  4.16811643e-01   4.16811643e-01]\n",
      " [  6.34939277e-02   6.34939277e-02]\n",
      " [ -2.50708611e-01  -2.50708611e-01]\n",
      " [  8.26200998e-02   8.26200998e-02]\n",
      " [ -3.28820266e-01  -3.28820266e-01]\n",
      " [  2.24346071e-01   2.24346071e-01]\n",
      " [  1.05721241e+00   1.05721241e+00]\n",
      " [  1.56359238e+00   1.56359238e+00]\n",
      " [  1.57339235e+00   1.57339235e+00]\n",
      " [  7.75923784e-01   7.75923784e-01]\n",
      " [  6.36901284e-01   6.36901284e-01]\n",
      " [  2.80847693e-01   2.80847693e-01]\n",
      " [ -8.55136920e-01  -8.55136920e-01]\n",
      " [ -5.22197265e-01  -5.22197265e-01]\n",
      " [  1.39246648e+00   1.39246648e+00]\n",
      " [  2.12620735e-01   2.12620735e-01]\n",
      " [  1.32981591e+00   1.32981591e+00]\n",
      " [  1.11944152e+00   1.11944152e+00]\n",
      " [ -2.75426333e-02  -2.75426333e-02]\n",
      " [  9.88900732e-01   9.88900732e-01]\n",
      " [  2.01793227e+00   2.01793227e+00]\n",
      " [  8.53950717e-01   8.53950717e-01]\n",
      " [  1.74908548e-01   1.74908548e-01]\n",
      " [  3.80484659e-01   3.80484659e-01]\n",
      " [  1.53719974e-01   1.53719974e-01]\n",
      " [  1.53946451e+00   1.53946451e+00]\n",
      " [  5.95860746e-01   5.95860746e-01]\n",
      " [ -8.71696662e-01  -8.71696662e-01]\n",
      " [  7.01326114e-01   7.01326114e-01]\n",
      " [ -5.54470105e-01  -5.54470105e-01]\n",
      " [  5.00105223e-02   5.00105223e-02]\n",
      " [ -2.91192802e-01  -2.91192802e-01]\n",
      " [ -7.88432206e-01  -7.88432206e-01]\n",
      " [  1.56009458e+00   1.56009458e+00]\n",
      " [ -4.09516695e-01  -4.09516695e-01]\n",
      " [  7.23865359e-01   7.23865359e-01]\n",
      " [ -1.92144299e+00  -1.92144299e+00]\n",
      " [ -6.93948040e-01  -6.93948040e-01]\n",
      " [  4.28248836e-01   4.28248836e-01]\n",
      " [ -4.14332758e-01  -4.14332758e-01]\n",
      " [  1.16739134e+00   1.16739134e+00]\n",
      " [  4.44147569e-01   4.44147569e-01]\n",
      " [ -6.77035372e-01  -6.77035372e-01]\n",
      " [ -2.53192472e-01  -2.53192472e-01]\n",
      " [ -2.55675734e+00  -2.55675734e+00]\n",
      " [  2.36132010e-03   2.36132010e-03]\n",
      " [  1.71758384e+00   1.71758384e+00]\n",
      " [ -9.07398765e-01  -9.07398765e-01]\n",
      " [  5.71174376e-01   5.71174376e-01]\n",
      " [ -3.97791359e-01  -3.97791359e-01]\n",
      " [  4.86760542e-01   4.86760542e-01]\n",
      " [ -1.01414842e+00  -1.01414842e+00]\n",
      " [ -1.00333452e+00  -1.00333452e+00]\n",
      " [  3.18896617e-01   3.18896617e-01]\n",
      " [ -6.55429631e-02  -6.55429631e-02]\n",
      " [  1.93272800e-01   1.93272800e-01]\n",
      " [ -5.55381532e-01  -5.55381532e-01]\n",
      " [ -2.46654468e-01  -2.46654468e-01]\n",
      " [ -2.62618387e+00  -2.62618387e+00]\n",
      " [  1.84672394e-01   1.84672394e-01]\n",
      " [  2.95986102e-01   2.95986102e-01]\n",
      " [  8.17167742e-01   8.17167742e-01]\n",
      " [ -8.44748194e-01  -8.44748194e-01]\n",
      " [ -1.07247450e+00  -1.07247450e+00]\n",
      " [ -4.22255966e-01  -4.22255966e-01]\n",
      " [ -1.92303705e-02  -1.92303705e-02]\n",
      " [ -6.72422729e-01  -6.72422729e-01]\n",
      " [ -6.10397038e-01  -6.10397038e-01]\n",
      " [ -6.86024832e-01  -6.86024832e-01]\n",
      " [  7.01326114e-01   7.01326114e-01]\n",
      " [ -8.64684880e-01  -8.64684880e-01]\n",
      " [ -1.04855005e+00  -1.04855005e+00]\n",
      " [ -3.82821838e-01  -3.82821838e-01]\n",
      " [  9.05313601e-01   9.05313601e-01]\n",
      " [ -2.66794575e-01  -2.66794575e-01]\n",
      " [ -1.01636193e+00  -1.01636193e+00]\n",
      " [  2.22839447e-02   2.22839447e-02]]\n"
     ]
    },
    {
     "data": {
      "text/plain": [
       "(150, 2)"
      ]
     },
     "execution_count": 43,
     "metadata": {},
     "output_type": "execute_result"
    }
   ],
   "source": [
    "print y\n",
    "y.shape"
   ]
  },
  {
   "cell_type": "markdown",
   "metadata": {},
   "source": [
    "## Scitkit Alternative"
   ]
  },
  {
   "cell_type": "code",
   "execution_count": 45,
   "metadata": {
    "collapsed": false
   },
   "outputs": [
    {
     "data": {
      "text/plain": [
       "array([[ -2.26454173e+00,  -5.05703903e-01],\n",
       "       [ -2.08642550e+00,   6.55404729e-01],\n",
       "       [ -2.36795045e+00,   3.18477311e-01],\n",
       "       [ -2.30419716e+00,   5.75367713e-01],\n",
       "       [ -2.38877749e+00,  -6.74767397e-01],\n",
       "       [ -2.07053681e+00,  -1.51854856e+00],\n",
       "       [ -2.44571134e+00,  -7.45626750e-02],\n",
       "       [ -2.23384186e+00,  -2.47613932e-01],\n",
       "       [ -2.34195768e+00,   1.09514636e+00],\n",
       "       [ -2.18867576e+00,   4.48629048e-01],\n",
       "       [ -2.16348656e+00,  -1.07059558e+00],\n",
       "       [ -2.32737775e+00,  -1.58587455e-01],\n",
       "       [ -2.22408272e+00,   7.09118158e-01],\n",
       "       [ -2.63971626e+00,   9.38281982e-01],\n",
       "       [ -2.19229151e+00,  -1.88997851e+00],\n",
       "       [ -2.25146521e+00,  -2.72237108e+00],\n",
       "       [ -2.20275048e+00,  -1.51375028e+00],\n",
       "       [ -2.19017916e+00,  -5.14304308e-01],\n",
       "       [ -1.89407429e+00,  -1.43111071e+00],\n",
       "       [ -2.33994907e+00,  -1.15803343e+00],\n",
       "       [ -1.91455639e+00,  -4.30465163e-01],\n",
       "       [ -2.20464540e+00,  -9.52457317e-01],\n",
       "       [ -2.77416979e+00,  -4.89517027e-01],\n",
       "       [ -1.82041156e+00,  -1.06750793e-01],\n",
       "       [ -2.22821750e+00,  -1.62186163e-01],\n",
       "       [ -1.95702401e+00,   6.07892567e-01],\n",
       "       [ -2.05206331e+00,  -2.66014312e-01],\n",
       "       [ -2.16819365e+00,  -5.52016495e-01],\n",
       "       [ -2.14030596e+00,  -3.36640409e-01],\n",
       "       [ -2.26879019e+00,   3.14878603e-01],\n",
       "       [ -2.14455443e+00,   4.83942097e-01],\n",
       "       [ -1.83193810e+00,  -4.45266836e-01],\n",
       "       [ -2.60820287e+00,  -1.82847519e+00],\n",
       "       [ -2.43795086e+00,  -2.18539162e+00],\n",
       "       [ -2.18867576e+00,   4.48629048e-01],\n",
       "       [ -2.21111990e+00,   1.84337811e-01],\n",
       "       [ -2.04441652e+00,  -6.84956426e-01],\n",
       "       [ -2.18867576e+00,   4.48629048e-01],\n",
       "       [ -2.43595220e+00,   8.82169415e-01],\n",
       "       [ -2.17054720e+00,  -2.92726955e-01],\n",
       "       [ -2.28652724e+00,  -4.67991716e-01],\n",
       "       [ -1.87170722e+00,   2.32769161e+00],\n",
       "       [ -2.55783442e+00,   4.53816380e-01],\n",
       "       [ -1.96427929e+00,  -4.97391640e-01],\n",
       "       [ -2.13337283e+00,  -1.17143211e+00],\n",
       "       [ -2.07535759e+00,   6.91917347e-01],\n",
       "       [ -2.38125822e+00,  -1.15063259e+00],\n",
       "       [ -2.39819169e+00,   3.62390765e-01],\n",
       "       [ -2.22678121e+00,  -1.02548255e+00],\n",
       "       [ -2.20595417e+00,  -3.22378453e-02],\n",
       "       [  1.10399365e+00,  -8.63112446e-01],\n",
       "       [  7.32481440e-01,  -5.98635573e-01],\n",
       "       [  1.24210951e+00,  -6.14822450e-01],\n",
       "       [  3.97307283e-01,   1.75816895e+00],\n",
       "       [  1.07259395e+00,   2.11757903e-01],\n",
       "       [  3.84458146e-01,   5.91062469e-01],\n",
       "       [  7.48715076e-01,  -7.78698611e-01],\n",
       "       [ -4.97863388e-01,   1.84886877e+00],\n",
       "       [  9.26222368e-01,  -3.03308268e-02],\n",
       "       [  4.96802558e-03,   1.02940111e+00],\n",
       "       [ -1.24697461e-01,   2.65806268e+00],\n",
       "       [  4.38730118e-01,   5.88812850e-02],\n",
       "       [  5.51633981e-01,   1.77258156e+00],\n",
       "       [  7.17165066e-01,   1.85434315e-01],\n",
       "       [ -3.72583830e-02,   4.32795099e-01],\n",
       "       [  8.75890536e-01,  -5.09998151e-01],\n",
       "       [  3.48006402e-01,   1.90621647e-01],\n",
       "       [  1.53392545e-01,   7.90725456e-01],\n",
       "       [  1.21530321e+00,   1.63335564e+00],\n",
       "       [  1.56941176e-01,   1.30310327e+00],\n",
       "       [  7.38256104e-01,  -4.02470382e-01],\n",
       "       [  4.72369682e-01,   4.16608222e-01],\n",
       "       [  1.22798821e+00,   9.40914793e-01],\n",
       "       [  6.29381045e-01,   4.16811643e-01],\n",
       "       [  7.00472799e-01,   6.34939277e-02],\n",
       "       [  8.73536987e-01,  -2.50708611e-01],\n",
       "       [  1.25422219e+00,   8.26200998e-02],\n",
       "       [  1.35823985e+00,  -3.28820266e-01],\n",
       "       [  6.62126138e-01,   2.24346071e-01],\n",
       "       [ -4.72815133e-02,   1.05721241e+00],\n",
       "       [  1.21534209e-01,   1.56359238e+00],\n",
       "       [  1.41182261e-02,   1.57339235e+00],\n",
       "       [  2.36010837e-01,   7.75923784e-01],\n",
       "       [  1.05669143e+00,   6.36901284e-01],\n",
       "       [  2.21417088e-01,   2.80847693e-01],\n",
       "       [  4.31783161e-01,  -8.55136920e-01],\n",
       "       [  1.04941336e+00,  -5.22197265e-01],\n",
       "       [  1.03587821e+00,   1.39246648e+00],\n",
       "       [  6.70675999e-02,   2.12620735e-01],\n",
       "       [  2.75425066e-01,   1.32981591e+00],\n",
       "       [  2.72335066e-01,   1.11944152e+00],\n",
       "       [  6.23170540e-01,  -2.75426333e-02],\n",
       "       [  3.30005364e-01,   9.88900732e-01],\n",
       "       [ -3.73627623e-01,   2.01793227e+00],\n",
       "       [  2.82944343e-01,   8.53950717e-01],\n",
       "       [  8.90531103e-02,   1.74908548e-01],\n",
       "       [  2.24356783e-01,   3.80484659e-01],\n",
       "       [  5.73883486e-01,   1.53719974e-01],\n",
       "       [ -4.57012873e-01,   1.53946451e+00],\n",
       "       [  2.52244473e-01,   5.95860746e-01],\n",
       "       [  1.84767259e+00,  -8.71696662e-01],\n",
       "       [  1.15318981e+00,   7.01326114e-01],\n",
       "       [  2.20634950e+00,  -5.54470105e-01],\n",
       "       [  1.43868540e+00,   5.00105223e-02],\n",
       "       [  1.86789070e+00,  -2.91192802e-01],\n",
       "       [  2.75419671e+00,  -7.88432206e-01],\n",
       "       [  3.58374475e-01,   1.56009458e+00],\n",
       "       [  2.30300590e+00,  -4.09516695e-01],\n",
       "       [  2.00173530e+00,   7.23865359e-01],\n",
       "       [  2.26755460e+00,  -1.92144299e+00],\n",
       "       [  1.36590943e+00,  -6.93948040e-01],\n",
       "       [  1.59906459e+00,   4.28248836e-01],\n",
       "       [  1.88425185e+00,  -4.14332758e-01],\n",
       "       [  1.25308651e+00,   1.16739134e+00],\n",
       "       [  1.46406152e+00,   4.44147569e-01],\n",
       "       [  1.59180930e+00,  -6.77035372e-01],\n",
       "       [  1.47128019e+00,  -2.53192472e-01],\n",
       "       [  2.43737848e+00,  -2.55675734e+00],\n",
       "       [  3.30914118e+00,   2.36132010e-03],\n",
       "       [  1.25398099e+00,   1.71758384e+00],\n",
       "       [  2.04049626e+00,  -9.07398765e-01],\n",
       "       [  9.73915114e-01,   5.71174376e-01],\n",
       "       [  2.89806444e+00,  -3.97791359e-01],\n",
       "       [  1.32919369e+00,   4.86760542e-01],\n",
       "       [  1.70424071e+00,  -1.01414842e+00],\n",
       "       [  1.95772766e+00,  -1.00333452e+00],\n",
       "       [  1.17190451e+00,   3.18896617e-01],\n",
       "       [  1.01978105e+00,  -6.55429631e-02],\n",
       "       [  1.78600886e+00,   1.93272800e-01],\n",
       "       [  1.86477791e+00,  -5.55381532e-01],\n",
       "       [  2.43549739e+00,  -2.46654468e-01],\n",
       "       [  2.31608241e+00,  -2.62618387e+00],\n",
       "       [  1.86037143e+00,   1.84672394e-01],\n",
       "       [  1.11127173e+00,   2.95986102e-01],\n",
       "       [  1.19746916e+00,   8.17167742e-01],\n",
       "       [  2.80094940e+00,  -8.44748194e-01],\n",
       "       [  1.58015525e+00,  -1.07247450e+00],\n",
       "       [  1.34704442e+00,  -4.22255966e-01],\n",
       "       [  9.23432978e-01,  -1.92303705e-02],\n",
       "       [  1.85355198e+00,  -6.72422729e-01],\n",
       "       [  2.01615720e+00,  -6.10397038e-01],\n",
       "       [  1.90311686e+00,  -6.86024832e-01],\n",
       "       [  1.15318981e+00,   7.01326114e-01],\n",
       "       [  2.04330844e+00,  -8.64684880e-01],\n",
       "       [  2.00169097e+00,  -1.04855005e+00],\n",
       "       [  1.87052207e+00,  -3.82821838e-01],\n",
       "       [  1.55849189e+00,   9.05313601e-01],\n",
       "       [  1.52084506e+00,  -2.66794575e-01],\n",
       "       [  1.37639119e+00,  -1.01636193e+00],\n",
       "       [  9.59298576e-01,   2.22839447e-02]])"
      ]
     },
     "execution_count": 45,
     "metadata": {},
     "output_type": "execute_result"
    }
   ],
   "source": [
    "pcask = PCA(n_components=2)\n",
    "y_sk = pcask.fit_transform(X_standard)\n",
    "y_sk"
   ]
  },
  {
   "cell_type": "code",
   "execution_count": null,
   "metadata": {
    "collapsed": true
   },
   "outputs": [],
   "source": []
  }
 ],
 "metadata": {
  "anaconda-cloud": {},
  "kernelspec": {
   "display_name": "Python [Root]",
   "language": "python",
   "name": "Python [Root]"
  },
  "language_info": {
   "codemirror_mode": {
    "name": "ipython",
    "version": 2
   },
   "file_extension": ".py",
   "mimetype": "text/x-python",
   "name": "python",
   "nbconvert_exporter": "python",
   "pygments_lexer": "ipython2",
   "version": "2.7.12"
  }
 },
 "nbformat": 4,
 "nbformat_minor": 0
}
