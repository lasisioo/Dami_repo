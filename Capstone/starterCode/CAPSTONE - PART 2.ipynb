{
 "cells": [
  {
   "cell_type": "code",
   "execution_count": null,
   "metadata": {
    "collapsed": true
   },
   "outputs": [],
   "source": []
  },
  {
   "cell_type": "code",
   "execution_count": null,
   "metadata": {
    "collapsed": true
   },
   "outputs": [],
   "source": [
    "DF.head()"
   ]
  },
  {
   "cell_type": "markdown",
   "metadata": {},
   "source": [
    "Variable|Description\n",
    "--|--\n",
    "country|Country Name\n",
    "coup|1 = Coup(successful and attempted), 0 = No coup\n",
    "gdppercap|GDP per capita \n",
    "gdpgrowth|GDP growth rate\n",
    "urbanpop|Percentage of urban population\n",
    "gendeathmag|Scaled annual number of deaths (range 0-5.0)\n",
    "revmagfight|Scaled annual number of fatalities related to revolutionary fighting (range 0-4)\n",
    "ethmagfatal|Scaled annual number of fatalities related to ethnic fighting (range 0-4)\n",
    "revmagfatal|Scaled number of rebel combatants or activists in revolutionary war (range 0-4)\n",
    "ethmagfight|Scaled number of rebel combatants or activists in ethnic war (range 0-4)\n",
    "polity2|Polity scale ranging from +10 (strongly democratic) to -10 (strongly autocratic)\n",
    "durable|\n",
    "yip|Number of years head of state has been in power\n",
    "none|No violence occured\n",
    "eth|Indicates the occurence of an ethnic violence\n",
    "rev|Indicates the occurence of a revolutionary violence\n",
    "gen|Indicates the occurence of a genocide\n",
    "ethnic| Ethnic Fractionalization\n",
    "linguistic|Linguistic Fractionalization\n",
    "religious| Religious Fractionalization"
   ]
  },
  {
   "cell_type": "code",
   "execution_count": null,
   "metadata": {
    "collapsed": true
   },
   "outputs": [],
   "source": [
    "# To observe the differences in distribution of feactures for coup and no coup\n",
    "fig, ((ax1, ax2, ax3), (ax4, ax5, ax6), (ax7, ax8, ax9), (ax10, ax11, ax12), \\\n",
    "      (ax13, ax14, ax15), (ax16, ax17, ax18)) = plt.subplots(nrows=6, ncols=3, \\\n",
    "        sharey=False, sharex=True, figsize=(20,30))\n",
    "fig.suptitle(\"Feature Distributions for Coup and No Coup\", size=50)\n",
    "\n",
    "sns.set_style(\"whitegrid\")\n",
    "sns.violinplot(x='coup', y=\"gdppercap\", data=DF, ax=ax1)\n",
    "ax1.set_xlabel(\"Coup\", fontsize=15)\n",
    "ax1.set_ylabel(\"GDP/Capita\", fontsize=15)  \n",
    "    \n",
    "sns.violinplot(x='coup', y=\"gdpgrowth\", data=DF, ax=ax2)\n",
    "ax2.set_xlabel(\"Coup\", fontsize=15)\n",
    "ax2.set_ylabel(\"GDP Growth\", fontsize=15)\n",
    "\n",
    "sns.violinplot(x='coup', y=\"urbanpop\", data=DF, ax=ax3)\n",
    "ax3.set_xlabel(\"Coup\", fontsize=15)\n",
    "ax3.set_ylabel(\"Urban Pop.\", fontsize=15)\n",
    "\n",
    "sns.violinplot(x='coup', y=\"none\", data=DF, ax=ax4)\n",
    "ax4.set_xlabel(\"Coup\", fontsize=15)\n",
    "ax4.set_ylabel(\"None\", fontsize=15)\n",
    "\n",
    "sns.violinplot(x='coup', y=\"revmagfight\", data=DF, ax=ax5)\n",
    "ax5.set_xlabel(\"Coup\", fontsize=15)\n",
    "ax5.set_ylabel(\"RevMagFight\", fontsize=15)\n",
    "\n",
    "sns.violinplot(x='coup', y=\"gendeathmag\", data=DF, ax=ax6)\n",
    "ax6.set_xlabel(\"Coup\", fontsize=15)\n",
    "ax6.set_ylabel(\"GenDeathMag\", fontsize=15)\n",
    "\n",
    "sns.violinplot(x='coup', y=\"ethmagfatal\", data=DF, ax=ax7)\n",
    "ax7.set_xlabel(\"Coup\", fontsize=15)\n",
    "ax7.set_ylabel(\"EthMagFatal\", fontsize=15)\n",
    "\n",
    "sns.violinplot(x='coup', y=\"revmagfatal\", data=DF, ax=ax8)\n",
    "ax8.set_xlabel(\"Coup\", fontsize=15)\n",
    "ax8.set_ylabel(\"RevMagFatal\", fontsize=15)\n",
    "\n",
    "sns.violinplot(x='coup', y=\"eth\", data=DF, ax=ax9)\n",
    "ax9.set_xlabel(\"Coup\", fontsize=15)\n",
    "ax9.set_ylabel(\"Eth\", fontsize=15)\n",
    "\n",
    "sns.violinplot(x='coup', y=\"ethmagfight\", data=DF, ax=ax10)\n",
    "ax10.set_xlabel(\"Coup\", fontsize=15)\n",
    "ax10.set_ylabel(\"EthMagFight\", fontsize=15)\n",
    "\n",
    "sns.violinplot(x='coup', y=\"rev\", data=DF, ax=ax11)\n",
    "ax11.set_xlabel(\"Coup\", fontsize=15)\n",
    "ax11.set_ylabel(\"Rev\", fontsize=15)\n",
    "\n",
    "sns.violinplot(x='coup', y=\"gen\", data=DF, ax=ax12)\n",
    "ax12.set_xlabel(\"Coup\", fontsize=15)\n",
    "ax12.set_ylabel(\"Gen\", fontsize=15)\n",
    "\n",
    "sns.violinplot(x='coup', y=\"polity2\", data=DF, ax=ax13)\n",
    "ax13.set_xlabel(\"Coup\", fontsize=15)\n",
    "ax13.set_ylabel(\"Polity\", fontsize=15)\n",
    "\n",
    "sns.violinplot(x='coup', y=\"durable\", data=DF, ax=ax14)\n",
    "ax14.set_xlabel(\"Coup\", fontsize=15)\n",
    "ax14.set_ylabel(\"Durable\", fontsize=15)\n",
    "\n",
    "sns.violinplot(x='coup', y=\"linguistic\", data=DF, ax=ax15)\n",
    "ax15.set_xlabel(\"Coup\", fontsize=15)\n",
    "ax15.set_ylabel(\"Linguistic\", fontsize=15)\n",
    "\n",
    "sns.violinplot(x='coup', y=\"yip\", data=DF, ax=ax16)\n",
    "ax16.set_xlabel(\"Coup\", fontsize=15)\n",
    "ax16.set_ylabel(\"YIP\", fontsize=15)\n",
    "\n",
    "sns.violinplot(x='coup', y=\"ethnic\", data=DF, ax=ax17)\n",
    "ax17.set_xlabel(\"Coup\", fontsize=15)\n",
    "ax17.set_ylabel(\"Ethnic\", fontsize=15)\n",
    "\n",
    "sns.violinplot(x='coup', y=\"religious\", data=DF, ax=ax18)\n",
    "ax18.set_xlabel(\"Coup\", fontsize=15)\n",
    "ax18.set_ylabel(\"Religious\", fontsize=15)\n",
    "\n",
    "fig.subplots_adjust(hspace=.3, wspace=.3)"
   ]
  },
  {
   "cell_type": "code",
   "execution_count": null,
   "metadata": {
    "collapsed": true
   },
   "outputs": [],
   "source": [
    "# To split the dataframe into one with instances of a coup and another with instances of no coup\n",
    "acoup = DF.loc[DF.coup==1]\n",
    "nocoup = DF.loc[DF.coup==0]"
   ]
  },
  {
   "cell_type": "code",
   "execution_count": null,
   "metadata": {
    "collapsed": true
   },
   "outputs": [],
   "source": [
    "acoup.describe()"
   ]
  },
  {
   "cell_type": "code",
   "execution_count": null,
   "metadata": {
    "collapsed": true
   },
   "outputs": [],
   "source": [
    "nocoup.describe()"
   ]
  },
  {
   "cell_type": "code",
   "execution_count": null,
   "metadata": {
    "collapsed": true
   },
   "outputs": [],
   "source": [
    "# To test for statistical differences in the means of features for coup and no coup\n",
    "features = [\"gdppercap\", \"gdpgrowth\", \"urbanpop\", \"none\", \"revmagfight\", \n",
    "            \"gendeathmag\", \"ethmagfatal\", \"revmagfatal\", \"eth\", \n",
    "            \"ethmagfight\", \"rev\", \"gen\", \"polity2\", \"durable\", \n",
    "            \"yip\", \"ethnic\", \"linguistic\", \"religious\"]\n",
    "\n",
    "for i in features:\n",
    "    print ttest_ind(acoup[i], nocoup[i])"
   ]
  },
  {
   "cell_type": "code",
   "execution_count": null,
   "metadata": {
    "collapsed": true
   },
   "outputs": [],
   "source": [
    "DF.groupby(\"polity2\").mean()"
   ]
  },
  {
   "cell_type": "code",
   "execution_count": null,
   "metadata": {
    "collapsed": true
   },
   "outputs": [],
   "source": [
    "DF.groupby(\"coup\").mean()"
   ]
  }
 ],
 "metadata": {
  "anaconda-cloud": {},
  "kernelspec": {
   "display_name": "Python [Root]",
   "language": "python",
   "name": "Python [Root]"
  },
  "language_info": {
   "codemirror_mode": {
    "name": "ipython",
    "version": 2
   },
   "file_extension": ".py",
   "mimetype": "text/x-python",
   "name": "python",
   "nbconvert_exporter": "python",
   "pygments_lexer": "ipython2",
   "version": "2.7.12"
  }
 },
 "nbformat": 4,
 "nbformat_minor": 0
}
