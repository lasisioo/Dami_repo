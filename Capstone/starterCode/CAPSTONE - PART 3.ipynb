{
 "cells": [
  {
   "cell_type": "code",
   "execution_count": null,
   "metadata": {
    "collapsed": true
   },
   "outputs": [],
   "source": [
    "worldMap = {\n",
    "            \"southAmerica\": [\"Argentina\", \"Chile\", \"Colombia\", \"Peru\"],\n",
    "            \"centralAmerica\": [\"El Salvador\", \"Guatemala\", \"Mexico\", \"Nicaragua\"],\n",
    "            \"caribbean\": [\"Cuba\", \"Dominican Republic\", ],\n",
    "            \"northernEurope\": [\"United Kingdom\"],\n",
    "            \"southernEurope\": [\"Albania\", \"Croatia\"],\n",
    "            \"easternEurope\": [\"Hungary\", \"Moldova\", \"Romania\", \"Russia\", \"Ukraine\"],\n",
    "            \"centralAsia\": [\"Tajikistan\"],\n",
    "            \"southEasternAsia\": [\"Cambodia\", \"Indonesia\", \"Laos\", \"Philippines\", \"Thailand\"],\n",
    "            \"southernAsia\": [\"Afghanistan\", \"Bangladesh\", \"India\", \"Iran\", \"Nepal\",\"Pakistan\", \"Sri Lanka\"],\n",
    "            \"easternAsia\": [\"China\"],\n",
    "            \"westernAsia\": [\"Azerbaijan\", \"Cyprus\", \"Georgia\", \"Iraq\", \"Israel\", \"Lebanon\", \"Oman\", \"Syria\", \"Turkey\"],\n",
    "            \"oceania\": [\"Papua New Guinea\"],\n",
    "            \"northernAfrica\": [\"Algeria\", \"Egypt\", \"Libya\", \"Morocco\", \"Sudan\"],\n",
    "            \"southernAfrica\": [\"South Africa\"],\n",
    "            \"easternAfrica\": [\"Burundi\", \"Djibouti\", \"Ethiopia\", \"Kenya\", \"Mozambique\", \"Rwanda\", \"Uganda\", \"Zambia\", \"Zimbabwe\"],\n",
    "            \"westernAfrica\": [\"Guinea\", \"Guinea-Bissau\", \"Liberia\", \"Mali\", \"Nigeria\", \"Senegal\", \"Sierra Leone\"],\n",
    "            \"middleAfrica\": [\"Angola\", \"Central African Republic\", \"Chad\", \"DR Congo\", \"Equatorial Guinea\"]\n",
    "}"
   ]
  },
  {
   "cell_type": "code",
   "execution_count": null,
   "metadata": {
    "collapsed": true
   },
   "outputs": [],
   "source": [
    "def binCountry(country, worldMap):\n",
    "    for region, countryList in worldMap.items():\n",
    "        if country in countryList:\n",
    "            return region\n",
    "        \n",
    "\n",
    "DF[\"CountryBin\"] = DF.country.apply( lambda country: binCountry(country, worldMap) )\n",
    "dummies = pd.get_dummies( DF[\"CountryBin\"] )\n",
    "DF2 = DF.join(dummies)\n",
    "DF2.drop([\"country\", \"CountryBin\"], axis=1, inplace=True)"
   ]
  },
  {
   "cell_type": "code",
   "execution_count": null,
   "metadata": {
    "collapsed": true
   },
   "outputs": [],
   "source": [
    "y = DF2[\"coup\"]\n",
    "X = DF2.drop([\"coup\"], axis=1)"
   ]
  },
  {
   "cell_type": "markdown",
   "metadata": {},
   "source": [
    "## Random Forest Classifier"
   ]
  },
  {
   "cell_type": "code",
   "execution_count": null,
   "metadata": {
    "collapsed": true
   },
   "outputs": [],
   "source": [
    "cv = KFold(len(y_train), shuffle=False) \n",
    "print cv\n",
    "rf = RandomForestClassifier(bootstrap=True, class_weight=None, criterion='gini',\n",
    "            max_depth=None, max_features=\"sqrt\", max_leaf_nodes=None,\n",
    "            min_samples_leaf=1, min_samples_split=6,\n",
    "            min_weight_fraction_leaf=0.0, n_estimators=50, n_jobs=1,\n",
    "            oob_score=True, random_state=20, verbose=0, warm_start=False)\n",
    "rfScore = cross_val_score(rf, X_train, y_train, cv=cv, n_jobs=-1)\n",
    "print \"Regular Decision Tree scores are:\", rfScore\n",
    "print \"Regular Decision Tree average score is:\", rfScore.mean()"
   ]
  },
  {
   "cell_type": "code",
   "execution_count": null,
   "metadata": {
    "collapsed": true
   },
   "outputs": [],
   "source": []
  }
 ],
 "metadata": {
  "kernelspec": {
   "display_name": "Python [Root]",
   "language": "python",
   "name": "Python [Root]"
  },
  "language_info": {
   "codemirror_mode": {
    "name": "ipython",
    "version": 2
   },
   "file_extension": ".py",
   "mimetype": "text/x-python",
   "name": "python",
   "nbconvert_exporter": "python",
   "pygments_lexer": "ipython2",
   "version": "2.7.12"
  }
 },
 "nbformat": 4,
 "nbformat_minor": 0
}
