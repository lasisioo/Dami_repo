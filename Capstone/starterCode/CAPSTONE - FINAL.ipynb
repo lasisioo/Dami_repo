{
 "cells": [
  {
   "cell_type": "code",
   "execution_count": 1,
   "metadata": {
    "collapsed": false
   },
   "outputs": [],
   "source": [
    "import pandas as pd\n",
    "import matplotlib.axes as ax\n",
    "%matplotlib inline\n",
    "import numpy as np\n",
    "import seaborn as sns\n",
    "from scipy.stats import ttest_ind\n",
    "import matplotlib.pyplot as plt"
   ]
  },
  {
   "cell_type": "markdown",
   "metadata": {},
   "source": [
    "## Executive Summary"
   ]
  },
  {
   "cell_type": "markdown",
   "metadata": {},
   "source": [
    "Military coups have existed since as far as 800 BC. They occur when an illegitimate claimant to power within a state for at least seven days. Although coups have been fewer in recent time, there have been about 460 coup attempts since 1950 (of which roughly 50% were successful). In past century, coups have been mostly common in Africa and the Americas, with fewer coups occurring Europe. Most of the coup attempts in the past 60 years occurred in the 1960s, at the same times majority of African nations gained independece from the Europeans. However, in recent times, successful coups have been less frequent either because governments have developed new methods in containing the usurpers, or because recent coup leaders are less strategic in claiming the throne. That, however, is a data science question for another project. \n",
    "\n",
    "Although successful coups are more prominent, attempted coups are more frequent than one would expect. In the past 16 years alone, there have been 30 attempted coups (seven successful), with majority occurring in Africa. Many of these coup attemps did not gain as much international attention as that of Turkey that occurred July 15, 2016. The recent coups attempts causes one to wonder if there ways to predict a coup attempt (successful or not), given the social and polical climate in a state.\n",
    "\n",
    "Problem Statement: Considering social and political instabilities that have occurred in recent times, I want predict the likelihood of a coup d'etat within a country, given specific economic, political and social factors.\n",
    "\n",
    "- Economic factors: income per capita, growth rate\n",
    "- Social factors: accounts of ethnic violence, religious, linguistic, and ethnic fractionalization, fatalities from \n",
    "  violence, urbanization\n",
    "- Political factors: polity score, length of stay for incumbent head of state\n",
    "\n",
    "\n",
    "Data was collected from the Center for Systemic Peace, and then parsed. For my analysis, I will be using a Random Forest Classifier model to predict the occurrence of a coup. The dataset consist of 2,996 observations and 20 variables. \n",
    "  "
   ]
  },
  {
   "cell_type": "code",
   "execution_count": 2,
   "metadata": {
    "collapsed": false
   },
   "outputs": [],
   "source": [
    "coup = pd.read_csv(\"../assets/csv/Coups.csv\")\n",
    "stab = pd.read_csv(\"../assets/csv/Politicalinstability2.csv\")\n",
    "polity = pd.read_csv(\"../assets/csv/polity.csv\")\n",
    "leaders = pd.read_csv(\"../assets/csv/leaders.csv\")\n",
    "urban = pd.read_csv(\"../assets/csv/urbanpop.csv\")\n",
    "gdp = pd.read_csv(\"../assets/csv/Realpercapitagdp.csv\")\n",
    "growth = pd.read_csv(\"../assets/csv/GDPgrowth.csv\")"
   ]
  },
  {
   "cell_type": "code",
   "execution_count": 3,
   "metadata": {
    "collapsed": false
   },
   "outputs": [],
   "source": [
    "#coup.head()"
   ]
  },
  {
   "cell_type": "code",
   "execution_count": 4,
   "metadata": {
    "collapsed": false
   },
   "outputs": [],
   "source": [
    "# Summing scoup1(successful coups) and acoup1(attempted coups) to generate sumcoup\n",
    "# I want a columns with binary variables that indicates coup (successful and attempted) or no coup\n",
    "coup[\"sumcoup\"] = coup[\"scoup1\"] + coup[\"atcoup2\"]\n",
    "\n",
    "# To make a bianary column\n",
    "coupbin = []\n",
    "for i in coup[\"sumcoup\"].tolist():\n",
    "    if i > 0:\n",
    "        coupbin.append(1)\n",
    "    if i == 0:\n",
    "        coupbin.append(0)\n",
    "coup[\"Coup\"] = coupbin"
   ]
  },
  {
   "cell_type": "code",
   "execution_count": 5,
   "metadata": {
    "collapsed": false
   },
   "outputs": [],
   "source": [
    "# Dropping unnecessary columns\n",
    "coup.drop([\"scoup1\", \"atcoup2\", \"sumcoup\"], axis=1, inplace=True)"
   ]
  },
  {
   "cell_type": "code",
   "execution_count": 6,
   "metadata": {
    "collapsed": false
   },
   "outputs": [
    {
     "data": {
      "text/html": [
       "<div>\n",
       "<table border=\"1\" class=\"dataframe\">\n",
       "  <thead>\n",
       "    <tr style=\"text-align: right;\">\n",
       "      <th></th>\n",
       "      <th>country</th>\n",
       "      <th>year</th>\n",
       "      <th>Coup</th>\n",
       "    </tr>\n",
       "  </thead>\n",
       "  <tbody>\n",
       "    <tr>\n",
       "      <th>0</th>\n",
       "      <td>Afghanistan</td>\n",
       "      <td>1955</td>\n",
       "      <td>0</td>\n",
       "    </tr>\n",
       "    <tr>\n",
       "      <th>1</th>\n",
       "      <td>Afghanistan</td>\n",
       "      <td>1956</td>\n",
       "      <td>0</td>\n",
       "    </tr>\n",
       "    <tr>\n",
       "      <th>2</th>\n",
       "      <td>Afghanistan</td>\n",
       "      <td>1957</td>\n",
       "      <td>0</td>\n",
       "    </tr>\n",
       "    <tr>\n",
       "      <th>3</th>\n",
       "      <td>Afghanistan</td>\n",
       "      <td>1958</td>\n",
       "      <td>0</td>\n",
       "    </tr>\n",
       "    <tr>\n",
       "      <th>4</th>\n",
       "      <td>Afghanistan</td>\n",
       "      <td>1959</td>\n",
       "      <td>0</td>\n",
       "    </tr>\n",
       "  </tbody>\n",
       "</table>\n",
       "</div>"
      ],
      "text/plain": [
       "       country  year  Coup\n",
       "0  Afghanistan  1955     0\n",
       "1  Afghanistan  1956     0\n",
       "2  Afghanistan  1957     0\n",
       "3  Afghanistan  1958     0\n",
       "4  Afghanistan  1959     0"
      ]
     },
     "execution_count": 6,
     "metadata": {},
     "output_type": "execute_result"
    }
   ],
   "source": [
    "coup.head()"
   ]
  },
  {
   "cell_type": "code",
   "execution_count": 7,
   "metadata": {
    "collapsed": false
   },
   "outputs": [],
   "source": [
    "# coup.head()"
   ]
  },
  {
   "cell_type": "code",
   "execution_count": 8,
   "metadata": {
    "collapsed": false
   },
   "outputs": [],
   "source": [
    "# To covert the variables in PTYPE to dummy variables \n",
    "dummies = pd.get_dummies(stab[\"PTYPE\"])\n",
    "stab = stab[[\"COUNTRY\", \"YEAR\", \"GENDEATHMAG\", \"ETHMAGFATAL\", \n",
    "             \"ETHMAGFIGHT\", \"REVMAGFATAL\", \"REVMAGFIGHT\"]].join(dummies)\n",
    "\n",
    "stab.columns = [\"COUNTRY\", \"YEAR\", \"GENDEATHMAG\", \"ETHMAGFATAL\", \n",
    "                \"ETHMAGFIGHT\", \"REVMAGFATAL\", \"REVMAGFIGHT\", \"NONE\",\n",
    "                \"ETH\", \"REV\", \"GEN\"]"
   ]
  },
  {
   "cell_type": "code",
   "execution_count": 9,
   "metadata": {
    "collapsed": false
   },
   "outputs": [],
   "source": [
    "# To avoid repetition of rows, I want to group the dataframes bq\n",
    "aggMap = { \"NONE\" : \"max\", \"ETH\" : \"max\", \"REV\" : \"max\", \n",
    "           \"GEN\" : \"max\", \"GENDEATHMAG\" : \"max\", \n",
    "           \"ETHMAGFATAL\" : \"max\", \"ETHMAGFIGHT\" : \"max\", \n",
    "           \"REVMAGFATAL\" : \"max\", \"REVMAGFIGHT\" : \"max\" }\n",
    "\n",
    "stabGrouped = stab.groupby([\"COUNTRY\",\"YEAR\"]).agg(aggMap).reset_index()"
   ]
  },
  {
   "cell_type": "code",
   "execution_count": 10,
   "metadata": {
    "collapsed": false
   },
   "outputs": [],
   "source": [
    "#stabGrouped.head()"
   ]
  },
  {
   "cell_type": "code",
   "execution_count": 11,
   "metadata": {
    "collapsed": false
   },
   "outputs": [
    {
     "data": {
      "text/html": [
       "<div>\n",
       "<table border=\"1\" class=\"dataframe\">\n",
       "  <thead>\n",
       "    <tr style=\"text-align: right;\">\n",
       "      <th></th>\n",
       "      <th>COUNTRY</th>\n",
       "      <th>YEAR</th>\n",
       "      <th>GENDEATHMAG</th>\n",
       "      <th>ETHMAGFATAL</th>\n",
       "      <th>ETHMAGFIGHT</th>\n",
       "      <th>REVMAGFATAL</th>\n",
       "      <th>REVMAGFIGHT</th>\n",
       "      <th>NONE</th>\n",
       "      <th>ETH</th>\n",
       "      <th>REV</th>\n",
       "      <th>GEN</th>\n",
       "    </tr>\n",
       "  </thead>\n",
       "  <tbody>\n",
       "    <tr>\n",
       "      <th>0</th>\n",
       "      <td>Afghanistan</td>\n",
       "      <td>1955</td>\n",
       "      <td>0.0</td>\n",
       "      <td>0</td>\n",
       "      <td>0</td>\n",
       "      <td>0</td>\n",
       "      <td>0</td>\n",
       "      <td>1.0</td>\n",
       "      <td>0.0</td>\n",
       "      <td>0.0</td>\n",
       "      <td>0.0</td>\n",
       "    </tr>\n",
       "    <tr>\n",
       "      <th>1</th>\n",
       "      <td>Afghanistan</td>\n",
       "      <td>1956</td>\n",
       "      <td>0.0</td>\n",
       "      <td>0</td>\n",
       "      <td>0</td>\n",
       "      <td>0</td>\n",
       "      <td>0</td>\n",
       "      <td>1.0</td>\n",
       "      <td>0.0</td>\n",
       "      <td>0.0</td>\n",
       "      <td>0.0</td>\n",
       "    </tr>\n",
       "    <tr>\n",
       "      <th>2</th>\n",
       "      <td>Afghanistan</td>\n",
       "      <td>1957</td>\n",
       "      <td>0.0</td>\n",
       "      <td>0</td>\n",
       "      <td>0</td>\n",
       "      <td>0</td>\n",
       "      <td>0</td>\n",
       "      <td>1.0</td>\n",
       "      <td>0.0</td>\n",
       "      <td>0.0</td>\n",
       "      <td>0.0</td>\n",
       "    </tr>\n",
       "    <tr>\n",
       "      <th>3</th>\n",
       "      <td>Afghanistan</td>\n",
       "      <td>1958</td>\n",
       "      <td>0.0</td>\n",
       "      <td>0</td>\n",
       "      <td>0</td>\n",
       "      <td>0</td>\n",
       "      <td>0</td>\n",
       "      <td>1.0</td>\n",
       "      <td>0.0</td>\n",
       "      <td>0.0</td>\n",
       "      <td>0.0</td>\n",
       "    </tr>\n",
       "    <tr>\n",
       "      <th>4</th>\n",
       "      <td>Afghanistan</td>\n",
       "      <td>1959</td>\n",
       "      <td>0.0</td>\n",
       "      <td>0</td>\n",
       "      <td>0</td>\n",
       "      <td>0</td>\n",
       "      <td>0</td>\n",
       "      <td>1.0</td>\n",
       "      <td>0.0</td>\n",
       "      <td>0.0</td>\n",
       "      <td>0.0</td>\n",
       "    </tr>\n",
       "  </tbody>\n",
       "</table>\n",
       "</div>"
      ],
      "text/plain": [
       "       COUNTRY  YEAR  GENDEATHMAG  ETHMAGFATAL  ETHMAGFIGHT  REVMAGFATAL  \\\n",
       "0  Afghanistan  1955          0.0            0            0            0   \n",
       "1  Afghanistan  1956          0.0            0            0            0   \n",
       "2  Afghanistan  1957          0.0            0            0            0   \n",
       "3  Afghanistan  1958          0.0            0            0            0   \n",
       "4  Afghanistan  1959          0.0            0            0            0   \n",
       "\n",
       "   REVMAGFIGHT  NONE  ETH  REV  GEN  \n",
       "0            0   1.0  0.0  0.0  0.0  \n",
       "1            0   1.0  0.0  0.0  0.0  \n",
       "2            0   1.0  0.0  0.0  0.0  \n",
       "3            0   1.0  0.0  0.0  0.0  \n",
       "4            0   1.0  0.0  0.0  0.0  "
      ]
     },
     "execution_count": 11,
     "metadata": {},
     "output_type": "execute_result"
    }
   ],
   "source": [
    "stab.head()"
   ]
  },
  {
   "cell_type": "code",
   "execution_count": 12,
   "metadata": {
    "collapsed": false
   },
   "outputs": [],
   "source": [
    "# Joining the political stabilty and coup tables \n",
    "coup1 = coup.merge(stabGrouped, how=\"inner\", left_on=[\"country\", \"year\"], right_on=[\"COUNTRY\", \"YEAR\"])"
   ]
  },
  {
   "cell_type": "code",
   "execution_count": 13,
   "metadata": {
    "collapsed": false
   },
   "outputs": [],
   "source": [
    "# dropping the unnecessary columns and setting all columns to lower case for easier manipulation in the future\n",
    "coup1.drop([\"COUNTRY\", \"YEAR\"], axis=1, inplace=True)\n",
    "coup1.columns = map(str.lower, coup1.columns)"
   ]
  },
  {
   "cell_type": "code",
   "execution_count": 14,
   "metadata": {
    "collapsed": false
   },
   "outputs": [],
   "source": [
    "#coup1.head()"
   ]
  },
  {
   "cell_type": "code",
   "execution_count": 15,
   "metadata": {
    "collapsed": false
   },
   "outputs": [],
   "source": [
    "#polity.head()"
   ]
  },
  {
   "cell_type": "code",
   "execution_count": 16,
   "metadata": {
    "collapsed": true
   },
   "outputs": [],
   "source": [
    "# Dropping unnecessary variables\n",
    "polity.drop([\"flag\", \"fragment\", \"democ\", \"autoc\", \"polity\"], axis=1, inplace=True)"
   ]
  },
  {
   "cell_type": "code",
   "execution_count": 17,
   "metadata": {
    "collapsed": true
   },
   "outputs": [],
   "source": [
    "# Merging polity table with coup1 table\n",
    "coup2 = coup1.merge(polity, how=\"inner\", left_on=[\"country\", \"year\"], right_on=[\"country\", \"year\"])"
   ]
  },
  {
   "cell_type": "code",
   "execution_count": 18,
   "metadata": {
    "collapsed": false
   },
   "outputs": [],
   "source": [
    "#coup2.head()"
   ]
  },
  {
   "cell_type": "code",
   "execution_count": 19,
   "metadata": {
    "collapsed": false
   },
   "outputs": [],
   "source": [
    "#leaders.head()"
   ]
  },
  {
   "cell_type": "code",
   "execution_count": 20,
   "metadata": {
    "collapsed": true
   },
   "outputs": [],
   "source": [
    "# Merging coup2 and leaders\n",
    "coup3 = coup2.merge(leaders, how=\"inner\", left_on=[\"country\", \"year\"], right_on=[\"country\", \"year\"])"
   ]
  },
  {
   "cell_type": "code",
   "execution_count": 21,
   "metadata": {
    "collapsed": false
   },
   "outputs": [],
   "source": [
    "#coup3.head()"
   ]
  },
  {
   "cell_type": "code",
   "execution_count": 22,
   "metadata": {
    "collapsed": false
   },
   "outputs": [],
   "source": [
    "#urban.head()"
   ]
  },
  {
   "cell_type": "code",
   "execution_count": 23,
   "metadata": {
    "collapsed": false
   },
   "outputs": [],
   "source": [
    "# I want to change the shape of the table, so the year columns become rows\n",
    "Col1 = urban.columns[0]\n",
    "Col2 = urban.columns[1:].tolist()\n",
    "urban1 = pd.melt(urban, id_vars=(Col1), var_name=\"year\", value_vars=(Col2), value_name=\"urbanpop\")\n",
    "urban1.sort_values([\"country\", \"year\"], inplace=True)"
   ]
  },
  {
   "cell_type": "code",
   "execution_count": 24,
   "metadata": {
    "collapsed": false
   },
   "outputs": [],
   "source": [
    "#urban1.head()"
   ]
  },
  {
   "cell_type": "code",
   "execution_count": 25,
   "metadata": {
    "collapsed": false
   },
   "outputs": [],
   "source": [
    "#gdp.head()"
   ]
  },
  {
   "cell_type": "markdown",
   "metadata": {},
   "source": [
    "The gdp table shows the real per capita GDP of each country from 1969 to 2015."
   ]
  },
  {
   "cell_type": "code",
   "execution_count": 26,
   "metadata": {
    "collapsed": false
   },
   "outputs": [],
   "source": [
    "# Also changing the shape of the table here\n",
    "Col3 = gdp.columns[0]\n",
    "Col4 = gdp.columns[1:].tolist()\n",
    "gdp1 = pd.melt(gdp, id_vars=(Col3), var_name=\"year\", value_vars=(Col4), value_name=\"gdppercap\")\n",
    "gdp1.sort_values([\"country\", \"year\"], inplace=True)"
   ]
  },
  {
   "cell_type": "code",
   "execution_count": 27,
   "metadata": {
    "collapsed": false
   },
   "outputs": [],
   "source": [
    "#gdp1.head()"
   ]
  },
  {
   "cell_type": "code",
   "execution_count": 28,
   "metadata": {
    "collapsed": false
   },
   "outputs": [],
   "source": [
    "# Cleaning the values in the gdp1 table\n",
    "gdp1['gdppercap'] = gdp1['gdppercap'].str.replace('$', '')\n",
    "gdp1['gdppercap'] = gdp1['gdppercap'].str.replace(',', '')"
   ]
  },
  {
   "cell_type": "code",
   "execution_count": 29,
   "metadata": {
    "collapsed": false
   },
   "outputs": [
    {
     "name": "stderr",
     "output_type": "stream",
     "text": [
      "/Users/Lola/anaconda/lib/python2.7/site-packages/ipykernel/__main__.py:2: FutureWarning: convert_objects is deprecated.  Use the data-type specific converters pd.to_datetime, pd.to_timedelta and pd.to_numeric.\n",
      "  from ipykernel import kernelapp as app\n"
     ]
    },
    {
     "data": {
      "text/plain": [
       "country       object\n",
       "year          object\n",
       "gdppercap    float64\n",
       "dtype: object"
      ]
     },
     "execution_count": 29,
     "metadata": {},
     "output_type": "execute_result"
    }
   ],
   "source": [
    "# Coverting the values to numeric\n",
    "gdp1['gdppercap'] = gdp1['gdppercap'].convert_objects(convert_numeric=True)\n",
    "gdp1.dtypes"
   ]
  },
  {
   "cell_type": "code",
   "execution_count": 30,
   "metadata": {
    "collapsed": false
   },
   "outputs": [],
   "source": [
    "#growth.head()"
   ]
  },
  {
   "cell_type": "code",
   "execution_count": 31,
   "metadata": {
    "collapsed": false
   },
   "outputs": [],
   "source": [
    "# Changing the shape of the table\n",
    "Col5 = growth.columns[0]\n",
    "Col6 = growth.columns[1:].tolist()\n",
    "growth1 = pd.melt(growth, id_vars=(Col5), var_name=\"year\", value_vars=(Col6), value_name=\"gdpgrowth\")\n",
    "growth1.sort_values([\"country\", \"year\"], inplace=True)"
   ]
  },
  {
   "cell_type": "code",
   "execution_count": 32,
   "metadata": {
    "collapsed": false
   },
   "outputs": [],
   "source": [
    "#growth1.head()"
   ]
  },
  {
   "cell_type": "code",
   "execution_count": 33,
   "metadata": {
    "collapsed": false
   },
   "outputs": [
    {
     "name": "stderr",
     "output_type": "stream",
     "text": [
      "/Users/Lola/anaconda/lib/python2.7/site-packages/ipykernel/__main__.py:2: FutureWarning: convert_objects is deprecated.  Use the data-type specific converters pd.to_datetime, pd.to_timedelta and pd.to_numeric.\n",
      "  from ipykernel import kernelapp as app\n"
     ]
    },
    {
     "data": {
      "text/plain": [
       "country       object\n",
       "year          object\n",
       "gdpgrowth    float64\n",
       "dtype: object"
      ]
     },
     "execution_count": 33,
     "metadata": {},
     "output_type": "execute_result"
    }
   ],
   "source": [
    "# Converting to numeric\n",
    "growth1['gdpgrowth'] = growth1['gdpgrowth'].convert_objects(convert_numeric=True)\n",
    "growth1.dtypes"
   ]
  },
  {
   "cell_type": "code",
   "execution_count": 34,
   "metadata": {
    "collapsed": false
   },
   "outputs": [],
   "source": [
    "# Joining tables again\n",
    "Econ = gdp1.merge(growth1, how=\"inner\", left_on=[\"country\", \"year\"], right_on=[\"country\", \"year\"])\n",
    "Econ1 = Econ.merge(urban1, how=\"inner\", left_on=[\"country\", \"year\"], right_on=[\"country\", \"year\"])"
   ]
  },
  {
   "cell_type": "code",
   "execution_count": 35,
   "metadata": {
    "collapsed": false
   },
   "outputs": [],
   "source": [
    "#Econ1.head()"
   ]
  },
  {
   "cell_type": "code",
   "execution_count": 36,
   "metadata": {
    "collapsed": true
   },
   "outputs": [],
   "source": [
    "#Econ1.dtypes"
   ]
  },
  {
   "cell_type": "code",
   "execution_count": 37,
   "metadata": {
    "collapsed": false
   },
   "outputs": [
    {
     "name": "stderr",
     "output_type": "stream",
     "text": [
      "/Users/Lola/anaconda/lib/python2.7/site-packages/ipykernel/__main__.py:2: FutureWarning: convert_objects is deprecated.  Use the data-type specific converters pd.to_datetime, pd.to_timedelta and pd.to_numeric.\n",
      "  from ipykernel import kernelapp as app\n"
     ]
    }
   ],
   "source": [
    "# Convert the year column to numeric\n",
    "Econ1[\"year\"] = Econ1[\"year\"].convert_objects(convert_numeric=True)"
   ]
  },
  {
   "cell_type": "code",
   "execution_count": 38,
   "metadata": {
    "collapsed": false
   },
   "outputs": [],
   "source": [
    "# Final join!\n",
    "DF = Econ1.merge(coup3, how=\"inner\", left_on=[\"country\", \"year\"], right_on=[\"country\", \"year\"])"
   ]
  },
  {
   "cell_type": "code",
   "execution_count": 39,
   "metadata": {
    "collapsed": false
   },
   "outputs": [],
   "source": [
    "#DF.head()"
   ]
  },
  {
   "cell_type": "code",
   "execution_count": 40,
   "metadata": {
    "collapsed": false,
    "scrolled": true
   },
   "outputs": [],
   "source": [
    "# Incorporating a new table into the dataframe\n",
    "# Importing the csv file as a list of lists\n",
    "# Converting the list to a data dictionary, with the countries being the keys and ethinic, linguistic, and religious\n",
    "# fractionalization respectively serving as the values\n",
    "\n",
    "path = \"../assets/csv/diversity.csv\"\n",
    "import csv\n",
    "\n",
    "def read_file(path):\n",
    "    with open(path, 'r') as f:\n",
    "        diversity = [row for row in csv.reader(f.read().splitlines())]\n",
    "    return diversity\n",
    "\n",
    "diversity = read_file(path)\n",
    "diversity = diversity[1:]\n",
    "#print diversity\n",
    "\n",
    "def function(i):return (i[0], i[1:])\n",
    "div_dict = map(function, diversity)\n",
    "divDict = dict(div_dict)\n",
    "#print myNewDict\n"
   ]
  },
  {
   "cell_type": "code",
   "execution_count": 41,
   "metadata": {
    "collapsed": false
   },
   "outputs": [],
   "source": [
    "# Matching the values from the dictionary to their respective countries\n",
    "\n",
    "loc = DF[\"country\"].tolist()\n",
    "\n",
    "\n",
    "ethnicity = []\n",
    "linguistic = []\n",
    "religious = []\n",
    "\n",
    "\n",
    "for i in loc:\n",
    "    for country, ethnic in divDict.items():\n",
    "        if i == country:\n",
    "            ethnicity.append( ethnic[0] )\n",
    "            linguistic.append( ethnic[1] )\n",
    "            religious.append( ethnic[2] )"
   ]
  },
  {
   "cell_type": "code",
   "execution_count": 42,
   "metadata": {
    "collapsed": true
   },
   "outputs": [],
   "source": [
    "#Assigning these values to their respective columns\n",
    "DF[\"ethnic\"] = ethnicity\n",
    "DF[\"linguistic\"] = linguistic\n",
    "DF[\"religious\"] = religious"
   ]
  },
  {
   "cell_type": "code",
   "execution_count": 43,
   "metadata": {
    "collapsed": false
   },
   "outputs": [],
   "source": [
    "#DF.head()"
   ]
  },
  {
   "cell_type": "code",
   "execution_count": 44,
   "metadata": {
    "collapsed": false
   },
   "outputs": [
    {
     "data": {
      "text/plain": [
       "country        3121\n",
       "year           3121\n",
       "gdppercap      3068\n",
       "gdpgrowth      3068\n",
       "urbanpop       3121\n",
       "coup           3121\n",
       "none           3121\n",
       "revmagfight    3121\n",
       "gendeathmag    3121\n",
       "ethmagfatal    3121\n",
       "revmagfatal    3121\n",
       "eth            3121\n",
       "ethmagfight    3121\n",
       "rev            3121\n",
       "gen            3121\n",
       "polity2        3121\n",
       "durable        3121\n",
       "yip            3121\n",
       "ethnic         3121\n",
       "linguistic     3121\n",
       "religious      3121\n",
       "dtype: int64"
      ]
     },
     "execution_count": 44,
     "metadata": {},
     "output_type": "execute_result"
    }
   ],
   "source": [
    "DF.count()"
   ]
  },
  {
   "cell_type": "code",
   "execution_count": 45,
   "metadata": {
    "collapsed": false
   },
   "outputs": [],
   "source": [
    "# Drop rows with missing values (since they are relatively few)\n",
    "# Drop the year columns since I won't be needing it for my analysis\n",
    "DF.dropna(axis=0, how=\"any\", inplace=True)\n",
    "DF.drop([\"year\"], axis=1, inplace=True)"
   ]
  },
  {
   "cell_type": "code",
   "execution_count": 46,
   "metadata": {
    "collapsed": false
   },
   "outputs": [
    {
     "data": {
      "text/plain": [
       "(3046, 20)"
      ]
     },
     "execution_count": 46,
     "metadata": {},
     "output_type": "execute_result"
    }
   ],
   "source": [
    "DF.shape"
   ]
  },
  {
   "cell_type": "code",
   "execution_count": 47,
   "metadata": {
    "collapsed": false
   },
   "outputs": [
    {
     "data": {
      "text/plain": [
       "0    2861\n",
       "1     185\n",
       "Name: coup, dtype: int64"
      ]
     },
     "execution_count": 47,
     "metadata": {},
     "output_type": "execute_result"
    }
   ],
   "source": [
    "DF[\"coup\"].value_counts()"
   ]
  },
  {
   "cell_type": "code",
   "execution_count": 48,
   "metadata": {
    "collapsed": false
   },
   "outputs": [
    {
     "name": "stderr",
     "output_type": "stream",
     "text": [
      "/Users/Lola/anaconda/lib/python2.7/site-packages/ipykernel/__main__.py:2: FutureWarning: convert_objects is deprecated.  Use the data-type specific converters pd.to_datetime, pd.to_timedelta and pd.to_numeric.\n",
      "  from ipykernel import kernelapp as app\n"
     ]
    }
   ],
   "source": [
    "# Converting year column to numeric\n",
    "DF[[\"ethnic\", \"linguistic\", \"religious\"]] = DF[[\"ethnic\", \"linguistic\", \"religious\"]] \\\n",
    "                                            .convert_objects(convert_numeric=True)"
   ]
  },
  {
   "cell_type": "code",
   "execution_count": 49,
   "metadata": {
    "collapsed": true
   },
   "outputs": [],
   "source": [
    "DF = DF[DF.ethmagfatal != 9]\n",
    "DF = DF[DF.ethmagfight != 9]\n",
    "DF = DF[DF.revmagfatal != 9]\n",
    "DF = DF[DF.revmagfight != 9]"
   ]
  },
  {
   "cell_type": "code",
   "execution_count": 50,
   "metadata": {
    "collapsed": false
   },
   "outputs": [
    {
     "data": {
      "text/plain": [
       "array([0, 3, 2, 4, 1])"
      ]
     },
     "execution_count": 50,
     "metadata": {},
     "output_type": "execute_result"
    }
   ],
   "source": [
    "DF[\"ethmagfatal\"].unique()"
   ]
  },
  {
   "cell_type": "code",
   "execution_count": 51,
   "metadata": {
    "collapsed": false,
    "scrolled": true
   },
   "outputs": [
    {
     "data": {
      "text/html": [
       "<div>\n",
       "<table border=\"1\" class=\"dataframe\">\n",
       "  <thead>\n",
       "    <tr style=\"text-align: right;\">\n",
       "      <th></th>\n",
       "      <th>country</th>\n",
       "      <th>gdppercap</th>\n",
       "      <th>gdpgrowth</th>\n",
       "      <th>urbanpop</th>\n",
       "      <th>coup</th>\n",
       "      <th>none</th>\n",
       "      <th>revmagfight</th>\n",
       "      <th>gendeathmag</th>\n",
       "      <th>ethmagfatal</th>\n",
       "      <th>revmagfatal</th>\n",
       "      <th>eth</th>\n",
       "      <th>ethmagfight</th>\n",
       "      <th>rev</th>\n",
       "      <th>gen</th>\n",
       "      <th>polity2</th>\n",
       "      <th>durable</th>\n",
       "      <th>yip</th>\n",
       "      <th>ethnic</th>\n",
       "      <th>linguistic</th>\n",
       "      <th>religious</th>\n",
       "    </tr>\n",
       "  </thead>\n",
       "  <tbody>\n",
       "    <tr>\n",
       "      <th>1</th>\n",
       "      <td>Afghanistan</td>\n",
       "      <td>287.0</td>\n",
       "      <td>4.04</td>\n",
       "      <td>11.53</td>\n",
       "      <td>0</td>\n",
       "      <td>1.0</td>\n",
       "      <td>0</td>\n",
       "      <td>0.0</td>\n",
       "      <td>0</td>\n",
       "      <td>0</td>\n",
       "      <td>0.0</td>\n",
       "      <td>0</td>\n",
       "      <td>0.0</td>\n",
       "      <td>0.0</td>\n",
       "      <td>-7</td>\n",
       "      <td>6.0</td>\n",
       "      <td>37</td>\n",
       "      <td>0.7693</td>\n",
       "      <td>0.6141</td>\n",
       "      <td>0.2717</td>\n",
       "    </tr>\n",
       "    <tr>\n",
       "      <th>2</th>\n",
       "      <td>Afghanistan</td>\n",
       "      <td>291.0</td>\n",
       "      <td>3.88</td>\n",
       "      <td>11.92</td>\n",
       "      <td>0</td>\n",
       "      <td>1.0</td>\n",
       "      <td>0</td>\n",
       "      <td>0.0</td>\n",
       "      <td>0</td>\n",
       "      <td>0</td>\n",
       "      <td>0.0</td>\n",
       "      <td>0</td>\n",
       "      <td>0.0</td>\n",
       "      <td>0.0</td>\n",
       "      <td>-7</td>\n",
       "      <td>7.0</td>\n",
       "      <td>38</td>\n",
       "      <td>0.7693</td>\n",
       "      <td>0.6141</td>\n",
       "      <td>0.2717</td>\n",
       "    </tr>\n",
       "    <tr>\n",
       "      <th>3</th>\n",
       "      <td>Afghanistan</td>\n",
       "      <td>294.0</td>\n",
       "      <td>3.74</td>\n",
       "      <td>12.32</td>\n",
       "      <td>0</td>\n",
       "      <td>1.0</td>\n",
       "      <td>0</td>\n",
       "      <td>0.0</td>\n",
       "      <td>0</td>\n",
       "      <td>0</td>\n",
       "      <td>0.0</td>\n",
       "      <td>0</td>\n",
       "      <td>0.0</td>\n",
       "      <td>0.0</td>\n",
       "      <td>-7</td>\n",
       "      <td>8.0</td>\n",
       "      <td>39</td>\n",
       "      <td>0.7693</td>\n",
       "      <td>0.6141</td>\n",
       "      <td>0.2717</td>\n",
       "    </tr>\n",
       "    <tr>\n",
       "      <th>4</th>\n",
       "      <td>Afghanistan</td>\n",
       "      <td>297.0</td>\n",
       "      <td>3.60</td>\n",
       "      <td>12.73</td>\n",
       "      <td>1</td>\n",
       "      <td>1.0</td>\n",
       "      <td>0</td>\n",
       "      <td>0.0</td>\n",
       "      <td>0</td>\n",
       "      <td>0</td>\n",
       "      <td>0.0</td>\n",
       "      <td>0</td>\n",
       "      <td>0.0</td>\n",
       "      <td>0.0</td>\n",
       "      <td>-7</td>\n",
       "      <td>9.0</td>\n",
       "      <td>40</td>\n",
       "      <td>0.7693</td>\n",
       "      <td>0.6141</td>\n",
       "      <td>0.2717</td>\n",
       "    </tr>\n",
       "    <tr>\n",
       "      <th>5</th>\n",
       "      <td>Afghanistan</td>\n",
       "      <td>300.0</td>\n",
       "      <td>3.48</td>\n",
       "      <td>13.15</td>\n",
       "      <td>0</td>\n",
       "      <td>1.0</td>\n",
       "      <td>0</td>\n",
       "      <td>0.0</td>\n",
       "      <td>0</td>\n",
       "      <td>0</td>\n",
       "      <td>0.0</td>\n",
       "      <td>0</td>\n",
       "      <td>0.0</td>\n",
       "      <td>0.0</td>\n",
       "      <td>-7</td>\n",
       "      <td>10.0</td>\n",
       "      <td>1</td>\n",
       "      <td>0.7693</td>\n",
       "      <td>0.6141</td>\n",
       "      <td>0.2717</td>\n",
       "    </tr>\n",
       "  </tbody>\n",
       "</table>\n",
       "</div>"
      ],
      "text/plain": [
       "       country  gdppercap  gdpgrowth  urbanpop  coup  none  revmagfight  \\\n",
       "1  Afghanistan      287.0       4.04     11.53     0   1.0            0   \n",
       "2  Afghanistan      291.0       3.88     11.92     0   1.0            0   \n",
       "3  Afghanistan      294.0       3.74     12.32     0   1.0            0   \n",
       "4  Afghanistan      297.0       3.60     12.73     1   1.0            0   \n",
       "5  Afghanistan      300.0       3.48     13.15     0   1.0            0   \n",
       "\n",
       "   gendeathmag  ethmagfatal  revmagfatal  eth  ethmagfight  rev  gen  polity2  \\\n",
       "1          0.0            0            0  0.0            0  0.0  0.0       -7   \n",
       "2          0.0            0            0  0.0            0  0.0  0.0       -7   \n",
       "3          0.0            0            0  0.0            0  0.0  0.0       -7   \n",
       "4          0.0            0            0  0.0            0  0.0  0.0       -7   \n",
       "5          0.0            0            0  0.0            0  0.0  0.0       -7   \n",
       "\n",
       "   durable  yip  ethnic  linguistic  religious  \n",
       "1      6.0   37  0.7693      0.6141     0.2717  \n",
       "2      7.0   38  0.7693      0.6141     0.2717  \n",
       "3      8.0   39  0.7693      0.6141     0.2717  \n",
       "4      9.0   40  0.7693      0.6141     0.2717  \n",
       "5     10.0    1  0.7693      0.6141     0.2717  "
      ]
     },
     "execution_count": 51,
     "metadata": {},
     "output_type": "execute_result"
    }
   ],
   "source": [
    "DF.head()"
   ]
  },
  {
   "cell_type": "code",
   "execution_count": 52,
   "metadata": {
    "collapsed": false
   },
   "outputs": [
    {
     "data": {
      "text/plain": [
       "country         object\n",
       "gdppercap      float64\n",
       "gdpgrowth      float64\n",
       "urbanpop       float64\n",
       "coup             int64\n",
       "none           float64\n",
       "revmagfight      int64\n",
       "gendeathmag    float64\n",
       "ethmagfatal      int64\n",
       "revmagfatal      int64\n",
       "eth            float64\n",
       "ethmagfight      int64\n",
       "rev            float64\n",
       "gen            float64\n",
       "polity2          int64\n",
       "durable        float64\n",
       "yip              int64\n",
       "ethnic         float64\n",
       "linguistic     float64\n",
       "religious      float64\n",
       "dtype: object"
      ]
     },
     "execution_count": 52,
     "metadata": {},
     "output_type": "execute_result"
    }
   ],
   "source": [
    "DF.dtypes"
   ]
  },
  {
   "cell_type": "markdown",
   "metadata": {},
   "source": [
    "Variable|Description|Data Type|Variable Type\n",
    "--|--\n",
    "country|Country Name|Object|Unique\n",
    "coup|1 = Coup(successful and attempted), 0 = No coup|Integer|Binary\n",
    "gdppercap|GDP per capita|Float|Continuous \n",
    "gdpgrowth|GDP growth rate|Float|Continuous\n",
    "urbanpop|Percentage of urban population|Float|Continuous\n",
    "gendeathmag|Scaled annual number of deaths (range 0-5.0)|Float|Categorical Ordinal\n",
    "revmagfight|Scaled annual number of fatalities related to revolutionary fighting (range 0-4)|Integer|Categorical Ordinal\n",
    "ethmagfatal|Scaled annual number of fatalities related to ethnic fighting (range 0-4)|Integer|Categorical Ordinal\n",
    "revmagfatal|Scaled number of rebel combatants or activists in revolutionary war (range 0-4)|Integer|Categorical Ordinal\n",
    "ethmagfight|Scaled number of rebel combatants or activists in ethnic war (range 0-4)|Integer|Categorical Ordinal\n",
    "polity2|Polity scale ranging from +10 (strongly democratic) to -10 (strongly autocratic)|Integer|Categorical Non-Ordinal\n",
    "durable|Regime durabilty: the number of years since the most recent regime|Float|Categorical Ordinal\n",
    "yip|Number of years head of state has been in power|Integer|Continuous\n",
    "none|No violence occured|Float|Binary\n",
    "eth|Indicates the occurence of an ethnic violence|Float|Binary\n",
    "rev|Indicates the occurence of a revolutionary violence|Float|Binary\n",
    "gen|Indicates the occurence of a genocide|Float|Binary\n",
    "ethnic| Ethnic Fractionalization|Float|Continuous\n",
    "linguistic|Linguistic Fractionalization|Float|Continuous\n",
    "religious| Religious Fractionalization|Float|Continuous"
   ]
  },
  {
   "cell_type": "code",
   "execution_count": 53,
   "metadata": {
    "collapsed": false,
    "scrolled": true
   },
   "outputs": [
    {
     "data": {
      "image/png": "[encoded data removed]",
      "text/plain": [
       "<matplotlib.figure.Figure at 0x115413c10>"
      ]
     },
     "metadata": {},
     "output_type": "display_data"
    }
   ],
   "source": [
    "# To observe the differences in distribution of feactures for coup and no coup\n",
    "fig, ((ax1, ax2, ax3), (ax4, ax5, ax6), (ax7, ax8, ax9), (ax10, ax11, ax12), \\\n",
    "      (ax13, ax14, ax15), (ax16, ax17, ax18)) = plt.subplots(nrows=6, ncols=3, \\\n",
    "        sharey=False, sharex=True, figsize=(20,30))\n",
    "fig.suptitle(\"Feature Distributions for Coup and No Coup\", size=50)\n",
    "\n",
    "sns.set_style(\"whitegrid\")\n",
    "sns.violinplot(x='coup', y=\"gdppercap\", data=DF, ax=ax1)\n",
    "ax1.set_xlabel(\"Coup\", fontsize=15)\n",
    "ax1.set_ylabel(\"GDP/Capita\", fontsize=15)  \n",
    "    \n",
    "sns.violinplot(x='coup', y=\"gdpgrowth\", data=DF, ax=ax2)\n",
    "ax2.set_xlabel(\"Coup\", fontsize=15)\n",
    "ax2.set_ylabel(\"GDP Growth\", fontsize=15)\n",
    "\n",
    "sns.violinplot(x='coup', y=\"urbanpop\", data=DF, ax=ax3)\n",
    "ax3.set_xlabel(\"Coup\", fontsize=15)\n",
    "ax3.set_ylabel(\"Urban Pop.\", fontsize=15)\n",
    "\n",
    "sns.violinplot(x='coup', y=\"none\", data=DF, ax=ax4)\n",
    "ax4.set_xlabel(\"Coup\", fontsize=15)\n",
    "ax4.set_ylabel(\"None\", fontsize=15)\n",
    "\n",
    "sns.violinplot(x='coup', y=\"revmagfight\", data=DF, ax=ax5)\n",
    "ax5.set_xlabel(\"Coup\", fontsize=15)\n",
    "ax5.set_ylabel(\"RevMagFight\", fontsize=15)\n",
    "\n",
    "sns.violinplot(x='coup', y=\"gendeathmag\", data=DF, ax=ax6)\n",
    "ax6.set_xlabel(\"Coup\", fontsize=15)\n",
    "ax6.set_ylabel(\"GenDeathMag\", fontsize=15)\n",
    "\n",
    "sns.violinplot(x='coup', y=\"ethmagfatal\", data=DF, ax=ax7)\n",
    "ax7.set_xlabel(\"Coup\", fontsize=15)\n",
    "ax7.set_ylabel(\"EthMagFatal\", fontsize=15)\n",
    "\n",
    "sns.violinplot(x='coup', y=\"revmagfatal\", data=DF, ax=ax8)\n",
    "ax8.set_xlabel(\"Coup\", fontsize=15)\n",
    "ax8.set_ylabel(\"RevMagFatal\", fontsize=15)\n",
    "\n",
    "sns.violinplot(x='coup', y=\"eth\", data=DF, ax=ax9)\n",
    "ax9.set_xlabel(\"Coup\", fontsize=15)\n",
    "ax9.set_ylabel(\"Eth\", fontsize=15)\n",
    "\n",
    "sns.violinplot(x='coup', y=\"ethmagfight\", data=DF, ax=ax10)\n",
    "ax10.set_xlabel(\"Coup\", fontsize=15)\n",
    "ax10.set_ylabel(\"EthMagFight\", fontsize=15)\n",
    "\n",
    "sns.violinplot(x='coup', y=\"rev\", data=DF, ax=ax11)\n",
    "ax11.set_xlabel(\"Coup\", fontsize=15)\n",
    "ax11.set_ylabel(\"Rev\", fontsize=15)\n",
    "\n",
    "sns.violinplot(x='coup', y=\"gen\", data=DF, ax=ax12)\n",
    "ax12.set_xlabel(\"Coup\", fontsize=15)\n",
    "ax12.set_ylabel(\"Gen\", fontsize=15)\n",
    "\n",
    "sns.violinplot(x='coup', y=\"polity2\", data=DF, ax=ax13)\n",
    "ax13.set_xlabel(\"Coup\", fontsize=15)\n",
    "ax13.set_ylabel(\"Polity\", fontsize=15)\n",
    "\n",
    "sns.violinplot(x='coup', y=\"durable\", data=DF, ax=ax14)\n",
    "ax14.set_xlabel(\"Coup\", fontsize=15)\n",
    "ax14.set_ylabel(\"Durable\", fontsize=15)\n",
    "\n",
    "sns.violinplot(x='coup', y=\"linguistic\", data=DF, ax=ax15)\n",
    "ax15.set_xlabel(\"Coup\", fontsize=15)\n",
    "ax15.set_ylabel(\"Linguistic\", fontsize=15)\n",
    "\n",
    "sns.violinplot(x='coup', y=\"yip\", data=DF, ax=ax16)\n",
    "ax16.set_xlabel(\"Coup\", fontsize=15)\n",
    "ax16.set_ylabel(\"YIP\", fontsize=15)\n",
    "\n",
    "sns.violinplot(x='coup', y=\"ethnic\", data=DF, ax=ax17)\n",
    "ax17.set_xlabel(\"Coup\", fontsize=15)\n",
    "ax17.set_ylabel(\"Ethnic\", fontsize=15)\n",
    "\n",
    "sns.violinplot(x='coup', y=\"religious\", data=DF, ax=ax18)\n",
    "ax18.set_xlabel(\"Coup\", fontsize=15)\n",
    "ax18.set_ylabel(\"Religious\", fontsize=15)\n",
    "\n",
    "fig.subplots_adjust(hspace=.3, wspace=.3)"
   ]
  },
  {
   "cell_type": "code",
   "execution_count": 54,
   "metadata": {
    "collapsed": false
   },
   "outputs": [],
   "source": [
    "# To split the dataframe into one with instances of a coup and another with instances of no coup\n",
    "acoup = DF.loc[DF.coup==1]\n",
    "nocoup = DF.loc[DF.coup==0]"
   ]
  },
  {
   "cell_type": "code",
   "execution_count": 55,
   "metadata": {
    "collapsed": false
   },
   "outputs": [],
   "source": [
    "#acoup.head()"
   ]
  },
  {
   "cell_type": "code",
   "execution_count": 56,
   "metadata": {
    "collapsed": false,
    "scrolled": true
   },
   "outputs": [],
   "source": [
    "#nocoup.head()"
   ]
  },
  {
   "cell_type": "code",
   "execution_count": 57,
   "metadata": {
    "collapsed": false
   },
   "outputs": [
    {
     "data": {
      "text/html": [
       "<div>\n",
       "<table border=\"1\" class=\"dataframe\">\n",
       "  <thead>\n",
       "    <tr style=\"text-align: right;\">\n",
       "      <th></th>\n",
       "      <th>gdppercap</th>\n",
       "      <th>gdpgrowth</th>\n",
       "      <th>urbanpop</th>\n",
       "      <th>coup</th>\n",
       "      <th>none</th>\n",
       "      <th>revmagfight</th>\n",
       "      <th>gendeathmag</th>\n",
       "      <th>ethmagfatal</th>\n",
       "      <th>revmagfatal</th>\n",
       "      <th>eth</th>\n",
       "      <th>ethmagfight</th>\n",
       "      <th>rev</th>\n",
       "      <th>gen</th>\n",
       "      <th>polity2</th>\n",
       "      <th>durable</th>\n",
       "      <th>yip</th>\n",
       "      <th>ethnic</th>\n",
       "      <th>linguistic</th>\n",
       "      <th>religious</th>\n",
       "    </tr>\n",
       "  </thead>\n",
       "  <tbody>\n",
       "    <tr>\n",
       "      <th>count</th>\n",
       "      <td>180.000000</td>\n",
       "      <td>180.000000</td>\n",
       "      <td>180.000000</td>\n",
       "      <td>180.0</td>\n",
       "      <td>180.000000</td>\n",
       "      <td>180.000000</td>\n",
       "      <td>180.000000</td>\n",
       "      <td>180.000000</td>\n",
       "      <td>180.000000</td>\n",
       "      <td>180.000000</td>\n",
       "      <td>180.000000</td>\n",
       "      <td>180.000000</td>\n",
       "      <td>180.000000</td>\n",
       "      <td>180.000000</td>\n",
       "      <td>180.000000</td>\n",
       "      <td>180.000000</td>\n",
       "      <td>180.000000</td>\n",
       "      <td>180.000000</td>\n",
       "      <td>180.000000</td>\n",
       "    </tr>\n",
       "    <tr>\n",
       "      <th>mean</th>\n",
       "      <td>1389.011111</td>\n",
       "      <td>1.361944</td>\n",
       "      <td>31.696611</td>\n",
       "      <td>1.0</td>\n",
       "      <td>0.422222</td>\n",
       "      <td>0.722222</td>\n",
       "      <td>0.513889</td>\n",
       "      <td>0.622222</td>\n",
       "      <td>0.455556</td>\n",
       "      <td>0.355556</td>\n",
       "      <td>1.016667</td>\n",
       "      <td>0.233333</td>\n",
       "      <td>0.188889</td>\n",
       "      <td>-3.483333</td>\n",
       "      <td>8.838889</td>\n",
       "      <td>6.183333</td>\n",
       "      <td>0.588908</td>\n",
       "      <td>0.582316</td>\n",
       "      <td>0.422165</td>\n",
       "    </tr>\n",
       "    <tr>\n",
       "      <th>std</th>\n",
       "      <td>2012.313052</td>\n",
       "      <td>9.550538</td>\n",
       "      <td>18.472209</td>\n",
       "      <td>0.0</td>\n",
       "      <td>0.495291</td>\n",
       "      <td>1.366215</td>\n",
       "      <td>1.191720</td>\n",
       "      <td>1.014727</td>\n",
       "      <td>0.923451</td>\n",
       "      <td>0.480017</td>\n",
       "      <td>1.522549</td>\n",
       "      <td>0.424132</td>\n",
       "      <td>0.392512</td>\n",
       "      <td>4.872079</td>\n",
       "      <td>16.183709</td>\n",
       "      <td>7.202944</td>\n",
       "      <td>0.266866</td>\n",
       "      <td>0.290044</td>\n",
       "      <td>0.226474</td>\n",
       "    </tr>\n",
       "    <tr>\n",
       "      <th>min</th>\n",
       "      <td>15.000000</td>\n",
       "      <td>-64.050000</td>\n",
       "      <td>3.650000</td>\n",
       "      <td>1.0</td>\n",
       "      <td>0.000000</td>\n",
       "      <td>0.000000</td>\n",
       "      <td>0.000000</td>\n",
       "      <td>0.000000</td>\n",
       "      <td>0.000000</td>\n",
       "      <td>0.000000</td>\n",
       "      <td>0.000000</td>\n",
       "      <td>0.000000</td>\n",
       "      <td>0.000000</td>\n",
       "      <td>-10.000000</td>\n",
       "      <td>0.000000</td>\n",
       "      <td>0.000000</td>\n",
       "      <td>0.045400</td>\n",
       "      <td>0.000000</td>\n",
       "      <td>0.003500</td>\n",
       "    </tr>\n",
       "    <tr>\n",
       "      <th>25%</th>\n",
       "      <td>386.000000</td>\n",
       "      <td>-1.855000</td>\n",
       "      <td>17.362500</td>\n",
       "      <td>1.0</td>\n",
       "      <td>0.000000</td>\n",
       "      <td>0.000000</td>\n",
       "      <td>0.000000</td>\n",
       "      <td>0.000000</td>\n",
       "      <td>0.000000</td>\n",
       "      <td>0.000000</td>\n",
       "      <td>0.000000</td>\n",
       "      <td>0.000000</td>\n",
       "      <td>0.000000</td>\n",
       "      <td>-7.000000</td>\n",
       "      <td>0.000000</td>\n",
       "      <td>1.750000</td>\n",
       "      <td>0.320000</td>\n",
       "      <td>0.322000</td>\n",
       "      <td>0.209000</td>\n",
       "    </tr>\n",
       "    <tr>\n",
       "      <th>50%</th>\n",
       "      <td>582.500000</td>\n",
       "      <td>3.010000</td>\n",
       "      <td>29.630000</td>\n",
       "      <td>1.0</td>\n",
       "      <td>0.000000</td>\n",
       "      <td>0.000000</td>\n",
       "      <td>0.000000</td>\n",
       "      <td>0.000000</td>\n",
       "      <td>0.000000</td>\n",
       "      <td>0.000000</td>\n",
       "      <td>0.000000</td>\n",
       "      <td>0.000000</td>\n",
       "      <td>0.000000</td>\n",
       "      <td>-6.000000</td>\n",
       "      <td>3.000000</td>\n",
       "      <td>4.000000</td>\n",
       "      <td>0.709800</td>\n",
       "      <td>0.719000</td>\n",
       "      <td>0.430850</td>\n",
       "    </tr>\n",
       "    <tr>\n",
       "      <th>75%</th>\n",
       "      <td>1482.250000</td>\n",
       "      <td>5.630000</td>\n",
       "      <td>41.687500</td>\n",
       "      <td>1.0</td>\n",
       "      <td>1.000000</td>\n",
       "      <td>0.000000</td>\n",
       "      <td>0.000000</td>\n",
       "      <td>1.000000</td>\n",
       "      <td>0.000000</td>\n",
       "      <td>1.000000</td>\n",
       "      <td>2.000000</td>\n",
       "      <td>0.000000</td>\n",
       "      <td>0.000000</td>\n",
       "      <td>0.000000</td>\n",
       "      <td>10.250000</td>\n",
       "      <td>8.250000</td>\n",
       "      <td>0.810925</td>\n",
       "      <td>0.832050</td>\n",
       "      <td>0.624900</td>\n",
       "    </tr>\n",
       "    <tr>\n",
       "      <th>max</th>\n",
       "      <td>18497.000000</td>\n",
       "      <td>32.590000</td>\n",
       "      <td>86.980000</td>\n",
       "      <td>1.0</td>\n",
       "      <td>1.000000</td>\n",
       "      <td>4.000000</td>\n",
       "      <td>5.000000</td>\n",
       "      <td>4.000000</td>\n",
       "      <td>4.000000</td>\n",
       "      <td>1.000000</td>\n",
       "      <td>4.000000</td>\n",
       "      <td>1.000000</td>\n",
       "      <td>1.000000</td>\n",
       "      <td>10.000000</td>\n",
       "      <td>101.000000</td>\n",
       "      <td>44.000000</td>\n",
       "      <td>0.930200</td>\n",
       "      <td>0.922700</td>\n",
       "      <td>0.791600</td>\n",
       "    </tr>\n",
       "  </tbody>\n",
       "</table>\n",
       "</div>"
      ],
      "text/plain": [
       "          gdppercap   gdpgrowth    urbanpop   coup        none  revmagfight  \\\n",
       "count    180.000000  180.000000  180.000000  180.0  180.000000   180.000000   \n",
       "mean    1389.011111    1.361944   31.696611    1.0    0.422222     0.722222   \n",
       "std     2012.313052    9.550538   18.472209    0.0    0.495291     1.366215   \n",
       "min       15.000000  -64.050000    3.650000    1.0    0.000000     0.000000   \n",
       "25%      386.000000   -1.855000   17.362500    1.0    0.000000     0.000000   \n",
       "50%      582.500000    3.010000   29.630000    1.0    0.000000     0.000000   \n",
       "75%     1482.250000    5.630000   41.687500    1.0    1.000000     0.000000   \n",
       "max    18497.000000   32.590000   86.980000    1.0    1.000000     4.000000   \n",
       "\n",
       "       gendeathmag  ethmagfatal  revmagfatal         eth  ethmagfight  \\\n",
       "count   180.000000   180.000000   180.000000  180.000000   180.000000   \n",
       "mean      0.513889     0.622222     0.455556    0.355556     1.016667   \n",
       "std       1.191720     1.014727     0.923451    0.480017     1.522549   \n",
       "min       0.000000     0.000000     0.000000    0.000000     0.000000   \n",
       "25%       0.000000     0.000000     0.000000    0.000000     0.000000   \n",
       "50%       0.000000     0.000000     0.000000    0.000000     0.000000   \n",
       "75%       0.000000     1.000000     0.000000    1.000000     2.000000   \n",
       "max       5.000000     4.000000     4.000000    1.000000     4.000000   \n",
       "\n",
       "              rev         gen     polity2     durable         yip      ethnic  \\\n",
       "count  180.000000  180.000000  180.000000  180.000000  180.000000  180.000000   \n",
       "mean     0.233333    0.188889   -3.483333    8.838889    6.183333    0.588908   \n",
       "std      0.424132    0.392512    4.872079   16.183709    7.202944    0.266866   \n",
       "min      0.000000    0.000000  -10.000000    0.000000    0.000000    0.045400   \n",
       "25%      0.000000    0.000000   -7.000000    0.000000    1.750000    0.320000   \n",
       "50%      0.000000    0.000000   -6.000000    3.000000    4.000000    0.709800   \n",
       "75%      0.000000    0.000000    0.000000   10.250000    8.250000    0.810925   \n",
       "max      1.000000    1.000000   10.000000  101.000000   44.000000    0.930200   \n",
       "\n",
       "       linguistic   religious  \n",
       "count  180.000000  180.000000  \n",
       "mean     0.582316    0.422165  \n",
       "std      0.290044    0.226474  \n",
       "min      0.000000    0.003500  \n",
       "25%      0.322000    0.209000  \n",
       "50%      0.719000    0.430850  \n",
       "75%      0.832050    0.624900  \n",
       "max      0.922700    0.791600  "
      ]
     },
     "execution_count": 57,
     "metadata": {},
     "output_type": "execute_result"
    }
   ],
   "source": [
    "acoup.describe()"
   ]
  },
  {
   "cell_type": "code",
   "execution_count": 58,
   "metadata": {
    "collapsed": false
   },
   "outputs": [
    {
     "data": {
      "text/html": [
       "<div>\n",
       "<table border=\"1\" class=\"dataframe\">\n",
       "  <thead>\n",
       "    <tr style=\"text-align: right;\">\n",
       "      <th></th>\n",
       "      <th>gdppercap</th>\n",
       "      <th>gdpgrowth</th>\n",
       "      <th>urbanpop</th>\n",
       "      <th>coup</th>\n",
       "      <th>none</th>\n",
       "      <th>revmagfight</th>\n",
       "      <th>gendeathmag</th>\n",
       "      <th>ethmagfatal</th>\n",
       "      <th>revmagfatal</th>\n",
       "      <th>eth</th>\n",
       "      <th>ethmagfight</th>\n",
       "      <th>rev</th>\n",
       "      <th>gen</th>\n",
       "      <th>polity2</th>\n",
       "      <th>durable</th>\n",
       "      <th>yip</th>\n",
       "      <th>ethnic</th>\n",
       "      <th>linguistic</th>\n",
       "      <th>religious</th>\n",
       "    </tr>\n",
       "  </thead>\n",
       "  <tbody>\n",
       "    <tr>\n",
       "      <th>count</th>\n",
       "      <td>2816.000000</td>\n",
       "      <td>2816.000000</td>\n",
       "      <td>2816.000000</td>\n",
       "      <td>2816.0</td>\n",
       "      <td>2816.000000</td>\n",
       "      <td>2816.000000</td>\n",
       "      <td>2816.000000</td>\n",
       "      <td>2816.000000</td>\n",
       "      <td>2816.000000</td>\n",
       "      <td>2816.000000</td>\n",
       "      <td>2816.000000</td>\n",
       "      <td>2816.000000</td>\n",
       "      <td>2816.000000</td>\n",
       "      <td>2816.000000</td>\n",
       "      <td>2816.000000</td>\n",
       "      <td>2816.000000</td>\n",
       "      <td>2816.000000</td>\n",
       "      <td>2816.000000</td>\n",
       "      <td>2816.000000</td>\n",
       "    </tr>\n",
       "    <tr>\n",
       "      <th>mean</th>\n",
       "      <td>3974.858310</td>\n",
       "      <td>4.148487</td>\n",
       "      <td>44.503320</td>\n",
       "      <td>0.0</td>\n",
       "      <td>0.675071</td>\n",
       "      <td>0.408026</td>\n",
       "      <td>0.145952</td>\n",
       "      <td>0.354048</td>\n",
       "      <td>0.233310</td>\n",
       "      <td>0.217330</td>\n",
       "      <td>0.622514</td>\n",
       "      <td>0.131037</td>\n",
       "      <td>0.062500</td>\n",
       "      <td>0.117188</td>\n",
       "      <td>17.620384</td>\n",
       "      <td>7.526989</td>\n",
       "      <td>0.511280</td>\n",
       "      <td>0.458907</td>\n",
       "      <td>0.414178</td>\n",
       "    </tr>\n",
       "    <tr>\n",
       "      <th>std</th>\n",
       "      <td>5854.049869</td>\n",
       "      <td>8.283496</td>\n",
       "      <td>22.441061</td>\n",
       "      <td>0.0</td>\n",
       "      <td>0.468431</td>\n",
       "      <td>1.094501</td>\n",
       "      <td>0.654270</td>\n",
       "      <td>0.815048</td>\n",
       "      <td>0.704645</td>\n",
       "      <td>0.412502</td>\n",
       "      <td>1.277449</td>\n",
       "      <td>0.337501</td>\n",
       "      <td>0.242104</td>\n",
       "      <td>6.656701</td>\n",
       "      <td>21.305202</td>\n",
       "      <td>8.522667</td>\n",
       "      <td>0.245576</td>\n",
       "      <td>0.315552</td>\n",
       "      <td>0.235069</td>\n",
       "    </tr>\n",
       "    <tr>\n",
       "      <th>min</th>\n",
       "      <td>10.000000</td>\n",
       "      <td>-62.080000</td>\n",
       "      <td>2.730000</td>\n",
       "      <td>0.0</td>\n",
       "      <td>0.000000</td>\n",
       "      <td>0.000000</td>\n",
       "      <td>0.000000</td>\n",
       "      <td>0.000000</td>\n",
       "      <td>0.000000</td>\n",
       "      <td>0.000000</td>\n",
       "      <td>0.000000</td>\n",
       "      <td>0.000000</td>\n",
       "      <td>0.000000</td>\n",
       "      <td>-10.000000</td>\n",
       "      <td>0.000000</td>\n",
       "      <td>0.000000</td>\n",
       "      <td>0.045400</td>\n",
       "      <td>0.000000</td>\n",
       "      <td>0.003500</td>\n",
       "    </tr>\n",
       "    <tr>\n",
       "      <th>25%</th>\n",
       "      <td>607.750000</td>\n",
       "      <td>1.710000</td>\n",
       "      <td>26.457500</td>\n",
       "      <td>0.0</td>\n",
       "      <td>0.000000</td>\n",
       "      <td>0.000000</td>\n",
       "      <td>0.000000</td>\n",
       "      <td>0.000000</td>\n",
       "      <td>0.000000</td>\n",
       "      <td>0.000000</td>\n",
       "      <td>0.000000</td>\n",
       "      <td>0.000000</td>\n",
       "      <td>0.000000</td>\n",
       "      <td>-7.000000</td>\n",
       "      <td>3.000000</td>\n",
       "      <td>2.000000</td>\n",
       "      <td>0.306900</td>\n",
       "      <td>0.151100</td>\n",
       "      <td>0.209000</td>\n",
       "    </tr>\n",
       "    <tr>\n",
       "      <th>50%</th>\n",
       "      <td>1777.500000</td>\n",
       "      <td>4.200000</td>\n",
       "      <td>42.865000</td>\n",
       "      <td>0.0</td>\n",
       "      <td>1.000000</td>\n",
       "      <td>0.000000</td>\n",
       "      <td>0.000000</td>\n",
       "      <td>0.000000</td>\n",
       "      <td>0.000000</td>\n",
       "      <td>0.000000</td>\n",
       "      <td>0.000000</td>\n",
       "      <td>0.000000</td>\n",
       "      <td>0.000000</td>\n",
       "      <td>0.000000</td>\n",
       "      <td>11.000000</td>\n",
       "      <td>4.000000</td>\n",
       "      <td>0.512200</td>\n",
       "      <td>0.461550</td>\n",
       "      <td>0.430700</td>\n",
       "    </tr>\n",
       "    <tr>\n",
       "      <th>75%</th>\n",
       "      <td>4924.500000</td>\n",
       "      <td>6.670000</td>\n",
       "      <td>63.270000</td>\n",
       "      <td>0.0</td>\n",
       "      <td>1.000000</td>\n",
       "      <td>0.000000</td>\n",
       "      <td>0.000000</td>\n",
       "      <td>0.000000</td>\n",
       "      <td>0.000000</td>\n",
       "      <td>0.000000</td>\n",
       "      <td>0.000000</td>\n",
       "      <td>0.000000</td>\n",
       "      <td>0.000000</td>\n",
       "      <td>7.000000</td>\n",
       "      <td>23.000000</td>\n",
       "      <td>9.000000</td>\n",
       "      <td>0.735100</td>\n",
       "      <td>0.772500</td>\n",
       "      <td>0.615700</td>\n",
       "    </tr>\n",
       "    <tr>\n",
       "      <th>max</th>\n",
       "      <td>75117.000000</td>\n",
       "      <td>149.970000</td>\n",
       "      <td>92.140000</td>\n",
       "      <td>0.0</td>\n",
       "      <td>1.000000</td>\n",
       "      <td>4.000000</td>\n",
       "      <td>5.000000</td>\n",
       "      <td>4.000000</td>\n",
       "      <td>4.000000</td>\n",
       "      <td>1.000000</td>\n",
       "      <td>4.000000</td>\n",
       "      <td>1.000000</td>\n",
       "      <td>1.000000</td>\n",
       "      <td>10.000000</td>\n",
       "      <td>135.000000</td>\n",
       "      <td>63.000000</td>\n",
       "      <td>0.930200</td>\n",
       "      <td>0.922700</td>\n",
       "      <td>0.860300</td>\n",
       "    </tr>\n",
       "  </tbody>\n",
       "</table>\n",
       "</div>"
      ],
      "text/plain": [
       "          gdppercap    gdpgrowth     urbanpop    coup         none  \\\n",
       "count   2816.000000  2816.000000  2816.000000  2816.0  2816.000000   \n",
       "mean    3974.858310     4.148487    44.503320     0.0     0.675071   \n",
       "std     5854.049869     8.283496    22.441061     0.0     0.468431   \n",
       "min       10.000000   -62.080000     2.730000     0.0     0.000000   \n",
       "25%      607.750000     1.710000    26.457500     0.0     0.000000   \n",
       "50%     1777.500000     4.200000    42.865000     0.0     1.000000   \n",
       "75%     4924.500000     6.670000    63.270000     0.0     1.000000   \n",
       "max    75117.000000   149.970000    92.140000     0.0     1.000000   \n",
       "\n",
       "       revmagfight  gendeathmag  ethmagfatal  revmagfatal          eth  \\\n",
       "count  2816.000000  2816.000000  2816.000000  2816.000000  2816.000000   \n",
       "mean      0.408026     0.145952     0.354048     0.233310     0.217330   \n",
       "std       1.094501     0.654270     0.815048     0.704645     0.412502   \n",
       "min       0.000000     0.000000     0.000000     0.000000     0.000000   \n",
       "25%       0.000000     0.000000     0.000000     0.000000     0.000000   \n",
       "50%       0.000000     0.000000     0.000000     0.000000     0.000000   \n",
       "75%       0.000000     0.000000     0.000000     0.000000     0.000000   \n",
       "max       4.000000     5.000000     4.000000     4.000000     1.000000   \n",
       "\n",
       "       ethmagfight          rev          gen      polity2      durable  \\\n",
       "count  2816.000000  2816.000000  2816.000000  2816.000000  2816.000000   \n",
       "mean      0.622514     0.131037     0.062500     0.117188    17.620384   \n",
       "std       1.277449     0.337501     0.242104     6.656701    21.305202   \n",
       "min       0.000000     0.000000     0.000000   -10.000000     0.000000   \n",
       "25%       0.000000     0.000000     0.000000    -7.000000     3.000000   \n",
       "50%       0.000000     0.000000     0.000000     0.000000    11.000000   \n",
       "75%       0.000000     0.000000     0.000000     7.000000    23.000000   \n",
       "max       4.000000     1.000000     1.000000    10.000000   135.000000   \n",
       "\n",
       "               yip       ethnic   linguistic    religious  \n",
       "count  2816.000000  2816.000000  2816.000000  2816.000000  \n",
       "mean      7.526989     0.511280     0.458907     0.414178  \n",
       "std       8.522667     0.245576     0.315552     0.235069  \n",
       "min       0.000000     0.045400     0.000000     0.003500  \n",
       "25%       2.000000     0.306900     0.151100     0.209000  \n",
       "50%       4.000000     0.512200     0.461550     0.430700  \n",
       "75%       9.000000     0.735100     0.772500     0.615700  \n",
       "max      63.000000     0.930200     0.922700     0.860300  "
      ]
     },
     "execution_count": 58,
     "metadata": {},
     "output_type": "execute_result"
    }
   ],
   "source": [
    "nocoup.describe()"
   ]
  },
  {
   "cell_type": "code",
   "execution_count": 59,
   "metadata": {
    "collapsed": false
   },
   "outputs": [
    {
     "name": "stdout",
     "output_type": "stream",
     "text": [
      "Ttest_indResult(statistic=-5.903224986748083, pvalue=3.9645881653056079e-09)\n",
      "Ttest_indResult(statistic=-4.3331123490262344, pvalue=1.5185460388038557e-05)\n",
      "Ttest_indResult(statistic=-7.4955360422797614, pvalue=8.6454743932737962e-14)\n",
      "Ttest_indResult(statistic=-6.9963312047619572, pvalue=3.2284016691127165e-12)\n",
      "Ttest_indResult(statistic=3.673156595854902, pvalue=0.00024376570626343473)\n",
      "Ttest_indResult(statistic=6.8551901674524931, pvalue=8.6138153215874287e-12)\n",
      "Ttest_indResult(statistic=4.2110417871282175, pvalue=2.616882791040803e-05)\n",
      "Ttest_indResult(statistic=4.0172147164868059, pvalue=6.0338695171472901e-05)\n",
      "Ttest_indResult(statistic=4.3131641771123963, pvalue=1.6613753228986777e-05)\n",
      "Ttest_indResult(statistic=3.9637847222136715, pvalue=7.5494942217101615e-05)\n",
      "Ttest_indResult(statistic=3.8759171428801622, pvalue=0.00010850312964861792)\n",
      "Ttest_indResult(statistic=6.4820650003824429, pvalue=1.0542806733368283e-10)\n",
      "Ttest_indResult(statistic=-7.1351177353848811, pvalue=1.2078499194544278e-12)\n",
      "Ttest_indResult(statistic=-5.4303334997178574, pvalue=6.0749370468255539e-08)\n",
      "Ttest_indResult(statistic=-2.0684040129700976, pvalue=0.038687718734771337)\n",
      "Ttest_indResult(statistic=4.0895525585675303, pvalue=4.4359011073837255e-05)\n",
      "Ttest_indResult(statistic=5.1107107349161645, pvalue=3.4110773412411616e-07)\n",
      "Ttest_indResult(statistic=0.44287912200537999, pvalue=0.65788516451877554)\n"
     ]
    }
   ],
   "source": [
    "# To test for statistical differences in the means of features for coup and no coup\n",
    "features = [\"gdppercap\", \"gdpgrowth\", \"urbanpop\", \"none\", \"revmagfight\", \n",
    "            \"gendeathmag\", \"ethmagfatal\", \"revmagfatal\", \"eth\", \n",
    "            \"ethmagfight\", \"rev\", \"gen\", \"polity2\", \"durable\", \n",
    "            \"yip\", \"ethnic\", \"linguistic\", \"religious\"]\n",
    "\n",
    "for i in features:\n",
    "    print ttest_ind(acoup[i], nocoup[i])"
   ]
  },
  {
   "cell_type": "markdown",
   "metadata": {},
   "source": [
    "## Data Exploration"
   ]
  },
  {
   "cell_type": "code",
   "execution_count": 60,
   "metadata": {
    "collapsed": false,
    "scrolled": true
   },
   "outputs": [
    {
     "data": {
      "text/html": [
       "<div>\n",
       "<table border=\"1\" class=\"dataframe\">\n",
       "  <thead>\n",
       "    <tr style=\"text-align: right;\">\n",
       "      <th></th>\n",
       "      <th>gdppercap</th>\n",
       "      <th>gdpgrowth</th>\n",
       "      <th>urbanpop</th>\n",
       "      <th>coup</th>\n",
       "      <th>none</th>\n",
       "      <th>revmagfight</th>\n",
       "      <th>gendeathmag</th>\n",
       "      <th>ethmagfatal</th>\n",
       "      <th>revmagfatal</th>\n",
       "      <th>eth</th>\n",
       "      <th>ethmagfight</th>\n",
       "      <th>rev</th>\n",
       "      <th>gen</th>\n",
       "      <th>durable</th>\n",
       "      <th>yip</th>\n",
       "      <th>ethnic</th>\n",
       "      <th>linguistic</th>\n",
       "      <th>religious</th>\n",
       "    </tr>\n",
       "    <tr>\n",
       "      <th>polity2</th>\n",
       "      <th></th>\n",
       "      <th></th>\n",
       "      <th></th>\n",
       "      <th></th>\n",
       "      <th></th>\n",
       "      <th></th>\n",
       "      <th></th>\n",
       "      <th></th>\n",
       "      <th></th>\n",
       "      <th></th>\n",
       "      <th></th>\n",
       "      <th></th>\n",
       "      <th></th>\n",
       "      <th></th>\n",
       "      <th></th>\n",
       "      <th></th>\n",
       "      <th></th>\n",
       "      <th></th>\n",
       "    </tr>\n",
       "  </thead>\n",
       "  <tbody>\n",
       "    <tr>\n",
       "      <th>-10</th>\n",
       "      <td>9190.000000</td>\n",
       "      <td>8.205625</td>\n",
       "      <td>46.028750</td>\n",
       "      <td>0.031250</td>\n",
       "      <td>0.718750</td>\n",
       "      <td>0.625000</td>\n",
       "      <td>0.000000</td>\n",
       "      <td>0.000000</td>\n",
       "      <td>0.281250</td>\n",
       "      <td>0.000000</td>\n",
       "      <td>0.000000</td>\n",
       "      <td>0.281250</td>\n",
       "      <td>0.000000</td>\n",
       "      <td>21.250000</td>\n",
       "      <td>11.187500</td>\n",
       "      <td>0.509519</td>\n",
       "      <td>0.478419</td>\n",
       "      <td>0.333137</td>\n",
       "    </tr>\n",
       "    <tr>\n",
       "      <th>-9</th>\n",
       "      <td>2794.603015</td>\n",
       "      <td>4.041759</td>\n",
       "      <td>41.236131</td>\n",
       "      <td>0.080402</td>\n",
       "      <td>0.778894</td>\n",
       "      <td>0.065327</td>\n",
       "      <td>0.153266</td>\n",
       "      <td>0.206030</td>\n",
       "      <td>0.055276</td>\n",
       "      <td>0.160804</td>\n",
       "      <td>0.502513</td>\n",
       "      <td>0.030151</td>\n",
       "      <td>0.065327</td>\n",
       "      <td>24.070352</td>\n",
       "      <td>13.361809</td>\n",
       "      <td>0.534673</td>\n",
       "      <td>0.480890</td>\n",
       "      <td>0.408848</td>\n",
       "    </tr>\n",
       "    <tr>\n",
       "      <th>-8</th>\n",
       "      <td>3810.839623</td>\n",
       "      <td>4.242264</td>\n",
       "      <td>44.474434</td>\n",
       "      <td>0.047170</td>\n",
       "      <td>0.594340</td>\n",
       "      <td>0.613208</td>\n",
       "      <td>0.330189</td>\n",
       "      <td>0.320755</td>\n",
       "      <td>0.415094</td>\n",
       "      <td>0.207547</td>\n",
       "      <td>0.716981</td>\n",
       "      <td>0.216981</td>\n",
       "      <td>0.094340</td>\n",
       "      <td>22.094340</td>\n",
       "      <td>12.745283</td>\n",
       "      <td>0.547953</td>\n",
       "      <td>0.473160</td>\n",
       "      <td>0.354853</td>\n",
       "    </tr>\n",
       "    <tr>\n",
       "      <th>-7</th>\n",
       "      <td>2033.178631</td>\n",
       "      <td>4.345977</td>\n",
       "      <td>35.465860</td>\n",
       "      <td>0.105175</td>\n",
       "      <td>0.706177</td>\n",
       "      <td>0.262104</td>\n",
       "      <td>0.381469</td>\n",
       "      <td>0.388982</td>\n",
       "      <td>0.171953</td>\n",
       "      <td>0.205342</td>\n",
       "      <td>0.587646</td>\n",
       "      <td>0.076795</td>\n",
       "      <td>0.161937</td>\n",
       "      <td>19.547579</td>\n",
       "      <td>7.634391</td>\n",
       "      <td>0.573607</td>\n",
       "      <td>0.465149</td>\n",
       "      <td>0.431636</td>\n",
       "    </tr>\n",
       "    <tr>\n",
       "      <th>-6</th>\n",
       "      <td>3021.279570</td>\n",
       "      <td>4.877527</td>\n",
       "      <td>41.552527</td>\n",
       "      <td>0.059140</td>\n",
       "      <td>0.731183</td>\n",
       "      <td>0.462366</td>\n",
       "      <td>0.129032</td>\n",
       "      <td>0.204301</td>\n",
       "      <td>0.220430</td>\n",
       "      <td>0.107527</td>\n",
       "      <td>0.263441</td>\n",
       "      <td>0.155914</td>\n",
       "      <td>0.086022</td>\n",
       "      <td>26.301075</td>\n",
       "      <td>8.849462</td>\n",
       "      <td>0.506697</td>\n",
       "      <td>0.470518</td>\n",
       "      <td>0.310522</td>\n",
       "    </tr>\n",
       "    <tr>\n",
       "      <th>-5</th>\n",
       "      <td>1839.148148</td>\n",
       "      <td>4.000185</td>\n",
       "      <td>29.843704</td>\n",
       "      <td>0.092593</td>\n",
       "      <td>0.481481</td>\n",
       "      <td>0.796296</td>\n",
       "      <td>0.092593</td>\n",
       "      <td>0.592593</td>\n",
       "      <td>0.425926</td>\n",
       "      <td>0.444444</td>\n",
       "      <td>1.111111</td>\n",
       "      <td>0.222222</td>\n",
       "      <td>0.074074</td>\n",
       "      <td>9.851852</td>\n",
       "      <td>6.796296</td>\n",
       "      <td>0.509685</td>\n",
       "      <td>0.439667</td>\n",
       "      <td>0.393644</td>\n",
       "    </tr>\n",
       "    <tr>\n",
       "      <th>-4</th>\n",
       "      <td>1139.538462</td>\n",
       "      <td>3.460192</td>\n",
       "      <td>27.925192</td>\n",
       "      <td>0.134615</td>\n",
       "      <td>0.346154</td>\n",
       "      <td>0.365385</td>\n",
       "      <td>0.278846</td>\n",
       "      <td>0.826923</td>\n",
       "      <td>0.134615</td>\n",
       "      <td>0.576923</td>\n",
       "      <td>1.365385</td>\n",
       "      <td>0.096154</td>\n",
       "      <td>0.115385</td>\n",
       "      <td>8.596154</td>\n",
       "      <td>9.461538</td>\n",
       "      <td>0.564892</td>\n",
       "      <td>0.526631</td>\n",
       "      <td>0.467673</td>\n",
       "    </tr>\n",
       "    <tr>\n",
       "      <th>-3</th>\n",
       "      <td>2625.329545</td>\n",
       "      <td>4.565114</td>\n",
       "      <td>39.977273</td>\n",
       "      <td>0.045455</td>\n",
       "      <td>0.579545</td>\n",
       "      <td>0.511364</td>\n",
       "      <td>0.170455</td>\n",
       "      <td>0.409091</td>\n",
       "      <td>0.386364</td>\n",
       "      <td>0.295455</td>\n",
       "      <td>0.772727</td>\n",
       "      <td>0.193182</td>\n",
       "      <td>0.056818</td>\n",
       "      <td>6.000000</td>\n",
       "      <td>8.261364</td>\n",
       "      <td>0.468400</td>\n",
       "      <td>0.339227</td>\n",
       "      <td>0.356615</td>\n",
       "    </tr>\n",
       "    <tr>\n",
       "      <th>-2</th>\n",
       "      <td>2245.196721</td>\n",
       "      <td>4.367541</td>\n",
       "      <td>29.626393</td>\n",
       "      <td>0.098361</td>\n",
       "      <td>0.704918</td>\n",
       "      <td>0.704918</td>\n",
       "      <td>0.163934</td>\n",
       "      <td>0.163934</td>\n",
       "      <td>0.377049</td>\n",
       "      <td>0.098361</td>\n",
       "      <td>0.278689</td>\n",
       "      <td>0.245902</td>\n",
       "      <td>0.065574</td>\n",
       "      <td>6.934426</td>\n",
       "      <td>14.754098</td>\n",
       "      <td>0.680172</td>\n",
       "      <td>0.680667</td>\n",
       "      <td>0.425820</td>\n",
       "    </tr>\n",
       "    <tr>\n",
       "      <th>-1</th>\n",
       "      <td>1003.813953</td>\n",
       "      <td>2.898605</td>\n",
       "      <td>33.159884</td>\n",
       "      <td>0.093023</td>\n",
       "      <td>0.593023</td>\n",
       "      <td>0.523256</td>\n",
       "      <td>0.093023</td>\n",
       "      <td>0.395349</td>\n",
       "      <td>0.302326</td>\n",
       "      <td>0.302326</td>\n",
       "      <td>0.767442</td>\n",
       "      <td>0.151163</td>\n",
       "      <td>0.034884</td>\n",
       "      <td>5.965116</td>\n",
       "      <td>10.279070</td>\n",
       "      <td>0.674057</td>\n",
       "      <td>0.638520</td>\n",
       "      <td>0.401549</td>\n",
       "    </tr>\n",
       "    <tr>\n",
       "      <th>0</th>\n",
       "      <td>1981.746753</td>\n",
       "      <td>2.236753</td>\n",
       "      <td>42.548052</td>\n",
       "      <td>0.123377</td>\n",
       "      <td>0.272727</td>\n",
       "      <td>1.500000</td>\n",
       "      <td>0.490260</td>\n",
       "      <td>1.084416</td>\n",
       "      <td>0.961039</td>\n",
       "      <td>0.383117</td>\n",
       "      <td>1.383117</td>\n",
       "      <td>0.415584</td>\n",
       "      <td>0.149351</td>\n",
       "      <td>0.448052</td>\n",
       "      <td>4.844156</td>\n",
       "      <td>0.567732</td>\n",
       "      <td>0.494552</td>\n",
       "      <td>0.484364</td>\n",
       "    </tr>\n",
       "    <tr>\n",
       "      <th>1</th>\n",
       "      <td>1140.781818</td>\n",
       "      <td>3.396000</td>\n",
       "      <td>33.233818</td>\n",
       "      <td>0.090909</td>\n",
       "      <td>0.690909</td>\n",
       "      <td>0.527273</td>\n",
       "      <td>0.000000</td>\n",
       "      <td>0.218182</td>\n",
       "      <td>0.290909</td>\n",
       "      <td>0.163636</td>\n",
       "      <td>0.345455</td>\n",
       "      <td>0.181818</td>\n",
       "      <td>0.000000</td>\n",
       "      <td>1.309091</td>\n",
       "      <td>5.872727</td>\n",
       "      <td>0.551625</td>\n",
       "      <td>0.545393</td>\n",
       "      <td>0.468862</td>\n",
       "    </tr>\n",
       "    <tr>\n",
       "      <th>2</th>\n",
       "      <td>1420.140625</td>\n",
       "      <td>5.078438</td>\n",
       "      <td>43.505781</td>\n",
       "      <td>0.078125</td>\n",
       "      <td>0.781250</td>\n",
       "      <td>0.421875</td>\n",
       "      <td>0.093750</td>\n",
       "      <td>0.125000</td>\n",
       "      <td>0.234375</td>\n",
       "      <td>0.046875</td>\n",
       "      <td>0.171875</td>\n",
       "      <td>0.171875</td>\n",
       "      <td>0.031250</td>\n",
       "      <td>5.562500</td>\n",
       "      <td>7.093750</td>\n",
       "      <td>0.469784</td>\n",
       "      <td>0.482823</td>\n",
       "      <td>0.106117</td>\n",
       "    </tr>\n",
       "    <tr>\n",
       "      <th>3</th>\n",
       "      <td>3428.690476</td>\n",
       "      <td>3.876905</td>\n",
       "      <td>45.768095</td>\n",
       "      <td>0.071429</td>\n",
       "      <td>0.476190</td>\n",
       "      <td>0.452381</td>\n",
       "      <td>0.416667</td>\n",
       "      <td>1.000000</td>\n",
       "      <td>0.190476</td>\n",
       "      <td>0.452381</td>\n",
       "      <td>1.571429</td>\n",
       "      <td>0.166667</td>\n",
       "      <td>0.166667</td>\n",
       "      <td>2.642857</td>\n",
       "      <td>4.380952</td>\n",
       "      <td>0.546981</td>\n",
       "      <td>0.550733</td>\n",
       "      <td>0.361674</td>\n",
       "    </tr>\n",
       "    <tr>\n",
       "      <th>4</th>\n",
       "      <td>3721.585714</td>\n",
       "      <td>2.454857</td>\n",
       "      <td>38.385429</td>\n",
       "      <td>0.014286</td>\n",
       "      <td>0.592857</td>\n",
       "      <td>0.621429</td>\n",
       "      <td>0.014286</td>\n",
       "      <td>0.292857</td>\n",
       "      <td>0.242857</td>\n",
       "      <td>0.278571</td>\n",
       "      <td>0.657143</td>\n",
       "      <td>0.200000</td>\n",
       "      <td>0.007143</td>\n",
       "      <td>27.942857</td>\n",
       "      <td>3.707143</td>\n",
       "      <td>0.539504</td>\n",
       "      <td>0.586063</td>\n",
       "      <td>0.644674</td>\n",
       "    </tr>\n",
       "    <tr>\n",
       "      <th>5</th>\n",
       "      <td>1336.081633</td>\n",
       "      <td>4.657823</td>\n",
       "      <td>34.985510</td>\n",
       "      <td>0.047619</td>\n",
       "      <td>0.680272</td>\n",
       "      <td>0.210884</td>\n",
       "      <td>0.051020</td>\n",
       "      <td>0.537415</td>\n",
       "      <td>0.115646</td>\n",
       "      <td>0.272109</td>\n",
       "      <td>0.775510</td>\n",
       "      <td>0.081633</td>\n",
       "      <td>0.020408</td>\n",
       "      <td>13.863946</td>\n",
       "      <td>6.238095</td>\n",
       "      <td>0.571275</td>\n",
       "      <td>0.586999</td>\n",
       "      <td>0.551954</td>\n",
       "    </tr>\n",
       "    <tr>\n",
       "      <th>6</th>\n",
       "      <td>6289.412060</td>\n",
       "      <td>4.035226</td>\n",
       "      <td>53.585678</td>\n",
       "      <td>0.030151</td>\n",
       "      <td>0.668342</td>\n",
       "      <td>0.175879</td>\n",
       "      <td>0.037688</td>\n",
       "      <td>0.402010</td>\n",
       "      <td>0.105528</td>\n",
       "      <td>0.276382</td>\n",
       "      <td>0.909548</td>\n",
       "      <td>0.060302</td>\n",
       "      <td>0.045226</td>\n",
       "      <td>9.723618</td>\n",
       "      <td>3.914573</td>\n",
       "      <td>0.431395</td>\n",
       "      <td>0.427767</td>\n",
       "      <td>0.415973</td>\n",
       "    </tr>\n",
       "    <tr>\n",
       "      <th>7</th>\n",
       "      <td>3416.720000</td>\n",
       "      <td>3.347829</td>\n",
       "      <td>53.722571</td>\n",
       "      <td>0.011429</td>\n",
       "      <td>0.628571</td>\n",
       "      <td>0.634286</td>\n",
       "      <td>0.074286</td>\n",
       "      <td>0.182857</td>\n",
       "      <td>0.377143</td>\n",
       "      <td>0.165714</td>\n",
       "      <td>0.457143</td>\n",
       "      <td>0.205714</td>\n",
       "      <td>0.017143</td>\n",
       "      <td>14.782857</td>\n",
       "      <td>3.840000</td>\n",
       "      <td>0.527772</td>\n",
       "      <td>0.398703</td>\n",
       "      <td>0.325536</td>\n",
       "    </tr>\n",
       "    <tr>\n",
       "      <th>8</th>\n",
       "      <td>3996.712500</td>\n",
       "      <td>4.032167</td>\n",
       "      <td>55.020500</td>\n",
       "      <td>0.016667</td>\n",
       "      <td>0.629167</td>\n",
       "      <td>0.466667</td>\n",
       "      <td>0.016667</td>\n",
       "      <td>0.337500</td>\n",
       "      <td>0.287500</td>\n",
       "      <td>0.258333</td>\n",
       "      <td>0.654167</td>\n",
       "      <td>0.154167</td>\n",
       "      <td>0.016667</td>\n",
       "      <td>13.237500</td>\n",
       "      <td>3.779167</td>\n",
       "      <td>0.445706</td>\n",
       "      <td>0.378494</td>\n",
       "      <td>0.315518</td>\n",
       "    </tr>\n",
       "    <tr>\n",
       "      <th>9</th>\n",
       "      <td>6055.739583</td>\n",
       "      <td>4.197604</td>\n",
       "      <td>54.722344</td>\n",
       "      <td>0.000000</td>\n",
       "      <td>0.776042</td>\n",
       "      <td>0.317708</td>\n",
       "      <td>0.000000</td>\n",
       "      <td>0.286458</td>\n",
       "      <td>0.125000</td>\n",
       "      <td>0.203125</td>\n",
       "      <td>0.666667</td>\n",
       "      <td>0.098958</td>\n",
       "      <td>0.000000</td>\n",
       "      <td>17.875000</td>\n",
       "      <td>3.437500</td>\n",
       "      <td>0.513646</td>\n",
       "      <td>0.501755</td>\n",
       "      <td>0.431927</td>\n",
       "    </tr>\n",
       "    <tr>\n",
       "      <th>10</th>\n",
       "      <td>20037.344000</td>\n",
       "      <td>3.015040</td>\n",
       "      <td>72.318080</td>\n",
       "      <td>0.008000</td>\n",
       "      <td>0.896000</td>\n",
       "      <td>0.000000</td>\n",
       "      <td>0.000000</td>\n",
       "      <td>0.088000</td>\n",
       "      <td>0.000000</td>\n",
       "      <td>0.104000</td>\n",
       "      <td>0.128000</td>\n",
       "      <td>0.000000</td>\n",
       "      <td>0.000000</td>\n",
       "      <td>53.320000</td>\n",
       "      <td>17.528000</td>\n",
       "      <td>0.123630</td>\n",
       "      <td>0.174272</td>\n",
       "      <td>0.534021</td>\n",
       "    </tr>\n",
       "  </tbody>\n",
       "</table>\n",
       "</div>"
      ],
      "text/plain": [
       "            gdppercap  gdpgrowth   urbanpop      coup      none  revmagfight  \\\n",
       "polity2                                                                        \n",
       "-10       9190.000000   8.205625  46.028750  0.031250  0.718750     0.625000   \n",
       "-9        2794.603015   4.041759  41.236131  0.080402  0.778894     0.065327   \n",
       "-8        3810.839623   4.242264  44.474434  0.047170  0.594340     0.613208   \n",
       "-7        2033.178631   4.345977  35.465860  0.105175  0.706177     0.262104   \n",
       "-6        3021.279570   4.877527  41.552527  0.059140  0.731183     0.462366   \n",
       "-5        1839.148148   4.000185  29.843704  0.092593  0.481481     0.796296   \n",
       "-4        1139.538462   3.460192  27.925192  0.134615  0.346154     0.365385   \n",
       "-3        2625.329545   4.565114  39.977273  0.045455  0.579545     0.511364   \n",
       "-2        2245.196721   4.367541  29.626393  0.098361  0.704918     0.704918   \n",
       "-1        1003.813953   2.898605  33.159884  0.093023  0.593023     0.523256   \n",
       " 0        1981.746753   2.236753  42.548052  0.123377  0.272727     1.500000   \n",
       " 1        1140.781818   3.396000  33.233818  0.090909  0.690909     0.527273   \n",
       " 2        1420.140625   5.078438  43.505781  0.078125  0.781250     0.421875   \n",
       " 3        3428.690476   3.876905  45.768095  0.071429  0.476190     0.452381   \n",
       " 4        3721.585714   2.454857  38.385429  0.014286  0.592857     0.621429   \n",
       " 5        1336.081633   4.657823  34.985510  0.047619  0.680272     0.210884   \n",
       " 6        6289.412060   4.035226  53.585678  0.030151  0.668342     0.175879   \n",
       " 7        3416.720000   3.347829  53.722571  0.011429  0.628571     0.634286   \n",
       " 8        3996.712500   4.032167  55.020500  0.016667  0.629167     0.466667   \n",
       " 9        6055.739583   4.197604  54.722344  0.000000  0.776042     0.317708   \n",
       " 10      20037.344000   3.015040  72.318080  0.008000  0.896000     0.000000   \n",
       "\n",
       "         gendeathmag  ethmagfatal  revmagfatal       eth  ethmagfight  \\\n",
       "polity2                                                                 \n",
       "-10         0.000000     0.000000     0.281250  0.000000     0.000000   \n",
       "-9          0.153266     0.206030     0.055276  0.160804     0.502513   \n",
       "-8          0.330189     0.320755     0.415094  0.207547     0.716981   \n",
       "-7          0.381469     0.388982     0.171953  0.205342     0.587646   \n",
       "-6          0.129032     0.204301     0.220430  0.107527     0.263441   \n",
       "-5          0.092593     0.592593     0.425926  0.444444     1.111111   \n",
       "-4          0.278846     0.826923     0.134615  0.576923     1.365385   \n",
       "-3          0.170455     0.409091     0.386364  0.295455     0.772727   \n",
       "-2          0.163934     0.163934     0.377049  0.098361     0.278689   \n",
       "-1          0.093023     0.395349     0.302326  0.302326     0.767442   \n",
       " 0          0.490260     1.084416     0.961039  0.383117     1.383117   \n",
       " 1          0.000000     0.218182     0.290909  0.163636     0.345455   \n",
       " 2          0.093750     0.125000     0.234375  0.046875     0.171875   \n",
       " 3          0.416667     1.000000     0.190476  0.452381     1.571429   \n",
       " 4          0.014286     0.292857     0.242857  0.278571     0.657143   \n",
       " 5          0.051020     0.537415     0.115646  0.272109     0.775510   \n",
       " 6          0.037688     0.402010     0.105528  0.276382     0.909548   \n",
       " 7          0.074286     0.182857     0.377143  0.165714     0.457143   \n",
       " 8          0.016667     0.337500     0.287500  0.258333     0.654167   \n",
       " 9          0.000000     0.286458     0.125000  0.203125     0.666667   \n",
       " 10         0.000000     0.088000     0.000000  0.104000     0.128000   \n",
       "\n",
       "              rev       gen    durable        yip    ethnic  linguistic  \\\n",
       "polity2                                                                   \n",
       "-10      0.281250  0.000000  21.250000  11.187500  0.509519    0.478419   \n",
       "-9       0.030151  0.065327  24.070352  13.361809  0.534673    0.480890   \n",
       "-8       0.216981  0.094340  22.094340  12.745283  0.547953    0.473160   \n",
       "-7       0.076795  0.161937  19.547579   7.634391  0.573607    0.465149   \n",
       "-6       0.155914  0.086022  26.301075   8.849462  0.506697    0.470518   \n",
       "-5       0.222222  0.074074   9.851852   6.796296  0.509685    0.439667   \n",
       "-4       0.096154  0.115385   8.596154   9.461538  0.564892    0.526631   \n",
       "-3       0.193182  0.056818   6.000000   8.261364  0.468400    0.339227   \n",
       "-2       0.245902  0.065574   6.934426  14.754098  0.680172    0.680667   \n",
       "-1       0.151163  0.034884   5.965116  10.279070  0.674057    0.638520   \n",
       " 0       0.415584  0.149351   0.448052   4.844156  0.567732    0.494552   \n",
       " 1       0.181818  0.000000   1.309091   5.872727  0.551625    0.545393   \n",
       " 2       0.171875  0.031250   5.562500   7.093750  0.469784    0.482823   \n",
       " 3       0.166667  0.166667   2.642857   4.380952  0.546981    0.550733   \n",
       " 4       0.200000  0.007143  27.942857   3.707143  0.539504    0.586063   \n",
       " 5       0.081633  0.020408  13.863946   6.238095  0.571275    0.586999   \n",
       " 6       0.060302  0.045226   9.723618   3.914573  0.431395    0.427767   \n",
       " 7       0.205714  0.017143  14.782857   3.840000  0.527772    0.398703   \n",
       " 8       0.154167  0.016667  13.237500   3.779167  0.445706    0.378494   \n",
       " 9       0.098958  0.000000  17.875000   3.437500  0.513646    0.501755   \n",
       " 10      0.000000  0.000000  53.320000  17.528000  0.123630    0.174272   \n",
       "\n",
       "         religious  \n",
       "polity2             \n",
       "-10       0.333137  \n",
       "-9        0.408848  \n",
       "-8        0.354853  \n",
       "-7        0.431636  \n",
       "-6        0.310522  \n",
       "-5        0.393644  \n",
       "-4        0.467673  \n",
       "-3        0.356615  \n",
       "-2        0.425820  \n",
       "-1        0.401549  \n",
       " 0        0.484364  \n",
       " 1        0.468862  \n",
       " 2        0.106117  \n",
       " 3        0.361674  \n",
       " 4        0.644674  \n",
       " 5        0.551954  \n",
       " 6        0.415973  \n",
       " 7        0.325536  \n",
       " 8        0.315518  \n",
       " 9        0.431927  \n",
       " 10       0.534021  "
      ]
     },
     "execution_count": 60,
     "metadata": {},
     "output_type": "execute_result"
    }
   ],
   "source": [
    "gBPolity = DF.groupby(\"polity2\").mean()\n",
    "gBPolity"
   ]
  },
  {
   "cell_type": "code",
   "execution_count": 61,
   "metadata": {
    "collapsed": true
   },
   "outputs": [],
   "source": [
    "# gBPolity.to_csv(\"../assets/csv/gBPolity.csv\")"
   ]
  },
  {
   "cell_type": "code",
   "execution_count": 62,
   "metadata": {
    "collapsed": false
   },
   "outputs": [
    {
     "data": {
      "text/html": [
       "<div>\n",
       "<table border=\"1\" class=\"dataframe\">\n",
       "  <thead>\n",
       "    <tr style=\"text-align: right;\">\n",
       "      <th></th>\n",
       "      <th>gdppercap</th>\n",
       "      <th>gdpgrowth</th>\n",
       "      <th>urbanpop</th>\n",
       "      <th>none</th>\n",
       "      <th>revmagfight</th>\n",
       "      <th>gendeathmag</th>\n",
       "      <th>ethmagfatal</th>\n",
       "      <th>revmagfatal</th>\n",
       "      <th>eth</th>\n",
       "      <th>ethmagfight</th>\n",
       "      <th>rev</th>\n",
       "      <th>gen</th>\n",
       "      <th>polity2</th>\n",
       "      <th>durable</th>\n",
       "      <th>yip</th>\n",
       "      <th>ethnic</th>\n",
       "      <th>linguistic</th>\n",
       "      <th>religious</th>\n",
       "    </tr>\n",
       "    <tr>\n",
       "      <th>coup</th>\n",
       "      <th></th>\n",
       "      <th></th>\n",
       "      <th></th>\n",
       "      <th></th>\n",
       "      <th></th>\n",
       "      <th></th>\n",
       "      <th></th>\n",
       "      <th></th>\n",
       "      <th></th>\n",
       "      <th></th>\n",
       "      <th></th>\n",
       "      <th></th>\n",
       "      <th></th>\n",
       "      <th></th>\n",
       "      <th></th>\n",
       "      <th></th>\n",
       "      <th></th>\n",
       "      <th></th>\n",
       "    </tr>\n",
       "  </thead>\n",
       "  <tbody>\n",
       "    <tr>\n",
       "      <th>0</th>\n",
       "      <td>3974.858310</td>\n",
       "      <td>4.148487</td>\n",
       "      <td>44.503320</td>\n",
       "      <td>0.675071</td>\n",
       "      <td>0.408026</td>\n",
       "      <td>0.145952</td>\n",
       "      <td>0.354048</td>\n",
       "      <td>0.233310</td>\n",
       "      <td>0.217330</td>\n",
       "      <td>0.622514</td>\n",
       "      <td>0.131037</td>\n",
       "      <td>0.062500</td>\n",
       "      <td>0.117188</td>\n",
       "      <td>17.620384</td>\n",
       "      <td>7.526989</td>\n",
       "      <td>0.511280</td>\n",
       "      <td>0.458907</td>\n",
       "      <td>0.414178</td>\n",
       "    </tr>\n",
       "    <tr>\n",
       "      <th>1</th>\n",
       "      <td>1389.011111</td>\n",
       "      <td>1.361944</td>\n",
       "      <td>31.696611</td>\n",
       "      <td>0.422222</td>\n",
       "      <td>0.722222</td>\n",
       "      <td>0.513889</td>\n",
       "      <td>0.622222</td>\n",
       "      <td>0.455556</td>\n",
       "      <td>0.355556</td>\n",
       "      <td>1.016667</td>\n",
       "      <td>0.233333</td>\n",
       "      <td>0.188889</td>\n",
       "      <td>-3.483333</td>\n",
       "      <td>8.838889</td>\n",
       "      <td>6.183333</td>\n",
       "      <td>0.588908</td>\n",
       "      <td>0.582316</td>\n",
       "      <td>0.422165</td>\n",
       "    </tr>\n",
       "  </tbody>\n",
       "</table>\n",
       "</div>"
      ],
      "text/plain": [
       "        gdppercap  gdpgrowth   urbanpop      none  revmagfight  gendeathmag  \\\n",
       "coup                                                                          \n",
       "0     3974.858310   4.148487  44.503320  0.675071     0.408026     0.145952   \n",
       "1     1389.011111   1.361944  31.696611  0.422222     0.722222     0.513889   \n",
       "\n",
       "      ethmagfatal  revmagfatal       eth  ethmagfight       rev       gen  \\\n",
       "coup                                                                        \n",
       "0        0.354048     0.233310  0.217330     0.622514  0.131037  0.062500   \n",
       "1        0.622222     0.455556  0.355556     1.016667  0.233333  0.188889   \n",
       "\n",
       "       polity2    durable       yip    ethnic  linguistic  religious  \n",
       "coup                                                                  \n",
       "0     0.117188  17.620384  7.526989  0.511280    0.458907   0.414178  \n",
       "1    -3.483333   8.838889  6.183333  0.588908    0.582316   0.422165  "
      ]
     },
     "execution_count": 62,
     "metadata": {},
     "output_type": "execute_result"
    }
   ],
   "source": [
    "DF.groupby(\"coup\").mean()"
   ]
  },
  {
   "cell_type": "code",
   "execution_count": 63,
   "metadata": {
    "collapsed": false
   },
   "outputs": [],
   "source": [
    "# DF.to_csv(\"../assets/csv/finalData.csv\")"
   ]
  },
  {
   "cell_type": "code",
   "execution_count": 64,
   "metadata": {
    "collapsed": false
   },
   "outputs": [
    {
     "data": {
      "text/plain": [
       "dtype('float64')"
      ]
     },
     "execution_count": 64,
     "metadata": {},
     "output_type": "execute_result"
    }
   ],
   "source": [
    "DF[\"eth\"].dtypes"
   ]
  },
  {
   "cell_type": "code",
   "execution_count": 65,
   "metadata": {
    "collapsed": false
   },
   "outputs": [],
   "source": [
    "worldMap = {\n",
    "            \"southAmerica\":     [\"Argentina\", \"Chile\", \"Colombia\", \"Peru\"],\n",
    "            \"centralAmerica\":   [\"El Salvador\", \"Guatemala\", \"Mexico\", \"Nicaragua\"],\n",
    "            \"caribbean\":        [\"Cuba\", \"Dominican Republic\", ],\n",
    "            \"northernEurope\":   [\"United Kingdom\"],\n",
    "            \"southernEurope\":   [\"Albania\", \"Croatia\"],\n",
    "            \"easternEurope\":    [\"Hungary\", \"Moldova\", \"Romania\", \"Russia\", \"Ukraine\"],\n",
    "            \"centralAsia\":      [\"Tajikistan\"],\n",
    "            \"southEasternAsia\": [\"Cambodia\", \"Indonesia\", \"Laos\", \"Philippines\", \"Thailand\"],\n",
    "            \"southernAsia\":     [\"Afghanistan\", \"Bangladesh\", \"India\", \"Iran\", \"Nepal\",\"Pakistan\", \n",
    "                                 \"Sri Lanka\"],\n",
    "            \"easternAsia\":      [\"China\"],\n",
    "            \"westernAsia\":      [\"Azerbaijan\", \"Cyprus\", \"Georgia\", \"Iraq\", \"Israel\", \"Lebanon\", \n",
    "                                 \"Oman\", \"Syria\", \"Turkey\"],\n",
    "            \"oceania\":          [\"Papua New Guinea\"],\n",
    "            \"northernAfrica\":   [\"Algeria\", \"Egypt\", \"Libya\", \"Morocco\", \"Sudan\"],\n",
    "            \"southernAfrica\":   [\"South Africa\"],\n",
    "            \"easternAfrica\":    [\"Burundi\", \"Djibouti\", \"Ethiopia\", \"Kenya\", \"Mozambique\", \"Rwanda\",\n",
    "                                 \"Uganda\", \"Zambia\", \"Zimbabwe\"],\n",
    "            \"westernAfrica\":    [\"Guinea\", \"Guinea-Bissau\", \"Liberia\", \"Mali\", \"Nigeria\", \"Senegal\", \n",
    "                                 \"Sierra Leone\"],\n",
    "            \"middleAfrica\":     [\"Angola\", \"Central African Republic\", \"Chad\", \"DR Congo\", \n",
    "                                 \"Equatorial Guinea\"]\n",
    "           }"
   ]
  },
  {
   "cell_type": "code",
   "execution_count": 66,
   "metadata": {
    "collapsed": false
   },
   "outputs": [],
   "source": [
    "def binCountry(country, worldMap):\n",
    "    for region, countryList in worldMap.items():\n",
    "        if country in countryList:\n",
    "            return region\n",
    "        \n",
    "\n",
    "DF[\"CountryBin\"] = DF.country.apply( lambda country: binCountry(country, worldMap) )\n",
    "dummies = pd.get_dummies( DF[\"CountryBin\"] )\n",
    "DF2 = DF.join(dummies)\n",
    "DF2.drop([\"country\", \"CountryBin\"], axis=1, inplace=True)"
   ]
  },
  {
   "cell_type": "code",
   "execution_count": 67,
   "metadata": {
    "collapsed": false
   },
   "outputs": [
    {
     "data": {
      "text/html": [
       "<div>\n",
       "<table border=\"1\" class=\"dataframe\">\n",
       "  <thead>\n",
       "    <tr style=\"text-align: right;\">\n",
       "      <th></th>\n",
       "      <th>gdppercap</th>\n",
       "      <th>gdpgrowth</th>\n",
       "      <th>urbanpop</th>\n",
       "      <th>coup</th>\n",
       "      <th>none</th>\n",
       "      <th>revmagfight</th>\n",
       "      <th>gendeathmag</th>\n",
       "      <th>ethmagfatal</th>\n",
       "      <th>revmagfatal</th>\n",
       "      <th>eth</th>\n",
       "      <th>...</th>\n",
       "      <th>northernAfrica</th>\n",
       "      <th>northernEurope</th>\n",
       "      <th>oceania</th>\n",
       "      <th>southAmerica</th>\n",
       "      <th>southEasternAsia</th>\n",
       "      <th>southernAfrica</th>\n",
       "      <th>southernAsia</th>\n",
       "      <th>southernEurope</th>\n",
       "      <th>westernAfrica</th>\n",
       "      <th>westernAsia</th>\n",
       "    </tr>\n",
       "  </thead>\n",
       "  <tbody>\n",
       "    <tr>\n",
       "      <th>1</th>\n",
       "      <td>287.0</td>\n",
       "      <td>4.04</td>\n",
       "      <td>11.53</td>\n",
       "      <td>0</td>\n",
       "      <td>1.0</td>\n",
       "      <td>0</td>\n",
       "      <td>0.0</td>\n",
       "      <td>0</td>\n",
       "      <td>0</td>\n",
       "      <td>0.0</td>\n",
       "      <td>...</td>\n",
       "      <td>0.0</td>\n",
       "      <td>0.0</td>\n",
       "      <td>0.0</td>\n",
       "      <td>0.0</td>\n",
       "      <td>0.0</td>\n",
       "      <td>0.0</td>\n",
       "      <td>1.0</td>\n",
       "      <td>0.0</td>\n",
       "      <td>0.0</td>\n",
       "      <td>0.0</td>\n",
       "    </tr>\n",
       "    <tr>\n",
       "      <th>2</th>\n",
       "      <td>291.0</td>\n",
       "      <td>3.88</td>\n",
       "      <td>11.92</td>\n",
       "      <td>0</td>\n",
       "      <td>1.0</td>\n",
       "      <td>0</td>\n",
       "      <td>0.0</td>\n",
       "      <td>0</td>\n",
       "      <td>0</td>\n",
       "      <td>0.0</td>\n",
       "      <td>...</td>\n",
       "      <td>0.0</td>\n",
       "      <td>0.0</td>\n",
       "      <td>0.0</td>\n",
       "      <td>0.0</td>\n",
       "      <td>0.0</td>\n",
       "      <td>0.0</td>\n",
       "      <td>1.0</td>\n",
       "      <td>0.0</td>\n",
       "      <td>0.0</td>\n",
       "      <td>0.0</td>\n",
       "    </tr>\n",
       "    <tr>\n",
       "      <th>3</th>\n",
       "      <td>294.0</td>\n",
       "      <td>3.74</td>\n",
       "      <td>12.32</td>\n",
       "      <td>0</td>\n",
       "      <td>1.0</td>\n",
       "      <td>0</td>\n",
       "      <td>0.0</td>\n",
       "      <td>0</td>\n",
       "      <td>0</td>\n",
       "      <td>0.0</td>\n",
       "      <td>...</td>\n",
       "      <td>0.0</td>\n",
       "      <td>0.0</td>\n",
       "      <td>0.0</td>\n",
       "      <td>0.0</td>\n",
       "      <td>0.0</td>\n",
       "      <td>0.0</td>\n",
       "      <td>1.0</td>\n",
       "      <td>0.0</td>\n",
       "      <td>0.0</td>\n",
       "      <td>0.0</td>\n",
       "    </tr>\n",
       "    <tr>\n",
       "      <th>4</th>\n",
       "      <td>297.0</td>\n",
       "      <td>3.60</td>\n",
       "      <td>12.73</td>\n",
       "      <td>1</td>\n",
       "      <td>1.0</td>\n",
       "      <td>0</td>\n",
       "      <td>0.0</td>\n",
       "      <td>0</td>\n",
       "      <td>0</td>\n",
       "      <td>0.0</td>\n",
       "      <td>...</td>\n",
       "      <td>0.0</td>\n",
       "      <td>0.0</td>\n",
       "      <td>0.0</td>\n",
       "      <td>0.0</td>\n",
       "      <td>0.0</td>\n",
       "      <td>0.0</td>\n",
       "      <td>1.0</td>\n",
       "      <td>0.0</td>\n",
       "      <td>0.0</td>\n",
       "      <td>0.0</td>\n",
       "    </tr>\n",
       "    <tr>\n",
       "      <th>5</th>\n",
       "      <td>300.0</td>\n",
       "      <td>3.48</td>\n",
       "      <td>13.15</td>\n",
       "      <td>0</td>\n",
       "      <td>1.0</td>\n",
       "      <td>0</td>\n",
       "      <td>0.0</td>\n",
       "      <td>0</td>\n",
       "      <td>0</td>\n",
       "      <td>0.0</td>\n",
       "      <td>...</td>\n",
       "      <td>0.0</td>\n",
       "      <td>0.0</td>\n",
       "      <td>0.0</td>\n",
       "      <td>0.0</td>\n",
       "      <td>0.0</td>\n",
       "      <td>0.0</td>\n",
       "      <td>1.0</td>\n",
       "      <td>0.0</td>\n",
       "      <td>0.0</td>\n",
       "      <td>0.0</td>\n",
       "    </tr>\n",
       "  </tbody>\n",
       "</table>\n",
       "<p>5 rows × 36 columns</p>\n",
       "</div>"
      ],
      "text/plain": [
       "   gdppercap  gdpgrowth  urbanpop  coup  none  revmagfight  gendeathmag  \\\n",
       "1      287.0       4.04     11.53     0   1.0            0          0.0   \n",
       "2      291.0       3.88     11.92     0   1.0            0          0.0   \n",
       "3      294.0       3.74     12.32     0   1.0            0          0.0   \n",
       "4      297.0       3.60     12.73     1   1.0            0          0.0   \n",
       "5      300.0       3.48     13.15     0   1.0            0          0.0   \n",
       "\n",
       "   ethmagfatal  revmagfatal  eth     ...       northernAfrica  northernEurope  \\\n",
       "1            0            0  0.0     ...                  0.0             0.0   \n",
       "2            0            0  0.0     ...                  0.0             0.0   \n",
       "3            0            0  0.0     ...                  0.0             0.0   \n",
       "4            0            0  0.0     ...                  0.0             0.0   \n",
       "5            0            0  0.0     ...                  0.0             0.0   \n",
       "\n",
       "   oceania  southAmerica  southEasternAsia  southernAfrica  southernAsia  \\\n",
       "1      0.0           0.0               0.0             0.0           1.0   \n",
       "2      0.0           0.0               0.0             0.0           1.0   \n",
       "3      0.0           0.0               0.0             0.0           1.0   \n",
       "4      0.0           0.0               0.0             0.0           1.0   \n",
       "5      0.0           0.0               0.0             0.0           1.0   \n",
       "\n",
       "   southernEurope  westernAfrica  westernAsia  \n",
       "1             0.0            0.0          0.0  \n",
       "2             0.0            0.0          0.0  \n",
       "3             0.0            0.0          0.0  \n",
       "4             0.0            0.0          0.0  \n",
       "5             0.0            0.0          0.0  \n",
       "\n",
       "[5 rows x 36 columns]"
      ]
     },
     "execution_count": 67,
     "metadata": {},
     "output_type": "execute_result"
    }
   ],
   "source": [
    "DF2.head()"
   ]
  },
  {
   "cell_type": "code",
   "execution_count": 68,
   "metadata": {
    "collapsed": false
   },
   "outputs": [
    {
     "data": {
      "text/plain": [
       "<matplotlib.axes._subplots.AxesSubplot at 0x11a4bff50>"
      ]
     },
     "execution_count": 68,
     "metadata": {},
     "output_type": "execute_result"
    },
    {
     "data": {
      "image/png": "[encoded data removed]",
      "text/plain": [
       "<matplotlib.figure.Figure at 0x1154dab10>"
      ]
     },
     "metadata": {},
     "output_type": "display_data"
    }
   ],
   "source": [
    "sns.heatmap(DF2.corr())"
   ]
  },
  {
   "cell_type": "code",
   "execution_count": 69,
   "metadata": {
    "collapsed": true
   },
   "outputs": [],
   "source": [
    "y = DF2[\"coup\"]\n",
    "X = DF2.drop([\"coup\"], axis=1)"
   ]
  },
  {
   "cell_type": "code",
   "execution_count": 70,
   "metadata": {
    "collapsed": true
   },
   "outputs": [],
   "source": [
    "from sklearn.cross_validation import KFold,cross_val_score,train_test_split,cross_val_predict\n",
    "from sklearn.metrics import r2_score,accuracy_score,precision_score,recall_score\n",
    "from sklearn.grid_search import GridSearchCV\n",
    "from sklearn.ensemble import RandomForestClassifier, AdaBoostClassifier\n",
    "from sklearn.metrics import classification_report, roc_curve, roc_auc_score, auc\n",
    "from sklearn.tree import DecisionTreeClassifier\n",
    "from IPython.display import Image\n",
    "from sklearn.tree import export_graphviz\n",
    "from sklearn.externals.six import StringIO\n",
    "import pydot"
   ]
  },
  {
   "cell_type": "code",
   "execution_count": 71,
   "metadata": {
    "collapsed": false
   },
   "outputs": [],
   "source": [
    "X_train, X_test, y_train, y_test = train_test_split(X, y, test_size=0.3, random_state=0)"
   ]
  },
  {
   "cell_type": "markdown",
   "metadata": {},
   "source": [
    "## Random Forest Classifier"
   ]
  },
  {
   "cell_type": "code",
   "execution_count": 72,
   "metadata": {
    "collapsed": false,
    "scrolled": true
   },
   "outputs": [],
   "source": [
    "# rf = RandomForestClassifier(n_jobs=-1,max_features= 'sqrt' ,n_estimators=100, oob_score = True) \n",
    "\n",
    "# rfparam_grid = { \n",
    "#                 'n_estimators': [25, 50,75,100,125,150,200],\n",
    "#                 'criterion': [\"gini\", \"entropy\"],\n",
    "#                 'max_features': [None, 'sqrt', 'log2'],\n",
    "#                 'min_samples_split':[1,2,3,4,5,6]\n",
    "#                }\n",
    "    \n",
    "# CV_rf = GridSearchCV(estimator=rf, param_grid=rfparam_grid, cv=5)\n",
    "# CV_rf.fit(X_train, y_train)\n",
    "# print CV_rf.best_params_"
   ]
  },
  {
   "cell_type": "code",
   "execution_count": null,
   "metadata": {
    "collapsed": false
   },
   "outputs": [
    {
     "name": "stdout",
     "output_type": "stream",
     "text": [
      "sklearn.cross_validation.KFold(n=2097, n_folds=3, shuffle=False, random_state=None)\n",
      "Regular Decision Tree scores are: [ 0.93991416  0.93562232  0.94849785]\n",
      "Regular Decision Tree average score is: 0.941344778255\n"
     ]
    }
   ],
   "source": [
    "cv = KFold(len(y_train), shuffle=False) \n",
    "print cv\n",
    "rf = RandomForestClassifier(bootstrap=True, class_weight=None, criterion='entropy',\n",
    "            max_depth=None, max_features=\"sqrt\", max_leaf_nodes=None,\n",
    "            min_samples_leaf=1, min_samples_split=5,\n",
    "            min_weight_fraction_leaf=0.0, n_estimators=150, n_jobs=1,\n",
    "            oob_score=True, random_state=20, verbose=0, warm_start=False)\n",
    "rfScore = cross_val_score(rf, X_train, y_train, cv=cv, n_jobs=-1)\n",
    "print \"Regular Decision Tree scores are:\", rfScore\n",
    "print \"Regular Decision Tree average score is:\", rfScore.mean()"
   ]
  },
  {
   "cell_type": "code",
   "execution_count": null,
   "metadata": {
    "collapsed": false
   },
   "outputs": [],
   "source": [
    "rfModel = rf.fit(X_train, y_train)"
   ]
  },
  {
   "cell_type": "code",
   "execution_count": null,
   "metadata": {
    "collapsed": false
   },
   "outputs": [],
   "source": [
    "rfPredicted = rfModel.predict(X_test)\n",
    "rfProbs = rfModel.predict_proba(X_test)"
   ]
  },
  {
   "cell_type": "code",
   "execution_count": null,
   "metadata": {
    "collapsed": true
   },
   "outputs": [],
   "source": [
    "rfPredictions = pd.DataFrame()\n",
    "rfPredictions[\"Actual\"] = y_test\n",
    "rfPredictions[\"Predicted\"] = rfPredicted\n",
    "rfPredictions[\"ProbsPos\"], rfPredictions[\"ProbsNeg\"] = zip(*rfProbs)"
   ]
  },
  {
   "cell_type": "code",
   "execution_count": null,
   "metadata": {
    "collapsed": false
   },
   "outputs": [],
   "source": [
    "newList = []\n",
    "newList2 = []\n",
    "for i in np.arange(0,1,0.01):\n",
    "    rfPredictions[\"ThreshPred\"] = ([0 if x < i else 1 for x in rfPredictions['ProbsNeg']])\n",
    "    newList.append(roc_auc_score(rfPredictions[\"Actual\"], rfPredictions[\"ThreshPred\"]))\n",
    "    newList2.append(i)\n",
    "d = zip(newList, newList2)\n",
    "max(d)"
   ]
  },
  {
   "cell_type": "code",
   "execution_count": null,
   "metadata": {
    "collapsed": false
   },
   "outputs": [],
   "source": [
    "rfThreshold = max(d)[1]\n",
    "rfPredictions[\"ThreshPred\"] = ([0 if x < rfThreshold else 1 for x in rfPredictions['ProbsNeg']])"
   ]
  },
  {
   "cell_type": "code",
   "execution_count": null,
   "metadata": {
    "collapsed": false
   },
   "outputs": [],
   "source": [
    "print 'accuracy score:', accuracy_score(rfPredictions[\"Actual\"], rfPredictions[\"ThreshPred\"])\n",
    "print 'ROC Score:', roc_auc_score(rfPredictions[\"Actual\"], rfPredictions[\"ThreshPred\"])"
   ]
  },
  {
   "cell_type": "code",
   "execution_count": null,
   "metadata": {
    "collapsed": false
   },
   "outputs": [],
   "source": [
    "print 'precision score:', precision_score(rfPredictions['Actual'],rfPredictions['ThreshPred'])\n",
    "print 'recall score:', recall_score(rfPredictions['Actual'],rfPredictions['ThreshPred'])\n",
    "print 'accuracy score:',accuracy_score(rfPredictions['Actual'],rfPredictions['ThreshPred'])"
   ]
  },
  {
   "cell_type": "code",
   "execution_count": null,
   "metadata": {
    "collapsed": false
   },
   "outputs": [],
   "source": [
    "print pd.crosstab(rfPredictions[\"Actual\"], rfPredictions[\"ThreshPred\"], rownames=[\"Actual\"])"
   ]
  },
  {
   "cell_type": "code",
   "execution_count": null,
   "metadata": {
    "collapsed": false
   },
   "outputs": [],
   "source": [
    "rfPredictions[\"ThreshPred\"].value_counts()"
   ]
  },
  {
   "cell_type": "code",
   "execution_count": null,
   "metadata": {
    "collapsed": false,
    "scrolled": true
   },
   "outputs": [],
   "source": [
    "rfPredictions[\"Actual\"].value_counts()"
   ]
  },
  {
   "cell_type": "code",
   "execution_count": null,
   "metadata": {
    "collapsed": false,
    "scrolled": true
   },
   "outputs": [],
   "source": [
    "rfPredictions.head()"
   ]
  },
  {
   "cell_type": "markdown",
   "metadata": {},
   "source": [
    "## AdaBoost Classifier"
   ]
  },
  {
   "cell_type": "code",
   "execution_count": null,
   "metadata": {
    "collapsed": false
   },
   "outputs": [],
   "source": [
    "# ab = AdaBoostClassifier() \n",
    "\n",
    "# abparam_grid = { \n",
    "#                 \"n_estimators\": [10,15,20,25,30],\n",
    "#                 \"learning_rate\": [1.0,2.0,3.0,4.0,5.0,6.0],\n",
    "#                 \"algorithm\": [\"SAMME\", \"SAMME.R\"]\n",
    "#                }\n",
    "\n",
    "# CV_ab= GridSearchCV(estimator=ab, param_grid=abparam_grid, cv=5)\n",
    "# CV_ab.fit(X_train, y_train)\n",
    "# print CV_ab.best_params_\n",
    "# print CV_ab.best_estimator_"
   ]
  },
  {
   "cell_type": "code",
   "execution_count": null,
   "metadata": {
    "collapsed": false
   },
   "outputs": [],
   "source": [
    "cv = KFold(len(y_train), shuffle=False) \n",
    "print cv\n",
    "ab = AdaBoostClassifier(algorithm='SAMME', base_estimator=None,\n",
    "          learning_rate=2.0, n_estimators=15, random_state=20)\n",
    "\n",
    "abScore = cross_val_score(ab, X_train, y_train, cv=cv,n_jobs=1)\n",
    "print \"Adaboost Decision Tree scores are:\", abScore\n",
    "print \"Adaboost Decision Tree average score is:\", abScore.mean()"
   ]
  },
  {
   "cell_type": "code",
   "execution_count": null,
   "metadata": {
    "collapsed": true
   },
   "outputs": [],
   "source": [
    "abModel = ab.fit(X_train, y_train)"
   ]
  },
  {
   "cell_type": "code",
   "execution_count": null,
   "metadata": {
    "collapsed": false
   },
   "outputs": [],
   "source": [
    "abPredicted = abModel.predict(X_test)\n",
    "abProbs = abModel.predict_proba(X_test)"
   ]
  },
  {
   "cell_type": "code",
   "execution_count": null,
   "metadata": {
    "collapsed": false
   },
   "outputs": [],
   "source": [
    "abPredictions = pd.DataFrame()\n",
    "abPredictions[\"Actual\"] = y_test\n",
    "abPredictions[\"Predicted\"] = abPredicted\n",
    "abPredictions[\"ProbsPos\"], abPredictions[\"ProbsNeg\"] = zip(*abProbs)"
   ]
  },
  {
   "cell_type": "code",
   "execution_count": null,
   "metadata": {
    "collapsed": false
   },
   "outputs": [],
   "source": [
    "newList3 = []\n",
    "newList4 = []\n",
    "for i in np.arange(0,1,0.01):\n",
    "    abPredictions[\"ThreshPred\"] = ([0 if x < i else 1 for x in abPredictions['ProbsNeg']])\n",
    "    newList3.append(roc_auc_score(abPredictions[\"Actual\"], abPredictions[\"ThreshPred\"]))\n",
    "    newList4.append(i)\n",
    "e = zip(newList3, newList4)\n",
    "max(e)"
   ]
  },
  {
   "cell_type": "code",
   "execution_count": null,
   "metadata": {
    "collapsed": false
   },
   "outputs": [],
   "source": [
    "abThreshold = max(e)[1]\n",
    "abPredictions[\"ThreshPred\"] = ([0 if x < abThreshold else 1 for x in abPredictions['ProbsNeg']])"
   ]
  },
  {
   "cell_type": "code",
   "execution_count": null,
   "metadata": {
    "collapsed": false
   },
   "outputs": [],
   "source": [
    "print accuracy_score(abPredictions[\"Actual\"], abPredictions[\"ThreshPred\"])\n",
    "print roc_auc_score(abPredictions[\"Actual\"], abPredictions[\"ThreshPred\"])"
   ]
  },
  {
   "cell_type": "code",
   "execution_count": null,
   "metadata": {
    "collapsed": false
   },
   "outputs": [],
   "source": [
    "print 'precision score:', precision_score(abPredictions['Actual'],abPredictions['ThreshPred'])\n",
    "print 'recall score:', recall_score(abPredictions['Actual'],abPredictions['ThreshPred'])\n",
    "print 'accuracy score:',accuracy_score(abPredictions['Actual'],abPredictions['ThreshPred'])"
   ]
  },
  {
   "cell_type": "code",
   "execution_count": null,
   "metadata": {
    "collapsed": false
   },
   "outputs": [],
   "source": [
    "abPredictions.head()"
   ]
  },
  {
   "cell_type": "code",
   "execution_count": null,
   "metadata": {
    "collapsed": false
   },
   "outputs": [],
   "source": [
    "print pd.crosstab(abPredictions[\"Actual\"], abPredictions[\"ThreshPred\"], rownames=[\"Actual\"])"
   ]
  },
  {
   "cell_type": "code",
   "execution_count": null,
   "metadata": {
    "collapsed": false
   },
   "outputs": [],
   "source": [
    "abPredictions[\"ThreshPred\"].value_counts()"
   ]
  },
  {
   "cell_type": "code",
   "execution_count": null,
   "metadata": {
    "collapsed": false
   },
   "outputs": [],
   "source": [
    "abPredictions[\"Actual\"].value_counts()"
   ]
  },
  {
   "cell_type": "code",
   "execution_count": null,
   "metadata": {
    "collapsed": false
   },
   "outputs": [],
   "source": [
    "rfPredictions.ThreshPred.head()"
   ]
  },
  {
   "cell_type": "code",
   "execution_count": null,
   "metadata": {
    "collapsed": false
   },
   "outputs": [],
   "source": [
    "# Compute ROC curve and ROC area for Random Forest\n",
    "rffpr = dict()\n",
    "rftpr = dict()\n",
    "rfroc_auc = dict()\n",
    "rffpr, rftpr, _ = roc_curve(y_test, rfPredictions.ProbsNeg)\n",
    "rfroc_auc = auc(rffpr, rftpr)\n",
    "\n",
    "# Compute ROC curve and ROC area for Adaboost\n",
    "abfpr = dict()\n",
    "abtpr = dict()\n",
    "abroc_auc = dict()\n",
    "abfpr, abtpr, _ = roc_curve(y_test, abPredictions.ProbsNeg)\n",
    "abroc_auc = auc(abfpr, abtpr)\n",
    "\n",
    "\n",
    "# Plot of a ROC curve \n",
    "plt.figure(figsize=(15,15))\n",
    "plt.plot(rffpr,rftpr,label='Rf AUC = %0.2f' % rfroc_auc)\n",
    "plt.plot(abfpr,abtpr,label='Ab AUC = %0.2f' % abroc_auc)\n",
    "plt.plot([0, 1], [0, 1], 'k--')\n",
    "plt.xlim([0.0, 1.0])\n",
    "plt.ylim([0.0, 1.05])\n",
    "plt.xlabel('False Positive Rate',fontsize=20)\n",
    "plt.ylabel('True Positive Rate', fontsize=20)\n",
    "plt.title('Receiver Operating Characteristic\\n', fontsize=30)\n",
    "plt.legend(loc=\"lower right\", fontsize=20)\n",
    "plt.yticks(fontsize=20)\n",
    "plt.xticks(fontsize=20)\n",
    "\n",
    "plt.show()"
   ]
  },
  {
   "cell_type": "markdown",
   "metadata": {},
   "source": [
    "## Random Forest with Feature Selection - Robustness"
   ]
  },
  {
   "cell_type": "code",
   "execution_count": null,
   "metadata": {
    "collapsed": false
   },
   "outputs": [],
   "source": [
    "#averaginng feature importances across trees in random forest model\n",
    "all(rf.feature_importances_ == np.mean([tree.feature_importances_ for tree in rf.estimators_], axis=0))\n",
    "\n",
    "importances = rf.feature_importances_\n",
    "std = np.std([tree.feature_importances_ for tree in rf.estimators_], axis=0)\n",
    "\n",
    "indices = np.argsort(importances)[::-1]\n",
    "feature_names = X_train.columns"
   ]
  },
  {
   "cell_type": "code",
   "execution_count": null,
   "metadata": {
    "collapsed": false
   },
   "outputs": [],
   "source": [
    "plt.figure(figsize=(20,10))\n",
    "plt.title(\"Feature Importances\\n\", fontsize = 30)\n",
    "plt.bar(range(X_train.shape[1]), importances[indices],\n",
    "       color=\"r\", yerr=std[indices], align=\"center\")\n",
    "plt.xticks(range(X_train.shape[1]), feature_names[indices], rotation=90, fontsize = 20)\n",
    "plt.xlim([-1, X_train.shape[1]])\n",
    "plt.yticks(fontsize=20)"
   ]
  },
  {
   "cell_type": "code",
   "execution_count": null,
   "metadata": {
    "collapsed": true
   },
   "outputs": [],
   "source": [
    "X_new = DF2[[\"gdppercap\", \"urbanpop\", \"gdpgrowth\", \"durable\", \"yip\",\n",
    "            \"polity2\", \"ethnic\", \"religious\", \"linguistic\"]]"
   ]
  },
  {
   "cell_type": "code",
   "execution_count": null,
   "metadata": {
    "collapsed": false
   },
   "outputs": [],
   "source": [
    "X_newtrain, X_newtest, y_newtrain, y_newtest = train_test_split(X_new, y, test_size=0.3, random_state=0)"
   ]
  },
  {
   "cell_type": "code",
   "execution_count": null,
   "metadata": {
    "collapsed": false
   },
   "outputs": [],
   "source": [
    "# rf2 = RandomForestClassifier(n_jobs=-1,max_features= 'sqrt' ,n_estimators=100, oob_score = True) \n",
    "\n",
    "# rf2param_grid = { \n",
    "#                 'n_estimators': [50,75,100,125,150],\n",
    "#                 'criterion': [\"gini\", \"entropy\"],\n",
    "#                 'max_features': [None, 'sqrt', 'log2'],\n",
    "#                 'min_samples_split':[1,2,3,4,5,6]\n",
    "#                 }\n",
    "    \n",
    "# CV_rf2 = GridSearchCV(estimator=rf2, param_grid=rf2param_grid, cv=5)\n",
    "# CV_rf2.fit(X_newtrain, y_newtrain)\n",
    "# print CV_rf2.best_params_"
   ]
  },
  {
   "cell_type": "code",
   "execution_count": null,
   "metadata": {
    "collapsed": false
   },
   "outputs": [],
   "source": [
    "cv2 = KFold(len(y_newtrain), shuffle=False) \n",
    "print cv2\n",
    "rf2 = RandomForestClassifier(bootstrap=True, class_weight=None, criterion='entropy',\n",
    "            max_depth=None, max_features=\"sqrt\", max_leaf_nodes=None,\n",
    "            min_samples_leaf=1, min_samples_split=6,\n",
    "            min_weight_fraction_leaf=0.0, n_estimators=150, n_jobs=1,\n",
    "            oob_score=True, random_state=20, verbose=0, warm_start=False)\n",
    "rfScore = cross_val_score(rf, X_train, y_train, cv=cv, n_jobs=-1)\n",
    "print \"Regular Decision Tree scores are:\", rfScore\n",
    "print \"Regular Decision Tree average score is:\", rfScore.mean()"
   ]
  },
  {
   "cell_type": "code",
   "execution_count": null,
   "metadata": {
    "collapsed": true
   },
   "outputs": [],
   "source": [
    "rf2Model = rf2.fit(X_newtrain, y_newtrain)"
   ]
  },
  {
   "cell_type": "code",
   "execution_count": null,
   "metadata": {
    "collapsed": true
   },
   "outputs": [],
   "source": [
    "rf2Predicted = rf2Model.predict(X_newtest)\n",
    "rf2Probs = rf2Model.predict_proba(X_newtest)"
   ]
  },
  {
   "cell_type": "code",
   "execution_count": null,
   "metadata": {
    "collapsed": true
   },
   "outputs": [],
   "source": [
    "rf2Predictions = pd.DataFrame()\n",
    "rf2Predictions[\"Actual\"] = y_newtest\n",
    "rf2Predictions[\"Predicted\"] = rf2Predicted\n",
    "rf2Predictions[\"ProbsPos\"], rf2Predictions[\"ProbsNeg\"] = zip(*rf2Probs)"
   ]
  },
  {
   "cell_type": "code",
   "execution_count": null,
   "metadata": {
    "collapsed": false
   },
   "outputs": [],
   "source": [
    "newList5 = []\n",
    "newList6 = []\n",
    "for i in np.arange(0,1,0.01):\n",
    "    rf2Predictions[\"ThreshPred\"] = ([0 if x < i else 1 for x in rf2Predictions['ProbsNeg']])\n",
    "    newList5.append(roc_auc_score(rf2Predictions[\"Actual\"], rf2Predictions[\"ThreshPred\"]))\n",
    "    newList6.append(i)\n",
    "f = zip(newList5, newList6)\n",
    "max(f)"
   ]
  },
  {
   "cell_type": "code",
   "execution_count": null,
   "metadata": {
    "collapsed": true
   },
   "outputs": [],
   "source": [
    "rf2Threshold = max(f)[1]\n",
    "rf2Predictions[\"ThreshPred\"] = [0 if x < rf2Threshold else 1 for x in rf2Predictions['ProbsNeg']]"
   ]
  },
  {
   "cell_type": "code",
   "execution_count": null,
   "metadata": {
    "collapsed": false
   },
   "outputs": [],
   "source": [
    "print pd.crosstab(rf2Predictions[\"Actual\"], rf2Predictions[\"ThreshPred\"], rownames=[\"Actual\"])"
   ]
  },
  {
   "cell_type": "code",
   "execution_count": null,
   "metadata": {
    "collapsed": false
   },
   "outputs": [],
   "source": [
    "print accuracy_score(rf2Predictions[\"Actual\"], rf2Predictions[\"ThreshPred\"])\n",
    "print roc_auc_score(rf2Predictions[\"Actual\"], rf2Predictions[\"ThreshPred\"])"
   ]
  },
  {
   "cell_type": "code",
   "execution_count": null,
   "metadata": {
    "collapsed": false
   },
   "outputs": [],
   "source": [
    "print 'precision score:', precision_score(rf2Predictions['Actual'],rf2Predictions['ThreshPred'])\n",
    "print 'recall score:', recall_score(rf2Predictions['Actual'],rf2Predictions['ThreshPred'])\n",
    "print 'accuracy score:',accuracy_score(rf2Predictions['Actual'],rf2Predictions['ThreshPred'])"
   ]
  },
  {
   "cell_type": "code",
   "execution_count": null,
   "metadata": {
    "collapsed": false
   },
   "outputs": [],
   "source": [
    "# Compute ROC curve and ROC area for Random Forest (with feature selection)\n",
    "rffpr2 = dict()\n",
    "rftpr2 = dict()\n",
    "rfroc_auc2 = dict()\n",
    "rffpr2, rftpr2, _ = roc_curve(y_newtest, rf2Predictions.ProbsNeg)\n",
    "rfroc_auc2 = auc(rffpr2, rftpr2)\n",
    "\n",
    "# Plot of a ROC curve \n",
    "plt.figure(figsize=(15,15))\n",
    "plt.plot(rffpr2,rftpr2,label='Rf AUC = %0.2f' % rfroc_auc2)\n",
    "plt.plot([0, 1], [0, 1], 'k--')\n",
    "plt.xlim([0.0, 1.0])\n",
    "plt.ylim([0.0, 1.05])\n",
    "plt.xlabel('False Positive Rate',fontsize=20)\n",
    "plt.ylabel('True Positive Rate', fontsize=20)\n",
    "plt.title('Receiver Operating Characteristic\\n', fontsize=30)\n",
    "plt.legend(loc=\"lower right\", fontsize=20)\n",
    "plt.yticks(fontsize=20)\n",
    "plt.xticks(fontsize=20)\n",
    "\n",
    "plt.show()"
   ]
  },
  {
   "cell_type": "markdown",
   "metadata": {},
   "source": [
    "## Logistic Regression"
   ]
  },
  {
   "cell_type": "code",
   "execution_count": null,
   "metadata": {
    "collapsed": true
   },
   "outputs": [],
   "source": [
    "from sklearn.linear_model import LogisticRegression\n",
    "from patsy import dmatrices\n",
    "import statsmodels.api as sm\n",
    "from sklearn.feature_selection import SelectFromModel\n",
    "from sklearn.preprocessing import StandardScaler"
   ]
  },
  {
   "cell_type": "code",
   "execution_count": null,
   "metadata": {
    "collapsed": false
   },
   "outputs": [],
   "source": [
    "DF2.head()"
   ]
  },
  {
   "cell_type": "code",
   "execution_count": null,
   "metadata": {
    "collapsed": false,
    "scrolled": true
   },
   "outputs": [],
   "source": [
    "#DF.to_csv(\"../assets/csv/final.csv\")"
   ]
  },
  {
   "cell_type": "code",
   "execution_count": null,
   "metadata": {
    "collapsed": false
   },
   "outputs": [],
   "source": [
    "DF2.shape"
   ]
  },
  {
   "cell_type": "code",
   "execution_count": null,
   "metadata": {
    "collapsed": false
   },
   "outputs": [],
   "source": [
    "y1, X1 = dmatrices(\"coup ~ gdppercap + gdpgrowth + urbanpop + none + \\\n",
    "                    revmagfight + gendeathmag + ethmagfatal + revmagfatal + \\\n",
    "                    eth + ethmagfight + rev + gen + polity2 + durable + yip + \\\n",
    "                    ethnic + linguistic + religious + caribbean + centralAmerica + \\\n",
    "                    centralAsia + easternAfrica + easternAsia + easternEurope + \\\n",
    "                    middleAfrica + northernAfrica + northernEurope + oceania + southAmerica + \\\n",
    "                    southEasternAsia + southernAfrica + southernAsia + southernEurope + \\\n",
    "                    westernAfrica\", DF2, return_type=\"dataframe\")"
   ]
  },
  {
   "cell_type": "code",
   "execution_count": null,
   "metadata": {
    "collapsed": false
   },
   "outputs": [],
   "source": [
    "y1 = np.ravel(y1)"
   ]
  },
  {
   "cell_type": "code",
   "execution_count": null,
   "metadata": {
    "collapsed": false
   },
   "outputs": [],
   "source": [
    "lr = LogisticRegression()\n",
    "lrModel = lr.fit(X1,y1)"
   ]
  },
  {
   "cell_type": "code",
   "execution_count": null,
   "metadata": {
    "collapsed": false
   },
   "outputs": [],
   "source": [
    "coeffName =  X1.columns.tolist()\n",
    "coeff =  lrModel.coef_[0]\n",
    "coeffs = pd.DataFrame(zip(coeffName, coeff), columns=[\"CoeffName\", \"Coeff\"])\n",
    "coeffs.head()"
   ]
  },
  {
   "cell_type": "code",
   "execution_count": null,
   "metadata": {
    "collapsed": false
   },
   "outputs": [],
   "source": [
    "X_norm =  StandardScaler().fit_transform(X1)\n",
    "\n",
    "lrModel2 = lr.fit(X_norm, y1)\n",
    "coeff2 = lrModel2.coef_[0]\n",
    "coeffs2 = pd.DataFrame(zip(coeffName, coeff2), columns=[\"CoeffName\", \"Coeff\"])\n",
    "coeffs3 = coeffs2\n",
    "coeffs3[\"Coeff\"] = abs(coeffs3[\"Coeff\"])\n",
    "coeffs3.sort(\"Coeff\", ascending = False, inplace=True)"
   ]
  },
  {
   "cell_type": "code",
   "execution_count": null,
   "metadata": {
    "collapsed": false
   },
   "outputs": [],
   "source": [
    "coeffs3.head(14)"
   ]
  },
  {
   "cell_type": "code",
   "execution_count": null,
   "metadata": {
    "collapsed": true
   },
   "outputs": [],
   "source": [
    "y2, X2 = dmatrices(\"coup ~ gdpgrowth + urbanpop + none + \\\n",
    "                     durable + polity22 + gdppercap + ethnic + \\\n",
    "                     linguistic +  + caribbean + easternAfrica + \\\n",
    "                     easternAsia + easternEurope + southernAfrica + \\\n",
    "                     southernAsia\", DF2, return_type=\"dataframe\")"
   ]
  },
  {
   "cell_type": "code",
   "execution_count": null,
   "metadata": {
    "collapsed": false
   },
   "outputs": [],
   "source": [
    "y2 = np.ravel(y2)"
   ]
  },
  {
   "cell_type": "code",
   "execution_count": null,
   "metadata": {
    "collapsed": false
   },
   "outputs": [],
   "source": [
    "lrModel2 = lr.fit(X2, y2)\n",
    "# logit = sm.Logit(X2, y2)\n",
    "# result = logit.fit()\n",
    "# result.summary()\n",
    "lrModel2.coef_"
   ]
  },
  {
   "cell_type": "code",
   "execution_count": null,
   "metadata": {
    "collapsed": false
   },
   "outputs": [],
   "source": [
    "coeffName2 =  X2.columns.tolist()\n",
    "coeff2 =  np.exp(lrModel2.coef_[0])\n",
    "coeffs2 = pd.DataFrame(zip(coeffName2, coeff2), columns=[\"CoeffName\", \"Coeff\"])\n",
    "coeffs2"
   ]
  }
 ],
 "metadata": {
  "anaconda-cloud": {},
  "kernelspec": {
   "display_name": "Python [Root]",
   "language": "python",
   "name": "Python [Root]"
  },
  "language_info": {
   "codemirror_mode": {
    "name": "ipython",
    "version": 2
   },
   "file_extension": ".py",
   "mimetype": "text/x-python",
   "name": "python",
   "nbconvert_exporter": "python",
   "pygments_lexer": "ipython2",
   "version": "2.7.12"
  }
 },
 "nbformat": 4,
 "nbformat_minor": 0
}
