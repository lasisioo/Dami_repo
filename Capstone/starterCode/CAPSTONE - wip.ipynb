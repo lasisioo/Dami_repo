{
 "cells": [
  {
   "cell_type": "code",
   "execution_count": 117,
   "metadata": {
    "collapsed": true
   },
   "outputs": [],
   "source": [
    "import pandas as pd"
   ]
  },
  {
   "cell_type": "markdown",
   "metadata": {},
   "source": [
    "Problem Statement: Considerig the resent social and polical nstabilities that have occured in recent times, I want predict the likelihood of a coup d'etat within a country, given specific economic, political and social factors."
   ]
  },
  {
   "cell_type": "markdown",
   "metadata": {},
   "source": [
    "Currently, I'm working on these following characteristics as my features:\n",
    "\n",
    "Economic\n",
    "- Real GDP Per Capita\n",
    "- Inflation\n",
    "- Economic growth\n",
    "- Poverty Rate\n",
    "\n",
    "\n",
    "Social\n",
    "- Account of ethinic violence\n",
    "- Number of ethnic groups in each country\n",
    "- Number of religious groups in each country\n",
    "- Number or borgering countries in each country\n",
    "- Fatalities that occured from ethnic or revolutionary violence\n",
    "- urbanization\n",
    "\n",
    "Politcal\n",
    "- Polity score \n",
    "- Length of term of head of state (or equivalent) for each country\n",
    "- Political party fractionalization\n",
    "\n",
    "\n",
    "*I'm still in the process of collecting all the necessary features"
   ]
  },
  {
   "cell_type": "code",
   "execution_count": 118,
   "metadata": {
    "collapsed": false
   },
   "outputs": [],
   "source": [
    "coup = pd.read_csv(\"../assets/csv/Coups.csv\")"
   ]
  },
  {
   "cell_type": "code",
   "execution_count": 119,
   "metadata": {
    "collapsed": false
   },
   "outputs": [
    {
     "data": {
      "text/html": [
       "<div>\n",
       "<table border=\"1\" class=\"dataframe\">\n",
       "  <thead>\n",
       "    <tr style=\"text-align: right;\">\n",
       "      <th></th>\n",
       "      <th>country</th>\n",
       "      <th>year</th>\n",
       "      <th>scoup1</th>\n",
       "      <th>atcoup2</th>\n",
       "    </tr>\n",
       "  </thead>\n",
       "  <tbody>\n",
       "    <tr>\n",
       "      <th>0</th>\n",
       "      <td>Afghanistan</td>\n",
       "      <td>1946</td>\n",
       "      <td>0</td>\n",
       "      <td>0</td>\n",
       "    </tr>\n",
       "    <tr>\n",
       "      <th>1</th>\n",
       "      <td>Afghanistan</td>\n",
       "      <td>1947</td>\n",
       "      <td>0</td>\n",
       "      <td>0</td>\n",
       "    </tr>\n",
       "    <tr>\n",
       "      <th>2</th>\n",
       "      <td>Afghanistan</td>\n",
       "      <td>1948</td>\n",
       "      <td>0</td>\n",
       "      <td>0</td>\n",
       "    </tr>\n",
       "    <tr>\n",
       "      <th>3</th>\n",
       "      <td>Afghanistan</td>\n",
       "      <td>1949</td>\n",
       "      <td>0</td>\n",
       "      <td>0</td>\n",
       "    </tr>\n",
       "    <tr>\n",
       "      <th>4</th>\n",
       "      <td>Afghanistan</td>\n",
       "      <td>1950</td>\n",
       "      <td>0</td>\n",
       "      <td>0</td>\n",
       "    </tr>\n",
       "  </tbody>\n",
       "</table>\n",
       "</div>"
      ],
      "text/plain": [
       "       country  year  scoup1  atcoup2\n",
       "0  Afghanistan  1946       0        0\n",
       "1  Afghanistan  1947       0        0\n",
       "2  Afghanistan  1948       0        0\n",
       "3  Afghanistan  1949       0        0\n",
       "4  Afghanistan  1950       0        0"
      ]
     },
     "execution_count": 119,
     "metadata": {},
     "output_type": "execute_result"
    }
   ],
   "source": [
    "coup.head()"
   ]
  },
  {
   "cell_type": "code",
   "execution_count": 120,
   "metadata": {
    "collapsed": false
   },
   "outputs": [
    {
     "data": {
      "text/plain": [
       "(9463, 4)"
      ]
     },
     "execution_count": 120,
     "metadata": {},
     "output_type": "execute_result"
    }
   ],
   "source": [
    "coup.shape"
   ]
  },
  {
   "cell_type": "markdown",
   "metadata": {},
   "source": [
    "Variable | Description\n",
    "--|--\n",
    "country | Country name\n",
    "year | Year of annual record\n",
    "scoup1 | Successful Coups: Number of successful coups d’état that occurred in the\t\n",
    "atcoup2 | Attempted Coups: Number of attempted (but ultimately unsuccessful) coups d’état that occurred in the year of record"
   ]
  },
  {
   "cell_type": "code",
   "execution_count": 121,
   "metadata": {
    "collapsed": true
   },
   "outputs": [],
   "source": [
    "stab = pd.read_csv(\"../assets/csv/Politicalinstability.csv\")"
   ]
  },
  {
   "cell_type": "code",
   "execution_count": 122,
   "metadata": {
    "collapsed": false
   },
   "outputs": [
    {
     "data": {
      "text/html": [
       "<div>\n",
       "<table border=\"1\" class=\"dataframe\">\n",
       "  <thead>\n",
       "    <tr style=\"text-align: right;\">\n",
       "      <th></th>\n",
       "      <th>COUNTRY</th>\n",
       "      <th>YEAR</th>\n",
       "      <th>PTYPE</th>\n",
       "      <th>GENDEATHMAG</th>\n",
       "      <th>ETHMAGFATAL</th>\n",
       "      <th>ETHMAGFIGHT</th>\n",
       "      <th>REVMAGFATAL</th>\n",
       "      <th>REVMAGFIGHT</th>\n",
       "    </tr>\n",
       "  </thead>\n",
       "  <tbody>\n",
       "    <tr>\n",
       "      <th>0</th>\n",
       "      <td>Afghanistan</td>\n",
       "      <td>1978</td>\n",
       "      <td>4</td>\n",
       "      <td>3.0</td>\n",
       "      <td>0</td>\n",
       "      <td>0</td>\n",
       "      <td>0</td>\n",
       "      <td>0</td>\n",
       "    </tr>\n",
       "    <tr>\n",
       "      <th>1</th>\n",
       "      <td>Afghanistan</td>\n",
       "      <td>1978</td>\n",
       "      <td>2</td>\n",
       "      <td>0.0</td>\n",
       "      <td>0</td>\n",
       "      <td>0</td>\n",
       "      <td>2</td>\n",
       "      <td>2</td>\n",
       "    </tr>\n",
       "    <tr>\n",
       "      <th>2</th>\n",
       "      <td>Afghanistan</td>\n",
       "      <td>1979</td>\n",
       "      <td>4</td>\n",
       "      <td>3.5</td>\n",
       "      <td>0</td>\n",
       "      <td>0</td>\n",
       "      <td>0</td>\n",
       "      <td>0</td>\n",
       "    </tr>\n",
       "    <tr>\n",
       "      <th>3</th>\n",
       "      <td>Afghanistan</td>\n",
       "      <td>1979</td>\n",
       "      <td>2</td>\n",
       "      <td>0.0</td>\n",
       "      <td>0</td>\n",
       "      <td>0</td>\n",
       "      <td>3</td>\n",
       "      <td>4</td>\n",
       "    </tr>\n",
       "    <tr>\n",
       "      <th>4</th>\n",
       "      <td>Afghanistan</td>\n",
       "      <td>1980</td>\n",
       "      <td>4</td>\n",
       "      <td>3.5</td>\n",
       "      <td>0</td>\n",
       "      <td>0</td>\n",
       "      <td>0</td>\n",
       "      <td>0</td>\n",
       "    </tr>\n",
       "  </tbody>\n",
       "</table>\n",
       "</div>"
      ],
      "text/plain": [
       "       COUNTRY  YEAR  PTYPE  GENDEATHMAG  ETHMAGFATAL  ETHMAGFIGHT  \\\n",
       "0  Afghanistan  1978      4          3.0            0            0   \n",
       "1  Afghanistan  1978      2          0.0            0            0   \n",
       "2  Afghanistan  1979      4          3.5            0            0   \n",
       "3  Afghanistan  1979      2          0.0            0            0   \n",
       "4  Afghanistan  1980      4          3.5            0            0   \n",
       "\n",
       "   REVMAGFATAL  REVMAGFIGHT  \n",
       "0            0            0  \n",
       "1            2            2  \n",
       "2            0            0  \n",
       "3            3            4  \n",
       "4            0            0  "
      ]
     },
     "execution_count": 122,
     "metadata": {},
     "output_type": "execute_result"
    }
   ],
   "source": [
    "stab.head()"
   ]
  },
  {
   "cell_type": "markdown",
   "metadata": {},
   "source": [
    "Variable | Description\n",
    "--|--\n",
    "COUNTRY | Country name\n",
    "YEAR | Year of record\n",
    "PTYPE | Event type (1=ETH; 2=REV; 3=REG; 4=GEN)\n",
    "GENDEATHMAG | Scaled annual number of deaths (range 0-5.0)\n",
    "ETHMAGFIGHT | Scaled number of rebel combatants or activists in ethnic war (range 0-4; 9=missing)\n",
    "ETHMAGFATAL | Scaled annual number of fatalities related to ethnic fighting (range 0-4; 9=missing)\n",
    "REVMAGFATAL | Scaled number of rebel combatants or activists in revolutionary war (range 0-4; 9=missing)\n",
    "REVMAGFIGHT | Scaled annual number of fatalities related to revolutionary fighting (range 0-4; 9=missing)\n"
   ]
  },
  {
   "cell_type": "code",
   "execution_count": 123,
   "metadata": {
    "collapsed": true
   },
   "outputs": [],
   "source": [
    "polity = pd.read_csv(\"../assets/csv/polity.csv\")"
   ]
  },
  {
   "cell_type": "code",
   "execution_count": 124,
   "metadata": {
    "collapsed": false
   },
   "outputs": [
    {
     "data": {
      "text/html": [
       "<div>\n",
       "<table border=\"1\" class=\"dataframe\">\n",
       "  <thead>\n",
       "    <tr style=\"text-align: right;\">\n",
       "      <th></th>\n",
       "      <th>country</th>\n",
       "      <th>year</th>\n",
       "      <th>flag</th>\n",
       "      <th>fragment</th>\n",
       "      <th>democ</th>\n",
       "      <th>autoc</th>\n",
       "      <th>polity</th>\n",
       "      <th>polity2</th>\n",
       "      <th>durable</th>\n",
       "    </tr>\n",
       "  </thead>\n",
       "  <tbody>\n",
       "    <tr>\n",
       "      <th>0</th>\n",
       "      <td>Afghanistan</td>\n",
       "      <td>1940</td>\n",
       "      <td>0</td>\n",
       "      <td>NaN</td>\n",
       "      <td>0</td>\n",
       "      <td>8</td>\n",
       "      <td>-8</td>\n",
       "      <td>-8.0</td>\n",
       "      <td>NaN</td>\n",
       "    </tr>\n",
       "    <tr>\n",
       "      <th>1</th>\n",
       "      <td>Afghanistan</td>\n",
       "      <td>1941</td>\n",
       "      <td>0</td>\n",
       "      <td>NaN</td>\n",
       "      <td>0</td>\n",
       "      <td>8</td>\n",
       "      <td>-8</td>\n",
       "      <td>-8.0</td>\n",
       "      <td>NaN</td>\n",
       "    </tr>\n",
       "    <tr>\n",
       "      <th>2</th>\n",
       "      <td>Afghanistan</td>\n",
       "      <td>1942</td>\n",
       "      <td>0</td>\n",
       "      <td>NaN</td>\n",
       "      <td>0</td>\n",
       "      <td>8</td>\n",
       "      <td>-8</td>\n",
       "      <td>-8.0</td>\n",
       "      <td>NaN</td>\n",
       "    </tr>\n",
       "    <tr>\n",
       "      <th>3</th>\n",
       "      <td>Afghanistan</td>\n",
       "      <td>1943</td>\n",
       "      <td>0</td>\n",
       "      <td>NaN</td>\n",
       "      <td>0</td>\n",
       "      <td>8</td>\n",
       "      <td>-8</td>\n",
       "      <td>-8.0</td>\n",
       "      <td>NaN</td>\n",
       "    </tr>\n",
       "    <tr>\n",
       "      <th>4</th>\n",
       "      <td>Afghanistan</td>\n",
       "      <td>1944</td>\n",
       "      <td>0</td>\n",
       "      <td>NaN</td>\n",
       "      <td>0</td>\n",
       "      <td>8</td>\n",
       "      <td>-8</td>\n",
       "      <td>-8.0</td>\n",
       "      <td>NaN</td>\n",
       "    </tr>\n",
       "  </tbody>\n",
       "</table>\n",
       "</div>"
      ],
      "text/plain": [
       "       country  year  flag  fragment  democ  autoc  polity  polity2  durable\n",
       "0  Afghanistan  1940     0       NaN      0      8      -8     -8.0      NaN\n",
       "1  Afghanistan  1941     0       NaN      0      8      -8     -8.0      NaN\n",
       "2  Afghanistan  1942     0       NaN      0      8      -8     -8.0      NaN\n",
       "3  Afghanistan  1943     0       NaN      0      8      -8     -8.0      NaN\n",
       "4  Afghanistan  1944     0       NaN      0      8      -8     -8.0      NaN"
      ]
     },
     "execution_count": 124,
     "metadata": {},
     "output_type": "execute_result"
    }
   ],
   "source": [
    "polity.head()"
   ]
  },
  {
   "cell_type": "markdown",
   "metadata": {},
   "source": [
    "Variable | Description\n",
    "--|--\n",
    "country | Country name\n",
    "year | Year of record\n",
    "flag | Event type (1=ETH; 2=REV; 3=REG; 4=GEN)\n",
    "fragment | Political Fragmentation\n",
    "democ | Democracy indicator (range 0-10;)\n",
    "autoc | Autocracy scale (range 0-10; 9=missing)\n",
    "polity | Scaled annual number of fatalities related to revolutionary fighting (range 0-4; 9=missing)\n",
    "polity2 | Combined Polity Score: The POLITY score is computed by subtracting the AUTOC score from the DEMOC score; the resulting unified polity scale ranges from +10 (strongly democratic) to -10 (strongly autocratic).\n",
    "durable | Revised Combined Polity Score: This variable is a modified version of the POLITY variable added in order to facilitate the use of the POLITY regime measure in time-series analyses. It modifies the combined annual POLITY score by applying a simple treatment, or ““fix,” to convert instances of “standardized authority scores” (i.e., -66, -77, and -88) to conventional polity scores (i.e., within the range, -10 to +10)\n",
    "\n",
    "\n",
    "\n",
    "NOTE:\n",
    "- -66 Cases of foreign “interruption” are treated as “system missing.”\n",
    "- -77 Cases of “interregnum,” or anarchy, are converted to a “neutral”\n",
    "Polity score of “0.”\n",
    "- -88 Cases of “transition” are prorated across the span of the transition.\n",
    "For example, country X has a POLITY score of -7 in 1957, followed\n",
    "by three years of -88 and, finally, a score of +5 in 1961. The change\n",
    "(+12) would be prorated over the intervening three years at a rate of\n",
    "per year, so that the converted scores would be as follows: 1957 -7;\n",
    "1958 -4; 1959 -1; 1960 +2; and 1961 +5"
   ]
  },
  {
   "cell_type": "code",
   "execution_count": 125,
   "metadata": {
    "collapsed": true
   },
   "outputs": [],
   "source": [
    "urban = pd.read_csv(\"../assets/csv/urbanpop.csv\")"
   ]
  },
  {
   "cell_type": "code",
   "execution_count": 126,
   "metadata": {
    "collapsed": false
   },
   "outputs": [
    {
     "data": {
      "text/html": [
       "<div>\n",
       "<table border=\"1\" class=\"dataframe\">\n",
       "  <thead>\n",
       "    <tr style=\"text-align: right;\">\n",
       "      <th></th>\n",
       "      <th>Country Name</th>\n",
       "      <th>1960</th>\n",
       "      <th>1961</th>\n",
       "      <th>1962</th>\n",
       "      <th>1963</th>\n",
       "      <th>1964</th>\n",
       "      <th>1965</th>\n",
       "      <th>1966</th>\n",
       "      <th>1967</th>\n",
       "      <th>1968</th>\n",
       "      <th>...</th>\n",
       "      <th>2006</th>\n",
       "      <th>2007</th>\n",
       "      <th>2008</th>\n",
       "      <th>2009</th>\n",
       "      <th>2010</th>\n",
       "      <th>2011</th>\n",
       "      <th>2012</th>\n",
       "      <th>2013</th>\n",
       "      <th>2014</th>\n",
       "      <th>2015</th>\n",
       "    </tr>\n",
       "  </thead>\n",
       "  <tbody>\n",
       "    <tr>\n",
       "      <th>0</th>\n",
       "      <td>Aruba</td>\n",
       "      <td>50.78</td>\n",
       "      <td>50.76</td>\n",
       "      <td>50.75</td>\n",
       "      <td>50.73</td>\n",
       "      <td>50.72</td>\n",
       "      <td>50.70</td>\n",
       "      <td>50.69</td>\n",
       "      <td>50.67</td>\n",
       "      <td>50.65</td>\n",
       "      <td>...</td>\n",
       "      <td>44.51</td>\n",
       "      <td>44.15</td>\n",
       "      <td>43.78</td>\n",
       "      <td>43.42</td>\n",
       "      <td>43.06</td>\n",
       "      <td>42.70</td>\n",
       "      <td>42.36</td>\n",
       "      <td>42.06</td>\n",
       "      <td>41.78</td>\n",
       "      <td>41.53</td>\n",
       "    </tr>\n",
       "    <tr>\n",
       "      <th>1</th>\n",
       "      <td>Andorra</td>\n",
       "      <td>58.45</td>\n",
       "      <td>60.98</td>\n",
       "      <td>63.46</td>\n",
       "      <td>65.87</td>\n",
       "      <td>68.21</td>\n",
       "      <td>70.45</td>\n",
       "      <td>72.59</td>\n",
       "      <td>74.64</td>\n",
       "      <td>76.59</td>\n",
       "      <td>...</td>\n",
       "      <td>89.84</td>\n",
       "      <td>89.36</td>\n",
       "      <td>88.87</td>\n",
       "      <td>88.35</td>\n",
       "      <td>87.82</td>\n",
       "      <td>87.26</td>\n",
       "      <td>86.71</td>\n",
       "      <td>86.17</td>\n",
       "      <td>85.63</td>\n",
       "      <td>85.12</td>\n",
       "    </tr>\n",
       "    <tr>\n",
       "      <th>2</th>\n",
       "      <td>Afghanistan</td>\n",
       "      <td>8.22</td>\n",
       "      <td>8.51</td>\n",
       "      <td>8.81</td>\n",
       "      <td>9.11</td>\n",
       "      <td>9.43</td>\n",
       "      <td>9.75</td>\n",
       "      <td>10.09</td>\n",
       "      <td>10.43</td>\n",
       "      <td>10.79</td>\n",
       "      <td>...</td>\n",
       "      <td>23.24</td>\n",
       "      <td>23.59</td>\n",
       "      <td>23.95</td>\n",
       "      <td>24.31</td>\n",
       "      <td>24.69</td>\n",
       "      <td>25.07</td>\n",
       "      <td>25.47</td>\n",
       "      <td>25.87</td>\n",
       "      <td>26.28</td>\n",
       "      <td>26.70</td>\n",
       "    </tr>\n",
       "    <tr>\n",
       "      <th>3</th>\n",
       "      <td>Angola</td>\n",
       "      <td>10.44</td>\n",
       "      <td>10.80</td>\n",
       "      <td>11.20</td>\n",
       "      <td>11.62</td>\n",
       "      <td>12.06</td>\n",
       "      <td>12.50</td>\n",
       "      <td>12.97</td>\n",
       "      <td>13.44</td>\n",
       "      <td>13.93</td>\n",
       "      <td>...</td>\n",
       "      <td>36.94</td>\n",
       "      <td>37.72</td>\n",
       "      <td>38.51</td>\n",
       "      <td>39.30</td>\n",
       "      <td>40.10</td>\n",
       "      <td>40.90</td>\n",
       "      <td>41.70</td>\n",
       "      <td>42.49</td>\n",
       "      <td>43.27</td>\n",
       "      <td>44.05</td>\n",
       "    </tr>\n",
       "    <tr>\n",
       "      <th>4</th>\n",
       "      <td>Albania</td>\n",
       "      <td>30.71</td>\n",
       "      <td>30.94</td>\n",
       "      <td>31.02</td>\n",
       "      <td>31.09</td>\n",
       "      <td>31.16</td>\n",
       "      <td>31.23</td>\n",
       "      <td>31.30</td>\n",
       "      <td>31.37</td>\n",
       "      <td>31.45</td>\n",
       "      <td>...</td>\n",
       "      <td>47.82</td>\n",
       "      <td>48.90</td>\n",
       "      <td>49.99</td>\n",
       "      <td>51.08</td>\n",
       "      <td>52.16</td>\n",
       "      <td>53.25</td>\n",
       "      <td>54.33</td>\n",
       "      <td>55.38</td>\n",
       "      <td>56.41</td>\n",
       "      <td>57.41</td>\n",
       "    </tr>\n",
       "  </tbody>\n",
       "</table>\n",
       "<p>5 rows × 57 columns</p>\n",
       "</div>"
      ],
      "text/plain": [
       "  Country Name   1960   1961   1962   1963   1964   1965   1966   1967   1968  \\\n",
       "0        Aruba  50.78  50.76  50.75  50.73  50.72  50.70  50.69  50.67  50.65   \n",
       "1      Andorra  58.45  60.98  63.46  65.87  68.21  70.45  72.59  74.64  76.59   \n",
       "2  Afghanistan   8.22   8.51   8.81   9.11   9.43   9.75  10.09  10.43  10.79   \n",
       "3       Angola  10.44  10.80  11.20  11.62  12.06  12.50  12.97  13.44  13.93   \n",
       "4      Albania  30.71  30.94  31.02  31.09  31.16  31.23  31.30  31.37  31.45   \n",
       "\n",
       "   ...     2006   2007   2008   2009   2010   2011   2012   2013   2014   2015  \n",
       "0  ...    44.51  44.15  43.78  43.42  43.06  42.70  42.36  42.06  41.78  41.53  \n",
       "1  ...    89.84  89.36  88.87  88.35  87.82  87.26  86.71  86.17  85.63  85.12  \n",
       "2  ...    23.24  23.59  23.95  24.31  24.69  25.07  25.47  25.87  26.28  26.70  \n",
       "3  ...    36.94  37.72  38.51  39.30  40.10  40.90  41.70  42.49  43.27  44.05  \n",
       "4  ...    47.82  48.90  49.99  51.08  52.16  53.25  54.33  55.38  56.41  57.41  \n",
       "\n",
       "[5 rows x 57 columns]"
      ]
     },
     "execution_count": 126,
     "metadata": {},
     "output_type": "execute_result"
    }
   ],
   "source": [
    "urban.head()"
   ]
  },
  {
   "cell_type": "markdown",
   "metadata": {},
   "source": [
    "The table above shows the percentage of the total population living in urban areas, for each country from 1960 to 2015."
   ]
  },
  {
   "cell_type": "code",
   "execution_count": 127,
   "metadata": {
    "collapsed": false
   },
   "outputs": [],
   "source": [
    "Col1 = urban.columns[0]\n",
    "Col2 = urban.columns[1:].tolist()\n",
    "urban1 = pd.melt(urban, id_vars=(Col1), var_name=\"Year\", value_vars=(Col2), value_name=\"UrbanPop\")\n",
    "urban1.sort_values([\"Country Name\", \"Year\"], inplace=True)"
   ]
  },
  {
   "cell_type": "code",
   "execution_count": 128,
   "metadata": {
    "collapsed": false
   },
   "outputs": [
    {
     "data": {
      "text/html": [
       "<div>\n",
       "<table border=\"1\" class=\"dataframe\">\n",
       "  <thead>\n",
       "    <tr style=\"text-align: right;\">\n",
       "      <th></th>\n",
       "      <th>Country Name</th>\n",
       "      <th>Year</th>\n",
       "      <th>UrbanPop</th>\n",
       "    </tr>\n",
       "  </thead>\n",
       "  <tbody>\n",
       "    <tr>\n",
       "      <th>2</th>\n",
       "      <td>Afghanistan</td>\n",
       "      <td>1960</td>\n",
       "      <td>8.22</td>\n",
       "    </tr>\n",
       "    <tr>\n",
       "      <th>264</th>\n",
       "      <td>Afghanistan</td>\n",
       "      <td>1961</td>\n",
       "      <td>8.51</td>\n",
       "    </tr>\n",
       "    <tr>\n",
       "      <th>526</th>\n",
       "      <td>Afghanistan</td>\n",
       "      <td>1962</td>\n",
       "      <td>8.81</td>\n",
       "    </tr>\n",
       "    <tr>\n",
       "      <th>788</th>\n",
       "      <td>Afghanistan</td>\n",
       "      <td>1963</td>\n",
       "      <td>9.11</td>\n",
       "    </tr>\n",
       "    <tr>\n",
       "      <th>1050</th>\n",
       "      <td>Afghanistan</td>\n",
       "      <td>1964</td>\n",
       "      <td>9.43</td>\n",
       "    </tr>\n",
       "  </tbody>\n",
       "</table>\n",
       "</div>"
      ],
      "text/plain": [
       "     Country Name  Year  UrbanPop\n",
       "2     Afghanistan  1960      8.22\n",
       "264   Afghanistan  1961      8.51\n",
       "526   Afghanistan  1962      8.81\n",
       "788   Afghanistan  1963      9.11\n",
       "1050  Afghanistan  1964      9.43"
      ]
     },
     "execution_count": 128,
     "metadata": {},
     "output_type": "execute_result"
    }
   ],
   "source": [
    "urban1.head()"
   ]
  },
  {
   "cell_type": "code",
   "execution_count": 129,
   "metadata": {
    "collapsed": true
   },
   "outputs": [],
   "source": [
    "gdp = pd.read_csv(\"../assets/csv/Realpercapitagdp.csv\")"
   ]
  },
  {
   "cell_type": "code",
   "execution_count": 130,
   "metadata": {
    "collapsed": false
   },
   "outputs": [
    {
     "data": {
      "text/html": [
       "<div>\n",
       "<table border=\"1\" class=\"dataframe\">\n",
       "  <thead>\n",
       "    <tr style=\"text-align: right;\">\n",
       "      <th></th>\n",
       "      <th>Country Name</th>\n",
       "      <th>1969</th>\n",
       "      <th>1970</th>\n",
       "      <th>1971</th>\n",
       "      <th>1972</th>\n",
       "      <th>1973</th>\n",
       "      <th>1974</th>\n",
       "      <th>1975</th>\n",
       "      <th>1976</th>\n",
       "      <th>1977</th>\n",
       "      <th>...</th>\n",
       "      <th>2006</th>\n",
       "      <th>2007</th>\n",
       "      <th>2008</th>\n",
       "      <th>2009</th>\n",
       "      <th>2010</th>\n",
       "      <th>2011</th>\n",
       "      <th>2012</th>\n",
       "      <th>2013</th>\n",
       "      <th>2014</th>\n",
       "      <th>2015</th>\n",
       "    </tr>\n",
       "  </thead>\n",
       "  <tbody>\n",
       "    <tr>\n",
       "      <th>0</th>\n",
       "      <td>Afghanistan</td>\n",
       "      <td>$283</td>\n",
       "      <td>$287</td>\n",
       "      <td>$291</td>\n",
       "      <td>$294</td>\n",
       "      <td>$297</td>\n",
       "      <td>$300</td>\n",
       "      <td>$302</td>\n",
       "      <td>$304</td>\n",
       "      <td>$305</td>\n",
       "      <td>...</td>\n",
       "      <td>$380</td>\n",
       "      <td>$428</td>\n",
       "      <td>$438</td>\n",
       "      <td>$516</td>\n",
       "      <td>$547</td>\n",
       "      <td>$568</td>\n",
       "      <td>$636</td>\n",
       "      <td>$634</td>\n",
       "      <td>$632</td>\n",
       "      <td>$624</td>\n",
       "    </tr>\n",
       "    <tr>\n",
       "      <th>1</th>\n",
       "      <td>Albania</td>\n",
       "      <td>$1,873</td>\n",
       "      <td>$1,881</td>\n",
       "      <td>$1,893</td>\n",
       "      <td>$1,905</td>\n",
       "      <td>$1,936</td>\n",
       "      <td>$1,951</td>\n",
       "      <td>$1,967</td>\n",
       "      <td>$1,984</td>\n",
       "      <td>$2,001</td>\n",
       "      <td>...</td>\n",
       "      <td>$3,251</td>\n",
       "      <td>$3,459</td>\n",
       "      <td>$3,729</td>\n",
       "      <td>$3,856</td>\n",
       "      <td>$3,993</td>\n",
       "      <td>$4,084</td>\n",
       "      <td>$4,139</td>\n",
       "      <td>$4,186</td>\n",
       "      <td>$4,253</td>\n",
       "      <td>$4,541</td>\n",
       "    </tr>\n",
       "    <tr>\n",
       "      <th>2</th>\n",
       "      <td>Algeria</td>\n",
       "      <td>$2,671</td>\n",
       "      <td>$2,823</td>\n",
       "      <td>$2,433</td>\n",
       "      <td>$3,011</td>\n",
       "      <td>$3,036</td>\n",
       "      <td>$3,168</td>\n",
       "      <td>$3,228</td>\n",
       "      <td>$3,394</td>\n",
       "      <td>$3,465</td>\n",
       "      <td>...</td>\n",
       "      <td>$4,345</td>\n",
       "      <td>$4,416</td>\n",
       "      <td>$4,424</td>\n",
       "      <td>$4,412</td>\n",
       "      <td>$4,484</td>\n",
       "      <td>$4,521</td>\n",
       "      <td>$4,581</td>\n",
       "      <td>$4,620</td>\n",
       "      <td>$4,720</td>\n",
       "      <td>$4,794</td>\n",
       "    </tr>\n",
       "    <tr>\n",
       "      <th>3</th>\n",
       "      <td>Angola</td>\n",
       "      <td>$3,185</td>\n",
       "      <td>$3,172</td>\n",
       "      <td>$3,141</td>\n",
       "      <td>$3,112</td>\n",
       "      <td>$3,089</td>\n",
       "      <td>$3,154</td>\n",
       "      <td>$3,251</td>\n",
       "      <td>$3,260</td>\n",
       "      <td>$3,182</td>\n",
       "      <td>...</td>\n",
       "      <td>$3,671</td>\n",
       "      <td>$4,371</td>\n",
       "      <td>$4,836</td>\n",
       "      <td>$4,814</td>\n",
       "      <td>$4,839</td>\n",
       "      <td>$4,885</td>\n",
       "      <td>$4,991</td>\n",
       "      <td>$5,184</td>\n",
       "      <td>$5,239</td>\n",
       "      <td>$4,153</td>\n",
       "    </tr>\n",
       "    <tr>\n",
       "      <th>4</th>\n",
       "      <td>Antigua and Barbuda</td>\n",
       "      <td>$3,321</td>\n",
       "      <td>$3,413</td>\n",
       "      <td>$3,530</td>\n",
       "      <td>$3,656</td>\n",
       "      <td>$3,794</td>\n",
       "      <td>$3,950</td>\n",
       "      <td>$4,119</td>\n",
       "      <td>$4,288</td>\n",
       "      <td>$4,467</td>\n",
       "      <td>...</td>\n",
       "      <td>$15,408</td>\n",
       "      <td>$16,652</td>\n",
       "      <td>$16,448</td>\n",
       "      <td>$14,281</td>\n",
       "      <td>$13,089</td>\n",
       "      <td>$12,689</td>\n",
       "      <td>$13,031</td>\n",
       "      <td>$12,857</td>\n",
       "      <td>$13,106</td>\n",
       "      <td>$13,681</td>\n",
       "    </tr>\n",
       "  </tbody>\n",
       "</table>\n",
       "<p>5 rows × 48 columns</p>\n",
       "</div>"
      ],
      "text/plain": [
       "          Country Name    1969    1970    1971    1972    1973    1974  \\\n",
       "0          Afghanistan    $283    $287    $291    $294    $297    $300   \n",
       "1              Albania  $1,873  $1,881  $1,893  $1,905  $1,936  $1,951   \n",
       "2              Algeria  $2,671  $2,823  $2,433  $3,011  $3,036  $3,168   \n",
       "3               Angola  $3,185  $3,172  $3,141  $3,112  $3,089  $3,154   \n",
       "4  Antigua and Barbuda  $3,321  $3,413  $3,530  $3,656  $3,794  $3,950   \n",
       "\n",
       "     1975    1976    1977   ...        2006     2007     2008     2009  \\\n",
       "0    $302    $304    $305   ...        $380     $428     $438     $516   \n",
       "1  $1,967  $1,984  $2,001   ...      $3,251   $3,459   $3,729   $3,856   \n",
       "2  $3,228  $3,394  $3,465   ...      $4,345   $4,416   $4,424   $4,412   \n",
       "3  $3,251  $3,260  $3,182   ...      $3,671   $4,371   $4,836   $4,814   \n",
       "4  $4,119  $4,288  $4,467   ...     $15,408  $16,652  $16,448  $14,281   \n",
       "\n",
       "      2010     2011     2012     2013     2014     2015  \n",
       "0     $547     $568     $636     $634     $632     $624  \n",
       "1   $3,993   $4,084   $4,139   $4,186   $4,253   $4,541  \n",
       "2   $4,484   $4,521   $4,581   $4,620   $4,720   $4,794  \n",
       "3   $4,839   $4,885   $4,991   $5,184   $5,239   $4,153  \n",
       "4  $13,089  $12,689  $13,031  $12,857  $13,106  $13,681  \n",
       "\n",
       "[5 rows x 48 columns]"
      ]
     },
     "execution_count": 130,
     "metadata": {},
     "output_type": "execute_result"
    }
   ],
   "source": [
    "gdp.head()"
   ]
  },
  {
   "cell_type": "markdown",
   "metadata": {},
   "source": [
    "The gdp table shows the real per capita GDP of each country from 1969 to 2015."
   ]
  },
  {
   "cell_type": "code",
   "execution_count": 131,
   "metadata": {
    "collapsed": true
   },
   "outputs": [],
   "source": [
    "Col3 = gdp.columns[0]\n",
    "Col4 = gdp.columns[1:].tolist()\n",
    "gdp1 = pd.melt(gdp, id_vars=(Col3), var_name=\"Year\", value_vars=(Col4), value_name=\"GDPpercap\")\n",
    "gdp1.sort_values([\"Country Name\", \"Year\"], inplace=True)"
   ]
  },
  {
   "cell_type": "code",
   "execution_count": 132,
   "metadata": {
    "collapsed": false
   },
   "outputs": [
    {
     "data": {
      "text/html": [
       "<div>\n",
       "<table border=\"1\" class=\"dataframe\">\n",
       "  <thead>\n",
       "    <tr style=\"text-align: right;\">\n",
       "      <th></th>\n",
       "      <th>Country Name</th>\n",
       "      <th>Year</th>\n",
       "      <th>GDPpercap</th>\n",
       "    </tr>\n",
       "  </thead>\n",
       "  <tbody>\n",
       "    <tr>\n",
       "      <th>0</th>\n",
       "      <td>Afghanistan</td>\n",
       "      <td>1969</td>\n",
       "      <td>$283</td>\n",
       "    </tr>\n",
       "    <tr>\n",
       "      <th>190</th>\n",
       "      <td>Afghanistan</td>\n",
       "      <td>1970</td>\n",
       "      <td>$287</td>\n",
       "    </tr>\n",
       "    <tr>\n",
       "      <th>380</th>\n",
       "      <td>Afghanistan</td>\n",
       "      <td>1971</td>\n",
       "      <td>$291</td>\n",
       "    </tr>\n",
       "    <tr>\n",
       "      <th>570</th>\n",
       "      <td>Afghanistan</td>\n",
       "      <td>1972</td>\n",
       "      <td>$294</td>\n",
       "    </tr>\n",
       "    <tr>\n",
       "      <th>760</th>\n",
       "      <td>Afghanistan</td>\n",
       "      <td>1973</td>\n",
       "      <td>$297</td>\n",
       "    </tr>\n",
       "  </tbody>\n",
       "</table>\n",
       "</div>"
      ],
      "text/plain": [
       "    Country Name  Year GDPpercap\n",
       "0    Afghanistan  1969      $283\n",
       "190  Afghanistan  1970      $287\n",
       "380  Afghanistan  1971      $291\n",
       "570  Afghanistan  1972      $294\n",
       "760  Afghanistan  1973      $297"
      ]
     },
     "execution_count": 132,
     "metadata": {},
     "output_type": "execute_result"
    }
   ],
   "source": [
    "gdp1.head()"
   ]
  },
  {
   "cell_type": "code",
   "execution_count": 167,
   "metadata": {
    "collapsed": false
   },
   "outputs": [],
   "source": [
    "gdp1['GDPpercap'] = gdp1['GDPpercap'].str.replace('$', '')\n",
    "gdp1['GDPpercap'] = gdp1['GDPpercap'].str.replace(',', '')"
   ]
  },
  {
   "cell_type": "code",
   "execution_count": 173,
   "metadata": {
    "collapsed": false
   },
   "outputs": [
    {
     "name": "stderr",
     "output_type": "stream",
     "text": [
      "/Users/Lola/anaconda/lib/python2.7/site-packages/ipykernel/__main__.py:1: FutureWarning: convert_objects is deprecated.  Use the data-type specific converters pd.to_datetime, pd.to_timedelta and pd.to_numeric.\n",
      "  if __name__ == '__main__':\n"
     ]
    }
   ],
   "source": [
    "gdp1['GDPpercap'] = gdp1['GDPpercap'].convert_objects(convert_numeric=True)"
   ]
  },
  {
   "cell_type": "code",
   "execution_count": 174,
   "metadata": {
    "collapsed": false
   },
   "outputs": [
    {
     "data": {
      "text/plain": [
       "Country Name     object\n",
       "Year             object\n",
       "GDPpercap       float64\n",
       "dtype: object"
      ]
     },
     "execution_count": 174,
     "metadata": {},
     "output_type": "execute_result"
    }
   ],
   "source": [
    "gdp1.dtypes"
   ]
  },
  {
   "cell_type": "code",
   "execution_count": 175,
   "metadata": {
    "collapsed": false
   },
   "outputs": [
    {
     "data": {
      "text/html": [
       "<div>\n",
       "<table border=\"1\" class=\"dataframe\">\n",
       "  <thead>\n",
       "    <tr style=\"text-align: right;\">\n",
       "      <th></th>\n",
       "      <th>Country Name</th>\n",
       "      <th>Year</th>\n",
       "      <th>GDPpercap</th>\n",
       "    </tr>\n",
       "  </thead>\n",
       "  <tbody>\n",
       "    <tr>\n",
       "      <th>0</th>\n",
       "      <td>Afghanistan</td>\n",
       "      <td>1969</td>\n",
       "      <td>283.0</td>\n",
       "    </tr>\n",
       "    <tr>\n",
       "      <th>190</th>\n",
       "      <td>Afghanistan</td>\n",
       "      <td>1970</td>\n",
       "      <td>287.0</td>\n",
       "    </tr>\n",
       "    <tr>\n",
       "      <th>380</th>\n",
       "      <td>Afghanistan</td>\n",
       "      <td>1971</td>\n",
       "      <td>291.0</td>\n",
       "    </tr>\n",
       "    <tr>\n",
       "      <th>570</th>\n",
       "      <td>Afghanistan</td>\n",
       "      <td>1972</td>\n",
       "      <td>294.0</td>\n",
       "    </tr>\n",
       "    <tr>\n",
       "      <th>760</th>\n",
       "      <td>Afghanistan</td>\n",
       "      <td>1973</td>\n",
       "      <td>297.0</td>\n",
       "    </tr>\n",
       "  </tbody>\n",
       "</table>\n",
       "</div>"
      ],
      "text/plain": [
       "    Country Name  Year  GDPpercap\n",
       "0    Afghanistan  1969      283.0\n",
       "190  Afghanistan  1970      287.0\n",
       "380  Afghanistan  1971      291.0\n",
       "570  Afghanistan  1972      294.0\n",
       "760  Afghanistan  1973      297.0"
      ]
     },
     "execution_count": 175,
     "metadata": {},
     "output_type": "execute_result"
    }
   ],
   "source": [
    "gdp1.head()"
   ]
  },
  {
   "cell_type": "code",
   "execution_count": 176,
   "metadata": {
    "collapsed": false
   },
   "outputs": [],
   "source": [
    "leaders = pd.read_csv(\"../assets/csv/leaders.csv\")"
   ]
  },
  {
   "cell_type": "code",
   "execution_count": 177,
   "metadata": {
    "collapsed": false
   },
   "outputs": [
    {
     "data": {
      "text/html": [
       "<div>\n",
       "<table border=\"1\" class=\"dataframe\">\n",
       "  <thead>\n",
       "    <tr style=\"text-align: right;\">\n",
       "      <th></th>\n",
       "      <th>country</th>\n",
       "      <th>year</th>\n",
       "      <th>years in power</th>\n",
       "    </tr>\n",
       "  </thead>\n",
       "  <tbody>\n",
       "    <tr>\n",
       "      <th>0</th>\n",
       "      <td>Afghanistan</td>\n",
       "      <td>1946</td>\n",
       "      <td>13.0</td>\n",
       "    </tr>\n",
       "    <tr>\n",
       "      <th>1</th>\n",
       "      <td>Afghanistan</td>\n",
       "      <td>1947</td>\n",
       "      <td>14.0</td>\n",
       "    </tr>\n",
       "    <tr>\n",
       "      <th>2</th>\n",
       "      <td>Afghanistan</td>\n",
       "      <td>1948</td>\n",
       "      <td>15.0</td>\n",
       "    </tr>\n",
       "    <tr>\n",
       "      <th>3</th>\n",
       "      <td>Afghanistan</td>\n",
       "      <td>1949</td>\n",
       "      <td>16.0</td>\n",
       "    </tr>\n",
       "    <tr>\n",
       "      <th>4</th>\n",
       "      <td>Afghanistan</td>\n",
       "      <td>1950</td>\n",
       "      <td>17.0</td>\n",
       "    </tr>\n",
       "  </tbody>\n",
       "</table>\n",
       "</div>"
      ],
      "text/plain": [
       "       country  year  years in power \n",
       "0  Afghanistan  1946             13.0\n",
       "1  Afghanistan  1947             14.0\n",
       "2  Afghanistan  1948             15.0\n",
       "3  Afghanistan  1949             16.0\n",
       "4  Afghanistan  1950             17.0"
      ]
     },
     "execution_count": 177,
     "metadata": {},
     "output_type": "execute_result"
    }
   ],
   "source": [
    "leaders.head()"
   ]
  },
  {
   "cell_type": "code",
   "execution_count": null,
   "metadata": {
    "collapsed": false
   },
   "outputs": [],
   "source": [
    "leaders.shape"
   ]
  },
  {
   "cell_type": "code",
   "execution_count": null,
   "metadata": {
    "collapsed": false
   },
   "outputs": [],
   "source": [
    "leaders[[\"country\"] == \"Afghanistan\"]"
   ]
  },
  {
   "cell_type": "code",
   "execution_count": null,
   "metadata": {
    "collapsed": true
   },
   "outputs": [],
   "source": []
  }
 ],
 "metadata": {
  "anaconda-cloud": {},
  "kernelspec": {
   "display_name": "Python [Root]",
   "language": "python",
   "name": "Python [Root]"
  },
  "language_info": {
   "codemirror_mode": {
    "name": "ipython",
    "version": 2
   },
   "file_extension": ".py",
   "mimetype": "text/x-python",
   "name": "python",
   "nbconvert_exporter": "python",
   "pygments_lexer": "ipython2",
   "version": "2.7.12"
  }
 },
 "nbformat": 4,
 "nbformat_minor": 0
}
